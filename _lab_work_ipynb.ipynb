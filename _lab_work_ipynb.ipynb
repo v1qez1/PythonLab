{
  "nbformat": 4,
  "nbformat_minor": 0,
  "metadata": {
    "colab": {
      "provenance": [],
      "include_colab_link": true
    },
    "kernelspec": {
      "name": "python3",
      "display_name": "Python 3"
    },
    "language_info": {
      "name": "python"
    }
  },
  "cells": [
    {
      "cell_type": "markdown",
      "metadata": {
        "id": "view-in-github",
        "colab_type": "text"
      },
      "source": [
        "<a href=\"https://colab.research.google.com/github/v1qez1/PythonLab/blob/main/_lab_work_ipynb.ipynb\" target=\"_parent\"><img src=\"https://colab.research.google.com/assets/colab-badge.svg\" alt=\"Open In Colab\"/></a>"
      ]
    },
    {
      "cell_type": "markdown",
      "source": [
        "# Лабораторная работа"
      ],
      "metadata": {
        "id": "rloJD2luQnuQ"
      }
    },
    {
      "cell_type": "code",
      "source": [
        "# Всё необходимое для выполнения данной лабораторной работы!\n",
        "import requests\n",
        "from time import sleep\n",
        "\n",
        "import numpy as np\n",
        "import pandas as pd\n",
        "import matplotlib.pyplot as plt\n",
        "import seaborn as sns\n",
        "import plotly.express as px"
      ],
      "metadata": {
        "id": "1qzEqvohoZfB"
      },
      "execution_count": null,
      "outputs": []
    },
    {
      "cell_type": "markdown",
      "source": [
        "## Задание 1. Парсинг - 10 баллов"
      ],
      "metadata": {
        "id": "rB_FYHU2k8w-"
      }
    },
    {
      "cell_type": "markdown",
      "source": [
        "**Задача:**\n",
        "1. выбрать 5 интересующих вас профессий (не смежных, т.е. Аналатик и Data Engineer не считается корректным)\n",
        "2. затем получить доступные по данным профессиям вакансии в Москве и выделить их физические координаты\n",
        "3. нанести полученные координаты на карту местоположения компаний"
      ],
      "metadata": {
        "id": "-HAm80rqRqAZ"
      }
    },
    {
      "cell_type": "markdown",
      "source": [
        "*Пример запроса для профессии:*"
      ],
      "metadata": {
        "id": "H0GhQJvipXYj"
      }
    },
    {
      "cell_type": "code",
      "source": [
        "URL = 'https://api.hh.ru/vacancies'\n",
        "\n",
        "paramsch = {\n",
        "    'text': \"Переводчик китайского языка\",\n",
        "    'area': 1,\n",
        "}\n",
        "\n",
        "paramssp = {\n",
        "    'text': \"Переводчик испанского языка\",\n",
        "    'area': 1,\n",
        "}\n",
        "\n",
        "paramsfr = {\n",
        "    'text': \"Переводчик французского языка\",\n",
        "    'area': 1,\n",
        "}\n",
        "\n",
        "paramsit = {\n",
        "    'text': \"Переводчик итальянского языка\",\n",
        "    'area': 1,\n",
        "}\n",
        "\n",
        "paramsen = {\n",
        "    'text': \"Переводчик английского языка\",\n",
        "    'area': 1,\n",
        "}\n",
        "\n",
        "datach = requests.get(URL, paramsch).json()\n",
        "datasp = requests.get(URL, paramssp).json()\n",
        "datafr = requests.get(URL, paramsfr).json()\n",
        "datait = requests.get(URL, paramsit).json()\n",
        "dataen = requests.get(URL, paramsen).json()"
      ],
      "metadata": {
        "id": "aZLGoS_DpsXI"
      },
      "execution_count": null,
      "outputs": []
    },
    {
      "cell_type": "markdown",
      "source": [
        "Если Ваш запрос прошел успешно, то вы получите следующие ключи (значения данных ключей вы найдете по ссылке на документацию):"
      ],
      "metadata": {
        "id": "yHQtIBRQp91_"
      }
    },
    {
      "cell_type": "code",
      "source": [
        "datach.keys()"
      ],
      "metadata": {
        "colab": {
          "base_uri": "https://localhost:8080/"
        },
        "id": "DW6mxzggpvKw",
        "outputId": "796ffd9e-2b0f-4977-a1ba-6272357e335e"
      },
      "execution_count": null,
      "outputs": [
        {
          "output_type": "execute_result",
          "data": {
            "text/plain": [
              "dict_keys(['items', 'found', 'pages', 'per_page', 'page', 'clusters', 'arguments', 'alternate_url'])"
            ]
          },
          "metadata": {},
          "execution_count": 25
        }
      ]
    },
    {
      "cell_type": "markdown",
      "source": [
        "(1 балл) Выберете для нас 5 наиболее интересных специальностей и получите по ним имеющиеся вакансии:"
      ],
      "metadata": {
        "id": "JWvkFrh9qhkj"
      }
    },
    {
      "cell_type": "code",
      "source": [
        "print(datach['items'])\n",
        "print(datasp['items'])\n",
        "print(datait['items'])\n",
        "print(datafr['items'])\n",
        "print(dataen['items'])"
      ],
      "metadata": {
        "id": "_Nm-vyiBqugq",
        "colab": {
          "base_uri": "https://localhost:8080/"
        },
        "outputId": "67d124bf-47a0-48b1-f8be-b2bd0dc3bfed"
      },
      "execution_count": null,
      "outputs": [
        {
          "output_type": "stream",
          "name": "stdout",
          "text": [
            "[{'id': '80291991', 'premium': False, 'name': 'Переводчик с китайского языка', 'department': None, 'has_test': False, 'response_letter_required': False, 'area': {'id': '1', 'name': 'Москва', 'url': 'https://api.hh.ru/areas/1'}, 'salary': None, 'type': {'id': 'anonymous', 'name': 'Анонимная'}, 'address': None, 'response_url': None, 'sort_point_distance': None, 'published_at': '2023-05-11T11:45:00+0300', 'created_at': '2023-05-11T11:45:00+0300', 'archived': False, 'apply_alternate_url': 'https://hh.ru/applicant/vacancy_response?vacancyId=80291991', 'insider_interview': None, 'url': 'https://api.hh.ru/vacancies/80291991?host=hh.ru', 'adv_response_url': None, 'alternate_url': 'https://hh.ru/vacancy/80291991', 'relations': [], 'employer': {'name': 'Крупный российский бизнес', 'trusted': True}, 'snippet': {'requirement': 'Высшее образование. Свободное владение китайским языком (устно и письменно). Опыт работы в сфере перевода. Правила ведения деловой переписки. ', 'responsibility': 'Обеспечивать устную и письменную коммуникацию.'}, 'contacts': None, 'schedule': None, 'working_days': [], 'working_time_intervals': [], 'working_time_modes': [], 'accept_temporary': False, 'professional_roles': [{'id': '93', 'name': 'Переводчик'}], 'accept_incomplete_resumes': False, 'experience': {'id': 'between3And6', 'name': 'От 3 до 6 лет'}, 'employment': {'id': 'full', 'name': 'Полная занятость'}}, {'id': '79980278', 'premium': False, 'name': 'Переводчик китайского языка', 'department': None, 'has_test': False, 'response_letter_required': False, 'area': {'id': '1', 'name': 'Москва', 'url': 'https://api.hh.ru/areas/1'}, 'salary': {'from': 100000, 'to': 200000, 'currency': 'RUR', 'gross': False}, 'type': {'id': 'open', 'name': 'Открытая'}, 'address': None, 'response_url': None, 'sort_point_distance': None, 'published_at': '2023-05-02T11:40:47+0300', 'created_at': '2023-05-02T11:40:47+0300', 'archived': False, 'apply_alternate_url': 'https://hh.ru/applicant/vacancy_response?vacancyId=79980278', 'insider_interview': None, 'url': 'https://api.hh.ru/vacancies/79980278?host=hh.ru', 'adv_response_url': None, 'alternate_url': 'https://hh.ru/vacancy/79980278', 'relations': [], 'employer': {'id': '9441517', 'name': 'Чемпион', 'url': 'https://api.hh.ru/employers/9441517', 'alternate_url': 'https://hh.ru/employer/9441517', 'logo_urls': None, 'vacancies_url': 'https://api.hh.ru/vacancies?employer_id=9441517', 'trusted': True}, 'snippet': {'requirement': 'Знание китайского языка, английский язык будет преимуществом. Законченное высшее образование. Грамотная, деловая речь, дипломатичность. Знание ПК на высшем уровне: Word...', 'responsibility': 'Устный и/или письменный перевод. Последовательный перевод во время деловых встреч. Переводы текстов, писем и документации. Сопровождение на переговорах и...'}, 'contacts': None, 'schedule': None, 'working_days': [], 'working_time_intervals': [], 'working_time_modes': [], 'accept_temporary': False, 'professional_roles': [{'id': '40', 'name': 'Другое'}], 'accept_incomplete_resumes': True, 'experience': {'id': 'between1And3', 'name': 'От 1 года до 3 лет'}, 'employment': {'id': 'full', 'name': 'Полная занятость'}}, {'id': '79951670', 'premium': False, 'name': 'Модельный агент', 'department': None, 'has_test': False, 'response_letter_required': False, 'area': {'id': '1', 'name': 'Москва', 'url': 'https://api.hh.ru/areas/1'}, 'salary': {'from': 120000, 'to': None, 'currency': 'RUR', 'gross': False}, 'type': {'id': 'open', 'name': 'Открытая'}, 'address': None, 'response_url': None, 'sort_point_distance': None, 'published_at': '2023-05-01T10:55:51+0300', 'created_at': '2023-05-01T10:55:51+0300', 'archived': False, 'apply_alternate_url': 'https://hh.ru/applicant/vacancy_response?vacancyId=79951670', 'insider_interview': None, 'url': 'https://api.hh.ru/vacancies/79951670?host=hh.ru', 'adv_response_url': None, 'alternate_url': 'https://hh.ru/vacancy/79951670', 'relations': [], 'employer': {'id': '9811130', 'name': 'Henglan', 'url': 'https://api.hh.ru/employers/9811130', 'alternate_url': 'https://hh.ru/employer/9811130', 'logo_urls': {'90': 'https://hhcdn.ru/employer-logo/5991393.jpeg', '240': 'https://hhcdn.ru/employer-logo/5991394.jpeg', 'original': 'https://hhcdn.ru/employer-logo-original/1092693.jpg'}, 'vacancies_url': 'https://api.hh.ru/vacancies?employer_id=9811130', 'trusted': False}, 'snippet': {'requirement': 'Бесконечный процесс развития и усовершенствования навыков организации и ведения переговоров. - Желает работать и развиваться в индустрии моды и красоты. - ', 'responsibility': 'Посещение мероприятий с целью поиска и привлечения инвесторов. Ведение переговоров. Организация бизнес встреч. Сопровождение подписания контрактов с инвесторами и моделями. '}, 'contacts': None, 'schedule': None, 'working_days': [], 'working_time_intervals': [], 'working_time_modes': [], 'accept_temporary': False, 'professional_roles': [{'id': '110', 'name': 'Секретарь, помощник руководителя, ассистент'}], 'accept_incomplete_resumes': True, 'experience': {'id': 'noExperience', 'name': 'Нет опыта'}, 'employment': {'id': 'full', 'name': 'Полная занятость'}}, {'id': '80322971', 'premium': False, 'name': 'Ночной переводчик китайского языка', 'department': None, 'has_test': False, 'response_letter_required': True, 'area': {'id': '1', 'name': 'Москва', 'url': 'https://api.hh.ru/areas/1'}, 'salary': None, 'type': {'id': 'open', 'name': 'Открытая'}, 'address': None, 'response_url': None, 'sort_point_distance': None, 'published_at': '2023-05-11T18:50:33+0300', 'created_at': '2023-05-11T18:50:33+0300', 'archived': False, 'apply_alternate_url': 'https://hh.ru/applicant/vacancy_response?vacancyId=80322971', 'insider_interview': None, 'url': 'https://api.hh.ru/vacancies/80322971?host=hh.ru', 'adv_response_url': None, 'alternate_url': 'https://hh.ru/vacancy/80322971', 'relations': [], 'employer': {'id': '2637711', 'name': 'AWATERA', 'url': 'https://api.hh.ru/employers/2637711', 'alternate_url': 'https://hh.ru/employer/2637711', 'logo_urls': {'240': 'https://hhcdn.ru/employer-logo/5733357.png', '90': 'https://hhcdn.ru/employer-logo/5733356.png', 'original': 'https://hhcdn.ru/employer-logo-original/1028149.png'}, 'vacancies_url': 'https://api.hh.ru/vacancies?employer_id=2637711', 'trusted': True}, 'snippet': {'requirement': 'Опыт работы переводчиком/редактором. Готовность работать с 04:00 до 10:00 мск. Умение оформлять перевод под нотариальное заверение. ', 'responsibility': 'Перевод в направлении китайский<->русский.'}, 'contacts': None, 'schedule': None, 'working_days': [], 'working_time_intervals': [], 'working_time_modes': [], 'accept_temporary': True, 'professional_roles': [{'id': '93', 'name': 'Переводчик'}], 'accept_incomplete_resumes': False, 'experience': {'id': 'between1And3', 'name': 'От 1 года до 3 лет'}, 'employment': {'id': 'part', 'name': 'Частичная занятость'}}, {'id': '77749092', 'premium': False, 'name': 'Помощник руководителя со знанием китайского языка (тяжелое машиностроение)', 'department': None, 'has_test': False, 'response_letter_required': False, 'area': {'id': '1', 'name': 'Москва', 'url': 'https://api.hh.ru/areas/1'}, 'salary': {'from': 150000, 'to': 170000, 'currency': 'RUR', 'gross': True}, 'type': {'id': 'open', 'name': 'Открытая'}, 'address': {'city': 'Москва', 'street': 'Центральный административный округ, Красносельский район, Каланчёвская улица', 'building': '15', 'lat': 55.77152, 'lng': 37.651502, 'description': None, 'raw': 'Москва, Центральный административный округ, Красносельский район, Каланчёвская улица, 15', 'metro': {'station_name': 'Комсомольская', 'line_name': 'Сокольническая', 'station_id': '1.54', 'line_id': '1', 'lat': 55.774072, 'lng': 37.654565}, 'metro_stations': [{'station_name': 'Комсомольская', 'line_name': 'Сокольническая', 'station_id': '1.54', 'line_id': '1', 'lat': 55.774072, 'lng': 37.654565}, {'station_name': 'Комсомольская', 'line_name': 'Кольцевая', 'station_id': '5.55', 'line_id': '5', 'lat': 55.775672, 'lng': 37.654772}, {'station_name': 'Красные ворота', 'line_name': 'Сокольническая', 'station_id': '1.61', 'line_id': '1', 'lat': 55.768307, 'lng': 37.6478}], 'id': '12866570'}, 'response_url': None, 'sort_point_distance': None, 'published_at': '2023-05-02T15:30:13+0300', 'created_at': '2023-05-02T15:30:13+0300', 'archived': False, 'apply_alternate_url': 'https://hh.ru/applicant/vacancy_response?vacancyId=77749092', 'insider_interview': None, 'url': 'https://api.hh.ru/vacancies/77749092?host=hh.ru', 'adv_response_url': None, 'alternate_url': 'https://hh.ru/vacancy/77749092', 'relations': [], 'employer': {'id': '708', 'name': 'Фаворит, Международный кадровый центр', 'url': 'https://api.hh.ru/employers/708', 'alternate_url': 'https://hh.ru/employer/708', 'logo_urls': {'original': 'https://hhcdn.ru/employer-logo-original/654939.JPEG', '90': 'https://hhcdn.ru/employer-logo/3060904.jpeg', '240': 'https://hhcdn.ru/employer-logo/3060905.jpeg'}, 'vacancies_url': 'https://api.hh.ru/vacancies?employer_id=708', 'trusted': True}, 'snippet': {'requirement': 'Высшее образование. Свободный разговорный и письменный китайский язык, не ниже HSK 5. Знание технического китайского языка (желательно сфера тяжелого машиностроения). ', 'responsibility': 'Помощь в организации и проведении выставок, участие в выставках. Работа <highlighttext>переводчиком</highlighttext> (русский и <highlighttext>китайские</highlighttext> <highlighttext>языки</highlighttext>) по всем запросам. Руководителя. '}, 'contacts': None, 'schedule': None, 'working_days': [], 'working_time_intervals': [], 'working_time_modes': [], 'accept_temporary': False, 'professional_roles': [{'id': '93', 'name': 'Переводчик'}], 'accept_incomplete_resumes': False, 'experience': {'id': 'between1And3', 'name': 'От 1 года до 3 лет'}, 'employment': {'id': 'full', 'name': 'Полная занятость'}}, {'id': '80060483', 'premium': False, 'name': 'Переводчик с китайского и английского языков', 'department': None, 'has_test': False, 'response_letter_required': False, 'area': {'id': '1', 'name': 'Москва', 'url': 'https://api.hh.ru/areas/1'}, 'salary': {'from': 40000, 'to': None, 'currency': 'RUR', 'gross': False}, 'type': {'id': 'open', 'name': 'Открытая'}, 'address': None, 'response_url': None, 'sort_point_distance': None, 'published_at': '2023-05-12T16:04:36+0300', 'created_at': '2023-05-12T16:04:36+0300', 'archived': False, 'apply_alternate_url': 'https://hh.ru/applicant/vacancy_response?vacancyId=80060483', 'insider_interview': None, 'url': 'https://api.hh.ru/vacancies/80060483?host=hh.ru', 'adv_response_url': None, 'alternate_url': 'https://hh.ru/vacancy/80060483', 'relations': [], 'employer': {'id': '4019147', 'name': 'Бюро переводов Win-Win', 'url': 'https://api.hh.ru/employers/4019147', 'alternate_url': 'https://hh.ru/employer/4019147', 'logo_urls': None, 'vacancies_url': 'https://api.hh.ru/vacancies?employer_id=4019147', 'trusted': True}, 'snippet': {'requirement': 'письменный перевод текстов преимущественно юридической направленности и личных документов: документы об образовании (дипломы, аттестаты, табели успеваемости), свидетельства, доверенности, договоры, презентации...', 'responsibility': 'Основное направление перевода: 60% - c китайского на русский, 10% с русского на китайский, 30% - c русского на английский и обратно. - '}, 'contacts': None, 'schedule': None, 'working_days': [], 'working_time_intervals': [], 'working_time_modes': [], 'accept_temporary': True, 'professional_roles': [{'id': '93', 'name': 'Переводчик'}], 'accept_incomplete_resumes': False, 'experience': {'id': 'between1And3', 'name': 'От 1 года до 3 лет'}, 'employment': {'id': 'full', 'name': 'Полная занятость'}}, {'id': '76927871', 'premium': False, 'name': 'Редактор со знанием китайского языка', 'department': None, 'has_test': False, 'response_letter_required': False, 'area': {'id': '1', 'name': 'Москва', 'url': 'https://api.hh.ru/areas/1'}, 'salary': None, 'type': {'id': 'open', 'name': 'Открытая'}, 'address': {'city': 'Москва', 'street': 'Матросская Тишина', 'building': '23, стр. 1', 'lat': 55.793414, 'lng': 37.698538, 'description': None, 'raw': 'Москва, Матросская Тишина, 23, стр. 1', 'metro': {'station_name': 'Преображенская площадь', 'line_name': 'Сокольническая', 'station_id': '1.117', 'line_id': '1', 'lat': 55.796322, 'lng': 37.713582}, 'metro_stations': [{'station_name': 'Преображенская площадь', 'line_name': 'Сокольническая', 'station_id': '1.117', 'line_id': '1', 'lat': 55.796322, 'lng': 37.713582}], 'id': '22380'}, 'response_url': None, 'sort_point_distance': None, 'published_at': '2023-04-14T14:05:07+0300', 'created_at': '2023-04-14T14:05:07+0300', 'archived': False, 'apply_alternate_url': 'https://hh.ru/applicant/vacancy_response?vacancyId=76927871', 'insider_interview': None, 'url': 'https://api.hh.ru/vacancies/76927871?host=hh.ru', 'adv_response_url': None, 'alternate_url': 'https://hh.ru/vacancy/76927871', 'relations': [], 'employer': {'id': '10161', 'name': 'NEOTECH', 'url': 'https://api.hh.ru/employers/10161', 'alternate_url': 'https://hh.ru/employer/10161', 'logo_urls': {'90': 'https://hhcdn.ru/employer-logo/311760.png', '240': 'https://hhcdn.ru/employer-logo/384617.png', 'original': 'https://hhcdn.ru/employer-logo-original/229868.gif'}, 'vacancies_url': 'https://api.hh.ru/vacancies?employer_id=10161', 'trusted': True}, 'snippet': {'requirement': 'Уверенное владение письменным китайским и английским языками. Нам подойдет специалист, который свободно работает с источниками на указанных языках, причем не...', 'responsibility': 'Участие в отладке и совершенствовании процессов перевода текстов с китайского <highlighttext>языка</highlighttext> и на <highlighttext>китайский</highlighttext> <highlighttext>язык</highlighttext>. Оценка <highlighttext>переводчиков</highlighttext> и рекомендации по...'}, 'contacts': None, 'schedule': None, 'working_days': [], 'working_time_intervals': [], 'working_time_modes': [], 'accept_temporary': False, 'professional_roles': [{'id': '93', 'name': 'Переводчик'}], 'accept_incomplete_resumes': False, 'experience': {'id': 'moreThan6', 'name': 'Более 6 лет'}, 'employment': {'id': 'full', 'name': 'Полная занятость'}}, {'id': '79308503', 'premium': False, 'name': 'Переводчик китайского языка', 'department': None, 'has_test': False, 'response_letter_required': False, 'area': {'id': '1', 'name': 'Москва', 'url': 'https://api.hh.ru/areas/1'}, 'salary': None, 'type': {'id': 'open', 'name': 'Открытая'}, 'address': {'city': 'Москва', 'street': 'Новомещерский проезд', 'building': '11с1', 'lat': 55.657352, 'lng': 37.368038, 'description': None, 'raw': 'Москва, Новомещерский проезд, 11с1', 'metro': None, 'metro_stations': [], 'id': '485581'}, 'response_url': None, 'sort_point_distance': None, 'published_at': '2023-04-14T13:59:16+0300', 'created_at': '2023-04-14T13:59:16+0300', 'archived': False, 'apply_alternate_url': 'https://hh.ru/applicant/vacancy_response?vacancyId=79308503', 'insider_interview': None, 'url': 'https://api.hh.ru/vacancies/79308503?host=hh.ru', 'adv_response_url': None, 'alternate_url': 'https://hh.ru/vacancy/79308503', 'relations': [], 'employer': {'id': '1534187', 'name': 'СюйГун Ру', 'url': 'https://api.hh.ru/employers/1534187', 'alternate_url': 'https://hh.ru/employer/1534187', 'logo_urls': {'240': 'https://hhcdn.ru/employer-logo/1062897.jpeg', 'original': 'https://hhcdn.ru/employer-logo-original/13091.jpg', '90': 'https://hhcdn.ru/employer-logo/1062896.jpeg'}, 'vacancies_url': 'https://api.hh.ru/vacancies?employer_id=1534187', 'trusted': True}, 'snippet': {'requirement': 'Требуемый опыт работы: от 3 лет. Высшее профессиональное образование, желательно по направлению технический перевод. Высокий уровень знания китайского языка. ', 'responsibility': '<highlighttext>Переводчик</highlighttext> <highlighttext>китайского</highlighttext> <highlighttext>языка</highlighttext> (технический перевод). Обязанности: Грамотный профессиональный письменный перевод различного рода документов. Устный перевод встреч с использованием технической лексики. '}, 'contacts': None, 'schedule': None, 'working_days': [], 'working_time_intervals': [], 'working_time_modes': [], 'accept_temporary': True, 'professional_roles': [{'id': '93', 'name': 'Переводчик'}], 'accept_incomplete_resumes': False, 'experience': {'id': 'between3And6', 'name': 'От 3 до 6 лет'}, 'employment': {'id': 'full', 'name': 'Полная занятость'}}, {'id': '80097974', 'premium': False, 'name': 'Переводчик с китайского языка', 'department': None, 'has_test': False, 'response_letter_required': False, 'area': {'id': '1', 'name': 'Москва', 'url': 'https://api.hh.ru/areas/1'}, 'salary': {'from': 90000, 'to': 110000, 'currency': 'RUR', 'gross': True}, 'type': {'id': 'open', 'name': 'Открытая'}, 'address': None, 'response_url': None, 'sort_point_distance': None, 'published_at': '2023-05-13T12:43:19+0300', 'created_at': '2023-05-13T12:43:19+0300', 'archived': False, 'apply_alternate_url': 'https://hh.ru/applicant/vacancy_response?vacancyId=80097974', 'insider_interview': None, 'url': 'https://api.hh.ru/vacancies/80097974?host=hh.ru', 'adv_response_url': None, 'alternate_url': 'https://hh.ru/vacancy/80097974', 'relations': [], 'employer': {'id': '3398586', 'name': 'ХЭППИНЭСС', 'url': 'https://api.hh.ru/employers/3398586', 'alternate_url': 'https://hh.ru/employer/3398586', 'logo_urls': {'original': 'https://hhcdn.ru/employer-logo-original/932516.jpg', '240': 'https://hhcdn.ru/employer-logo/4170617.jpeg', '90': 'https://hhcdn.ru/employer-logo/4170616.jpeg'}, 'vacancies_url': 'https://api.hh.ru/vacancies?employer_id=3398586', 'trusted': True}, 'snippet': {'requirement': 'HSK-5 минимум. Умение работать с компьютером. Ответственность. Исполнительность. Готовность к частым командировкам (важно).', 'responsibility': 'Устный перевод переговоров и онлайн конференций. Приём звонков. Письменный перевод переписки/документов. Распределение и обработка документации. Выполнение поручений по офису. '}, 'contacts': None, 'schedule': None, 'working_days': [], 'working_time_intervals': [], 'working_time_modes': [], 'accept_temporary': False, 'professional_roles': [{'id': '93', 'name': 'Переводчик'}], 'accept_incomplete_resumes': False, 'experience': {'id': 'noExperience', 'name': 'Нет опыта'}, 'employment': {'id': 'full', 'name': 'Полная занятость'}}, {'id': '80337636', 'premium': False, 'name': 'Младший финансовый аналитик', 'department': {'id': '733-733-dihouse', 'name': 'diHouse (ГК ЛАНИТ)'}, 'has_test': False, 'response_letter_required': False, 'area': {'id': '1', 'name': 'Москва', 'url': 'https://api.hh.ru/areas/1'}, 'salary': None, 'type': {'id': 'open', 'name': 'Открытая'}, 'address': {'city': None, 'street': None, 'building': None, 'lat': None, 'lng': None, 'description': None, 'raw': None, 'metro': {'station_name': 'Алексеевская', 'line_name': 'Калужско-Рижская', 'station_id': '6.8', 'line_id': '6', 'lat': 55.807794, 'lng': 37.638699}, 'metro_stations': [{'station_name': 'Алексеевская', 'line_name': 'Калужско-Рижская', 'station_id': '6.8', 'line_id': '6', 'lat': 55.807794, 'lng': 37.638699}, {'station_name': 'Марьина Роща', 'line_name': 'Люблинско-Дмитровская', 'station_id': '10.185', 'line_id': '10', 'lat': 55.793723, 'lng': 37.61618}, {'station_name': 'Рижская', 'line_name': 'Калужско-Рижская', 'station_id': '6.126', 'line_id': '6', 'lat': 55.792494, 'lng': 37.636114}], 'id': '5616222'}, 'response_url': None, 'sort_point_distance': None, 'published_at': '2023-05-12T18:07:26+0300', 'created_at': '2023-05-12T18:07:26+0300', 'archived': False, 'apply_alternate_url': 'https://hh.ru/applicant/vacancy_response?vacancyId=80337636', 'insider_interview': None, 'url': 'https://api.hh.ru/vacancies/80337636?host=hh.ru', 'adv_response_url': None, 'alternate_url': 'https://hh.ru/vacancy/80337636', 'relations': [], 'employer': {'id': '733', 'name': 'ЛАНИТ', 'url': 'https://api.hh.ru/employers/733', 'alternate_url': 'https://hh.ru/employer/733', 'logo_urls': {'240': 'https://hhcdn.ru/employer-logo/2627354.jpeg', '90': 'https://hhcdn.ru/employer-logo/2627353.jpeg', 'original': 'https://hhcdn.ru/employer-logo-original/546470.jpg'}, 'vacancies_url': 'https://api.hh.ru/vacancies?employer_id=733', 'trusted': True}, 'snippet': {'requirement': 'Знание китайского и турецкого <highlighttext>языков</highlighttext> приветствуются. Владение программами-<highlighttext>переводчиками</highlighttext> (с <highlighttext>китайского</highlighttext> и турецкого <highlighttext>языков</highlighttext>). Знание MS Office (хорошее знание Excel). ', 'responsibility': 'Сбор и обработка входящих заявок на проверку контрагентов по электронной почте, структурирование заявок и их приоритизация. Сбор информации о контрагентах...'}, 'contacts': None, 'schedule': None, 'working_days': [], 'working_time_intervals': [], 'working_time_modes': [], 'accept_temporary': False, 'professional_roles': [{'id': '134', 'name': 'Финансовый аналитик, инвестиционный аналитик'}], 'accept_incomplete_resumes': False, 'experience': {'id': 'between1And3', 'name': 'От 1 года до 3 лет'}, 'employment': {'id': 'full', 'name': 'Полная занятость'}}, {'id': '80215695', 'premium': False, 'name': 'Переводчик с китайского языка', 'department': None, 'has_test': False, 'response_letter_required': False, 'area': {'id': '1', 'name': 'Москва', 'url': 'https://api.hh.ru/areas/1'}, 'salary': {'from': 100000, 'to': None, 'currency': 'RUR', 'gross': False}, 'type': {'id': 'open', 'name': 'Открытая'}, 'address': {'city': 'Москва', 'street': 'Головинское шоссе', 'building': '5А', 'lat': 55.839855, 'lng': 37.490272, 'description': None, 'raw': 'Москва, Головинское шоссе, 5А', 'metro': {'station_name': 'Водный стадион', 'line_name': 'Замоскворецкая', 'station_id': '2.29', 'line_id': '2', 'lat': 55.838978, 'lng': 37.487515}, 'metro_stations': [{'station_name': 'Водный стадион', 'line_name': 'Замоскворецкая', 'station_id': '2.29', 'line_id': '2', 'lat': 55.838978, 'lng': 37.487515}], 'id': '11692935'}, 'response_url': None, 'sort_point_distance': None, 'published_at': '2023-05-10T09:39:03+0300', 'created_at': '2023-05-10T09:39:03+0300', 'archived': False, 'apply_alternate_url': 'https://hh.ru/applicant/vacancy_response?vacancyId=80215695', 'insider_interview': None, 'url': 'https://api.hh.ru/vacancies/80215695?host=hh.ru', 'adv_response_url': None, 'alternate_url': 'https://hh.ru/vacancy/80215695', 'relations': [], 'employer': {'id': '9184135', 'name': 'CNC ELECTRIC', 'url': 'https://api.hh.ru/employers/9184135', 'alternate_url': 'https://hh.ru/employer/9184135', 'logo_urls': {'original': 'https://hhcdn.ru/employer-logo-original/1006346.png', '90': 'https://hhcdn.ru/employer-logo/5646164.png', '240': 'https://hhcdn.ru/employer-logo/5646165.png'}, 'vacancies_url': 'https://api.hh.ru/vacancies?employer_id=9184135', 'trusted': False}, 'snippet': {'requirement': 'Уровень владения китайским языком не ниже HSK 5. Обязателен опыт проживания в Китае не менее 3х лет. ', 'responsibility': 'Работа в представительстве китайской компании CNC Electric. Устный и письменный перевод для коммуникации между российскими и китайскими сотрудниками, в ежедневном...'}, 'contacts': None, 'schedule': None, 'working_days': [], 'working_time_intervals': [], 'working_time_modes': [], 'accept_temporary': False, 'professional_roles': [{'id': '93', 'name': 'Переводчик'}], 'accept_incomplete_resumes': False, 'experience': {'id': 'between3And6', 'name': 'От 3 до 6 лет'}, 'employment': {'id': 'full', 'name': 'Полная занятость'}}, {'id': '80227653', 'premium': False, 'name': 'Переводчик с китайского языка/специалист по связям с общественностью', 'department': None, 'has_test': False, 'response_letter_required': False, 'area': {'id': '1', 'name': 'Москва', 'url': 'https://api.hh.ru/areas/1'}, 'salary': {'from': 60000, 'to': 60000, 'currency': 'RUR', 'gross': False}, 'type': {'id': 'open', 'name': 'Открытая'}, 'address': {'city': 'Москва', 'street': 'улица Кржижановского', 'building': '14к3', 'lat': 55.679433, 'lng': 37.566952, 'description': None, 'raw': 'Москва, улица Кржижановского, 14к3', 'metro': {'station_name': 'Профсоюзная', 'line_name': 'Калужско-Рижская', 'station_id': '6.121', 'line_id': '6', 'lat': 55.677671, 'lng': 37.562595}, 'metro_stations': [{'station_name': 'Профсоюзная', 'line_name': 'Калужско-Рижская', 'station_id': '6.121', 'line_id': '6', 'lat': 55.677671, 'lng': 37.562595}], 'id': '12026912'}, 'response_url': None, 'sort_point_distance': None, 'published_at': '2023-05-10T11:33:50+0300', 'created_at': '2023-05-10T11:33:50+0300', 'archived': False, 'apply_alternate_url': 'https://hh.ru/applicant/vacancy_response?vacancyId=80227653', 'insider_interview': None, 'url': 'https://api.hh.ru/vacancies/80227653?host=hh.ru', 'adv_response_url': None, 'alternate_url': 'https://hh.ru/vacancy/80227653', 'relations': [], 'employer': {'id': '9297733', 'name': 'Национальный туристический офис Китая в г.Москва', 'url': 'https://api.hh.ru/employers/9297733', 'alternate_url': 'https://hh.ru/employer/9297733', 'logo_urls': {'240': 'https://hhcdn.ru/employer-logo/5708653.png', '90': 'https://hhcdn.ru/employer-logo/5708652.png', 'original': 'https://hhcdn.ru/employer-logo-original/1021971.png'}, 'vacancies_url': 'https://api.hh.ru/vacancies?employer_id=9297733', 'trusted': True}, 'snippet': {'requirement': 'Высшее образование. Китайский язык HSK 4-6. Опытный пользователь ПК.', 'responsibility': 'Устный, письменный перевод (китайский). Участие в организации и проведении мероприятий в сфере туризма и культуры. Ведение деловой переписки с госорганами...'}, 'contacts': None, 'schedule': None, 'working_days': [], 'working_time_intervals': [], 'working_time_modes': [], 'accept_temporary': False, 'professional_roles': [{'id': '93', 'name': 'Переводчик'}], 'accept_incomplete_resumes': False, 'experience': {'id': 'between1And3', 'name': 'От 1 года до 3 лет'}, 'employment': {'id': 'full', 'name': 'Полная занятость'}}, {'id': '79412788', 'premium': False, 'name': 'Переводчик китайского языка', 'department': None, 'has_test': False, 'response_letter_required': False, 'area': {'id': '1', 'name': 'Москва', 'url': 'https://api.hh.ru/areas/1'}, 'salary': {'from': 120000, 'to': None, 'currency': 'RUR', 'gross': False}, 'type': {'id': 'open', 'name': 'Открытая'}, 'address': {'city': 'Москва', 'street': 'проспект Андропова', 'building': '18к5', 'lat': 55.692328, 'lng': 37.663009, 'description': None, 'raw': 'Москва, проспект Андропова, 18к5', 'metro': None, 'metro_stations': [], 'id': '12914299'}, 'response_url': None, 'sort_point_distance': None, 'published_at': '2023-05-11T16:16:33+0300', 'created_at': '2023-05-11T16:16:33+0300', 'archived': False, 'apply_alternate_url': 'https://hh.ru/applicant/vacancy_response?vacancyId=79412788', 'insider_interview': None, 'url': 'https://api.hh.ru/vacancies/79412788?host=hh.ru', 'adv_response_url': None, 'alternate_url': 'https://hh.ru/vacancy/79412788', 'relations': [], 'employer': {'id': '5408414', 'name': 'Wayz Intelligent Manufacturing Technology Co.Ltd', 'url': 'https://api.hh.ru/employers/5408414', 'alternate_url': 'https://hh.ru/employer/5408414', 'logo_urls': {'240': 'https://hhcdn.ru/employer-logo/4244549.png', '90': 'https://hhcdn.ru/employer-logo/4244548.png', 'original': 'https://hhcdn.ru/employer-logo-original/951004.png'}, 'vacancies_url': 'https://api.hh.ru/vacancies?employer_id=5408414', 'trusted': True}, 'snippet': {'requirement': 'Профильное (высшее лингвистическое) образование (китайский язык). Дополнительное техническое образование будет являться значительным преимуществом. Грамотный и быстрый письменный перевод, навыки устного...', 'responsibility': 'Основная работа: письменный перевод технической документации (документация по конвейерному, складскому оборудованию, чертежи, инструкции, описания). Устный последовательный перевод c китайского на...'}, 'contacts': None, 'schedule': None, 'working_days': [], 'working_time_intervals': [], 'working_time_modes': [], 'accept_temporary': False, 'professional_roles': [{'id': '93', 'name': 'Переводчик'}], 'accept_incomplete_resumes': False, 'experience': {'id': 'between1And3', 'name': 'От 1 года до 3 лет'}, 'employment': {'id': 'full', 'name': 'Полная занятость'}}, {'id': '80372607', 'premium': False, 'name': 'Переводчик с китайского языка', 'department': None, 'has_test': False, 'response_letter_required': False, 'area': {'id': '1', 'name': 'Москва', 'url': 'https://api.hh.ru/areas/1'}, 'salary': {'from': 80000, 'to': None, 'currency': 'RUR', 'gross': True}, 'type': {'id': 'open', 'name': 'Открытая'}, 'address': {'city': 'Москва', 'street': 'Сокольническая линия', 'building': 'метро Румянцево', 'lat': 55.633028, 'lng': 37.441404, 'description': None, 'raw': 'Москва, Сокольническая линия, метро Румянцево', 'metro': {'station_name': 'Румянцево', 'line_name': 'Сокольническая', 'station_id': '1.513', 'line_id': '1', 'lat': 55.633, 'lng': 37.4419}, 'metro_stations': [{'station_name': 'Румянцево', 'line_name': 'Сокольническая', 'station_id': '1.513', 'line_id': '1', 'lat': 55.633, 'lng': 37.4419}], 'id': '7580277'}, 'response_url': None, 'sort_point_distance': None, 'published_at': '2023-05-12T17:05:11+0300', 'created_at': '2023-05-12T17:05:11+0300', 'archived': False, 'apply_alternate_url': 'https://hh.ru/applicant/vacancy_response?vacancyId=80372607', 'insider_interview': None, 'url': 'https://api.hh.ru/vacancies/80372607?host=hh.ru', 'adv_response_url': None, 'alternate_url': 'https://hh.ru/vacancy/80372607', 'relations': [], 'employer': {'id': '6130907', 'name': 'Лаиска', 'url': 'https://api.hh.ru/employers/6130907', 'alternate_url': 'https://hh.ru/employer/6130907', 'logo_urls': {'90': 'https://hhcdn.ru/employer-logo/4263144.jpeg', '240': 'https://hhcdn.ru/employer-logo/4263145.jpeg', 'original': 'https://hhcdn.ru/employer-logo-original/955654.jpg'}, 'vacancies_url': 'https://api.hh.ru/vacancies?employer_id=6130907', 'trusted': False}, 'snippet': {'requirement': 'Профильное (высшее лингвистическое) образование (китайский язык). Грамотный и быстрый письменный перевод, навыки устного последовательного перевода. Опыт работы на аналогичной позиции...', 'responsibility': 'Письменный перевод технической документации. Устный последовательный перевод c китайского на русский язык и с русского языка на китайский язык в...'}, 'contacts': None, 'schedule': None, 'working_days': [], 'working_time_intervals': [], 'working_time_modes': [], 'accept_temporary': False, 'professional_roles': [{'id': '93', 'name': 'Переводчик'}], 'accept_incomplete_resumes': False, 'experience': {'id': 'between1And3', 'name': 'От 1 года до 3 лет'}, 'employment': {'id': 'full', 'name': 'Полная занятость'}}, {'id': '79511613', 'premium': False, 'name': 'Переводчик китайского языка', 'department': None, 'has_test': False, 'response_letter_required': False, 'area': {'id': '1', 'name': 'Москва', 'url': 'https://api.hh.ru/areas/1'}, 'salary': None, 'type': {'id': 'open', 'name': 'Открытая'}, 'address': None, 'response_url': None, 'sort_point_distance': None, 'published_at': '2023-04-19T10:53:19+0300', 'created_at': '2023-04-19T10:53:19+0300', 'archived': False, 'apply_alternate_url': 'https://hh.ru/applicant/vacancy_response?vacancyId=79511613', 'insider_interview': None, 'url': 'https://api.hh.ru/vacancies/79511613?host=hh.ru', 'adv_response_url': None, 'alternate_url': 'https://hh.ru/vacancy/79511613', 'relations': [], 'employer': {'id': '35660', 'name': 'Moscow Translation Agency', 'url': 'https://api.hh.ru/employers/35660', 'alternate_url': 'https://hh.ru/employer/35660', 'logo_urls': {'original': 'https://hhcdn.ru/employer-logo-original/224683.png', '240': 'https://hhcdn.ru/employer-logo/468697.png', '90': 'https://hhcdn.ru/employer-logo/468696.png'}, 'vacancies_url': 'https://api.hh.ru/vacancies?employer_id=35660', 'trusted': True}, 'snippet': {'requirement': 'Можно работать только с теми тематиками, которые вам нравятся. Ожидания от кандидатов: Высшее лингвистическое образование (переводоведение, лингвистика). Опыт перевода и...', 'responsibility': 'Перевод документов технической и юридической тематики с китайского языка.'}, 'contacts': None, 'schedule': None, 'working_days': [], 'working_time_intervals': [], 'working_time_modes': [], 'accept_temporary': True, 'professional_roles': [{'id': '93', 'name': 'Переводчик'}], 'accept_incomplete_resumes': False, 'experience': {'id': 'between1And3', 'name': 'От 1 года до 3 лет'}, 'employment': {'id': 'part', 'name': 'Частичная занятость'}}, {'id': '79574170', 'premium': False, 'name': 'Переводчик китайского и английского языков', 'department': None, 'has_test': False, 'response_letter_required': False, 'area': {'id': '1', 'name': 'Москва', 'url': 'https://api.hh.ru/areas/1'}, 'salary': {'from': 240000, 'to': 300000, 'currency': 'RUR', 'gross': False}, 'type': {'id': 'open', 'name': 'Открытая'}, 'address': {'city': 'город Чианграй', 'street': None, 'building': None, 'lat': 19.91118049621582, 'lng': 99.8348617553711, 'description': None, 'raw': 'город Чианграй', 'metro': None, 'metro_stations': [], 'id': '12473233'}, 'response_url': None, 'sort_point_distance': None, 'published_at': '2023-05-11T08:27:04+0300', 'created_at': '2023-05-11T08:27:04+0300', 'archived': False, 'apply_alternate_url': 'https://hh.ru/applicant/vacancy_response?vacancyId=79574170', 'insider_interview': None, 'url': 'https://api.hh.ru/vacancies/79574170?host=hh.ru', 'adv_response_url': None, 'alternate_url': 'https://hh.ru/vacancy/79574170', 'relations': [], 'employer': {'id': '5440305', 'name': 'Золотая Гора', 'url': 'https://api.hh.ru/employers/5440305', 'alternate_url': 'https://hh.ru/employer/5440305', 'logo_urls': None, 'vacancies_url': 'https://api.hh.ru/vacancies?employer_id=5440305', 'trusted': True}, 'snippet': {'requirement': 'ПЕРЕЕЗД В ЛАОС! РАБОТА ЗА границей. Владение английским языком на уровне В2. Дополнительно знание других иностранных языков приветствуется ( КИТАЙСКИЙ ! ', 'responsibility': 'Помогать команде ( 15-20человек) с вопросами перевода ,записывать и прослушивать сообщения. Делать видео презентации и звонки.'}, 'contacts': None, 'schedule': None, 'working_days': [], 'working_time_intervals': [], 'working_time_modes': [], 'accept_temporary': False, 'professional_roles': [{'id': '88', 'name': 'Офис-менеджер'}], 'accept_incomplete_resumes': True, 'experience': {'id': 'noExperience', 'name': 'Нет опыта'}, 'employment': {'id': 'full', 'name': 'Полная занятость'}}, {'id': '80203219', 'premium': False, 'name': 'Помощник руководителя/переводчик (китайский язык)', 'department': None, 'has_test': False, 'response_letter_required': False, 'area': {'id': '1', 'name': 'Москва', 'url': 'https://api.hh.ru/areas/1'}, 'salary': None, 'type': {'id': 'open', 'name': 'Открытая'}, 'address': None, 'response_url': None, 'sort_point_distance': None, 'published_at': '2023-05-10T04:38:35+0300', 'created_at': '2023-05-10T04:38:35+0300', 'archived': False, 'apply_alternate_url': 'https://hh.ru/applicant/vacancy_response?vacancyId=80203219', 'insider_interview': None, 'url': 'https://api.hh.ru/vacancies/80203219?host=hh.ru', 'adv_response_url': None, 'alternate_url': 'https://hh.ru/vacancy/80203219', 'relations': [], 'employer': {'id': '9660455', 'name': 'SUNRISELAB', 'url': 'https://api.hh.ru/employers/9660455', 'alternate_url': 'https://hh.ru/employer/9660455', 'logo_urls': {'original': 'https://hhcdn.ru/employer-logo-original/1070501.jpeg', '240': 'https://hhcdn.ru/employer-logo/5902634.jpeg', '90': 'https://hhcdn.ru/employer-logo/5902633.jpeg'}, 'vacancies_url': 'https://api.hh.ru/vacancies?employer_id=9660455', 'trusted': False}, 'snippet': {'requirement': 'Свободный английский. Свободный китайский. Знание офисных программ. Умение работать с информацией в интернете.', 'responsibility': 'Функции референта (подготовка информации и организация рабочего времени руководителя). Функции переводчика (перевод писем, предложений и запросов на китайский и английский...'}, 'contacts': None, 'schedule': None, 'working_days': [], 'working_time_intervals': [], 'working_time_modes': [], 'accept_temporary': False, 'professional_roles': [{'id': '110', 'name': 'Секретарь, помощник руководителя, ассистент'}], 'accept_incomplete_resumes': True, 'experience': {'id': 'noExperience', 'name': 'Нет опыта'}, 'employment': {'id': 'full', 'name': 'Полная занятость'}}, {'id': '78420405', 'premium': False, 'name': 'Помощник руководителя / Бизнес-ассистент (китайский язык)', 'department': None, 'has_test': False, 'response_letter_required': False, 'area': {'id': '1', 'name': 'Москва', 'url': 'https://api.hh.ru/areas/1'}, 'salary': {'from': 135000, 'to': None, 'currency': 'RUR', 'gross': True}, 'type': {'id': 'open', 'name': 'Открытая'}, 'address': {'city': 'Москва', 'street': 'Рябиновая улица', 'building': '55с9', 'lat': 55.691521, 'lng': 37.43322, 'description': None, 'raw': 'Москва, Рябиновая улица, 55с9', 'metro': {'station_name': 'Кунцевская', 'line_name': 'Арбатско-Покровская', 'station_id': '3.69', 'line_id': '3', 'lat': 55.730673, 'lng': 37.446522}, 'metro_stations': [{'station_name': 'Кунцевская', 'line_name': 'Арбатско-Покровская', 'station_id': '3.69', 'line_id': '3', 'lat': 55.730673, 'lng': 37.446522}, {'station_name': 'Озёрная', 'line_name': 'Солнцевская', 'station_id': '133.608', 'line_id': '133', 'lat': 55.6698, 'lng': 37.4495}], 'id': '521902'}, 'response_url': None, 'sort_point_distance': None, 'published_at': '2023-04-17T22:36:44+0300', 'created_at': '2023-04-17T22:36:44+0300', 'archived': False, 'apply_alternate_url': 'https://hh.ru/applicant/vacancy_response?vacancyId=78420405', 'insider_interview': None, 'url': 'https://api.hh.ru/vacancies/78420405?host=hh.ru', 'adv_response_url': None, 'alternate_url': 'https://hh.ru/vacancy/78420405', 'relations': [], 'employer': {'id': '1890047', 'name': 'ЛИКСИ', 'url': 'https://api.hh.ru/employers/1890047', 'alternate_url': 'https://hh.ru/employer/1890047', 'logo_urls': {'240': 'https://hhcdn.ru/employer-logo/1534859.jpeg', '90': 'https://hhcdn.ru/employer-logo/1534858.jpeg', 'original': 'https://hhcdn.ru/employer-logo-original/273082.jpg'}, 'vacancies_url': 'https://api.hh.ru/vacancies?employer_id=1890047', 'trusted': True}, 'snippet': {'requirement': 'Высшее образование. Опыт работы на аналогичной должности. ОБЯЗАТЕЛЬНОЕ знание китайского языка не ниже HSK5 - HSK6. Резюме на русском...', 'responsibility': 'Участвовать в совещаниях в качестве <highlighttext>переводчика</highlighttext> <highlighttext>с</highlighttext> <highlighttext>китайского</highlighttext> <highlighttext>языка</highlighttext>. Текущая работа с производителем товаров, оформление документации. Письменный перевод для коммуникации...'}, 'contacts': None, 'schedule': None, 'working_days': [], 'working_time_intervals': [], 'working_time_modes': [], 'accept_temporary': False, 'professional_roles': [{'id': '110', 'name': 'Секретарь, помощник руководителя, ассистент'}], 'accept_incomplete_resumes': False, 'experience': {'id': 'between3And6', 'name': 'От 3 до 6 лет'}, 'employment': {'id': 'full', 'name': 'Полная занятость'}}, {'id': '78257966', 'premium': False, 'name': 'Переводчик-аналитик (китайский язык)', 'department': None, 'has_test': False, 'response_letter_required': False, 'area': {'id': '1', 'name': 'Москва', 'url': 'https://api.hh.ru/areas/1'}, 'salary': {'from': 120000, 'to': None, 'currency': 'RUR', 'gross': False}, 'type': {'id': 'open', 'name': 'Открытая'}, 'address': {'city': 'городской округ Красногорск', 'street': 'МКАД, 69-й километр', 'building': 'к23', 'lat': 55.868425, 'lng': 37.404627, 'description': None, 'raw': 'городской округ Красногорск, МКАД, 69-й километр, к23', 'metro': None, 'metro_stations': [], 'id': '12729222'}, 'response_url': None, 'sort_point_distance': None, 'published_at': '2023-04-17T12:25:59+0300', 'created_at': '2023-04-17T12:25:59+0300', 'archived': False, 'apply_alternate_url': 'https://hh.ru/applicant/vacancy_response?vacancyId=78257966', 'insider_interview': None, 'url': 'https://api.hh.ru/vacancies/78257966?host=hh.ru', 'adv_response_url': None, 'alternate_url': 'https://hh.ru/vacancy/78257966', 'relations': [], 'employer': {'id': '9555341', 'name': 'СК-ОБЬ', 'url': 'https://api.hh.ru/employers/9555341', 'alternate_url': 'https://hh.ru/employer/9555341', 'logo_urls': {'original': 'https://hhcdn.ru/employer-logo-original/1059441.png', '90': 'https://hhcdn.ru/employer-logo/5858405.png', '240': 'https://hhcdn.ru/employer-logo/5858406.png'}, 'vacancies_url': 'https://api.hh.ru/vacancies?employer_id=9555341', 'trusted': True}, 'snippet': {'requirement': 'Высшее образование (желательно - техническое). Опыт работы в аналогичной должности не менее 3-х лет. Опыт работы в сфере ВЭД не...', 'responsibility': 'Осуществление коммуникаций с партнерами холдинга и сотрудниками компании. Устный и письменный перевод. Участие в переговорах в качестве переводчика. Деловая переписка. '}, 'contacts': None, 'schedule': None, 'working_days': [], 'working_time_intervals': [], 'working_time_modes': [], 'accept_temporary': False, 'professional_roles': [{'id': '93', 'name': 'Переводчик'}], 'accept_incomplete_resumes': False, 'experience': {'id': 'between3And6', 'name': 'От 3 до 6 лет'}, 'employment': {'id': 'full', 'name': 'Полная занятость'}}, {'id': '77725097', 'premium': False, 'name': 'Переводчик со знанием китайского языка', 'department': None, 'has_test': False, 'response_letter_required': False, 'area': {'id': '1', 'name': 'Москва', 'url': 'https://api.hh.ru/areas/1'}, 'salary': {'from': 90000, 'to': 100000, 'currency': 'RUR', 'gross': False}, 'type': {'id': 'open', 'name': 'Открытая'}, 'address': {'city': 'Москва', 'street': 'Северо-Западный административный округ, район Митино, посёлок Новобратцевский, Фабричная улица', 'building': '6с2', 'lat': 55.852733, 'lng': 37.390218, 'description': None, 'raw': 'Москва, Северо-Западный административный округ, район Митино, посёлок Новобратцевский, Фабричная улица, 6с2', 'metro': {'station_name': 'Митино', 'line_name': 'Арбатско-Покровская', 'station_id': '3.183', 'line_id': '3', 'lat': 55.846098, 'lng': 37.36122}, 'metro_stations': [{'station_name': 'Митино', 'line_name': 'Арбатско-Покровская', 'station_id': '3.183', 'line_id': '3', 'lat': 55.846098, 'lng': 37.36122}, {'station_name': 'Пятницкое шоссе', 'line_name': 'Арбатско-Покровская', 'station_id': '3.463', 'line_id': '3', 'lat': 55.853634, 'lng': 37.353108}, {'station_name': 'Сходненская', 'line_name': 'Таганско-Краснопресненская', 'station_id': '7.138', 'line_id': '7', 'lat': 55.84926, 'lng': 37.44076}], 'id': '3398359'}, 'response_url': None, 'sort_point_distance': None, 'published_at': '2023-04-21T10:40:06+0300', 'created_at': '2023-04-21T10:40:06+0300', 'archived': False, 'apply_alternate_url': 'https://hh.ru/applicant/vacancy_response?vacancyId=77725097', 'insider_interview': None, 'url': 'https://api.hh.ru/vacancies/77725097?host=hh.ru', 'adv_response_url': None, 'alternate_url': 'https://hh.ru/vacancy/77725097', 'relations': [], 'employer': {'id': '4431748', 'name': 'СДС', 'url': 'https://api.hh.ru/employers/4431748', 'alternate_url': 'https://hh.ru/employer/4431748', 'logo_urls': {'90': 'https://hhcdn.ru/employer-logo/3259112.png', '240': 'https://hhcdn.ru/employer-logo/3259113.png', 'original': 'https://hhcdn.ru/employer-logo-original/704499.png'}, 'vacancies_url': 'https://api.hh.ru/vacancies?employer_id=4431748', 'trusted': True}, 'snippet': {'requirement': 'Образование: высшее. Свободное владение китайским языком (письменный – уверенный навык / последовательный перевод). Опыт работы переводчиком от 1 года.', 'responsibility': 'Перевод входящей/исходящей корреспонденции на китайском языке. Другие поручения руководства, связанные с переводом или координацией работы. Участие в переговорах с...'}, 'contacts': None, 'schedule': None, 'working_days': [], 'working_time_intervals': [], 'working_time_modes': [], 'accept_temporary': False, 'professional_roles': [{'id': '93', 'name': 'Переводчик'}], 'accept_incomplete_resumes': False, 'experience': {'id': 'between1And3', 'name': 'От 1 года до 3 лет'}, 'employment': {'id': 'full', 'name': 'Полная занятость'}}]\n",
            "[{'id': '79215637', 'premium': False, 'name': 'Письменный переводчик со знанием испанского и английского языков', 'department': None, 'has_test': False, 'response_letter_required': False, 'area': {'id': '1', 'name': 'Москва', 'url': 'https://api.hh.ru/areas/1'}, 'salary': {'from': 95000, 'to': None, 'currency': 'RUR', 'gross': True}, 'type': {'id': 'open', 'name': 'Открытая'}, 'address': {'city': None, 'street': None, 'building': None, 'lat': 0.0, 'lng': 0.0, 'description': None, 'raw': 'Москва, ул. Боровая, д.3. ст. метро, Электрозаводская, Семёновская', 'metro': None, 'metro_stations': [], 'id': '200222'}, 'response_url': None, 'sort_point_distance': None, 'published_at': '2023-05-11T13:18:03+0300', 'created_at': '2023-05-11T13:18:03+0300', 'archived': False, 'apply_alternate_url': 'https://hh.ru/applicant/vacancy_response?vacancyId=79215637', 'insider_interview': None, 'url': 'https://api.hh.ru/vacancies/79215637?host=hh.ru', 'adv_response_url': None, 'alternate_url': 'https://hh.ru/vacancy/79215637', 'relations': [], 'employer': {'id': '39371', 'name': 'RT', 'url': 'https://api.hh.ru/employers/39371', 'alternate_url': 'https://hh.ru/employer/39371', 'logo_urls': {'90': 'https://hhcdn.ru/employer-logo/617864.jpeg', '240': 'https://hhcdn.ru/employer-logo/617865.jpeg', 'original': 'https://hhcdn.ru/employer-logo-original/223838.jpg'}, 'vacancies_url': 'https://api.hh.ru/vacancies?employer_id=39371', 'trusted': True}, 'snippet': {'requirement': 'Свободное владение ИСПАНСКИМ и АНГЛИЙСКИМ языками. Высшее образование (лингвистика, перевод, филология, международные отношения...). Желателен опыт синхронного перевода (перевод в кабине...', 'responsibility': 'Осуществление письменного перевода с русского на испанский, с испанского на русский и с английского на испанский: документальных фильмов, интервью, официальных...'}, 'contacts': None, 'schedule': None, 'working_days': [], 'working_time_intervals': [], 'working_time_modes': [], 'accept_temporary': False, 'professional_roles': [{'id': '93', 'name': 'Переводчик'}], 'accept_incomplete_resumes': False, 'experience': {'id': 'between1And3', 'name': 'От 1 года до 3 лет'}, 'employment': {'id': 'full', 'name': 'Полная занятость'}}, {'id': '77836434', 'premium': False, 'name': 'Синхронный переводчик испанского языка', 'department': None, 'has_test': False, 'response_letter_required': False, 'area': {'id': '1', 'name': 'Москва', 'url': 'https://api.hh.ru/areas/1'}, 'salary': None, 'type': {'id': 'open', 'name': 'Открытая'}, 'address': {'city': None, 'street': None, 'building': None, 'lat': 0.0, 'lng': 0.0, 'description': None, 'raw': 'Москва, ул. Боровая, д.3. ст. метро, Электрозаводская, Семёновская', 'metro': None, 'metro_stations': [], 'id': '200222'}, 'response_url': None, 'sort_point_distance': None, 'published_at': '2023-04-21T17:49:41+0300', 'created_at': '2023-04-21T17:49:41+0300', 'archived': False, 'apply_alternate_url': 'https://hh.ru/applicant/vacancy_response?vacancyId=77836434', 'insider_interview': None, 'url': 'https://api.hh.ru/vacancies/77836434?host=hh.ru', 'adv_response_url': None, 'alternate_url': 'https://hh.ru/vacancy/77836434', 'relations': [], 'employer': {'id': '39371', 'name': 'RT', 'url': 'https://api.hh.ru/employers/39371', 'alternate_url': 'https://hh.ru/employer/39371', 'logo_urls': {'90': 'https://hhcdn.ru/employer-logo/617864.jpeg', '240': 'https://hhcdn.ru/employer-logo/617865.jpeg', 'original': 'https://hhcdn.ru/employer-logo-original/223838.jpg'}, 'vacancies_url': 'https://api.hh.ru/vacancies?employer_id=39371', 'trusted': True}, 'snippet': {'requirement': 'Свободное владение испанским языком. Уверенное владение английским языком будет плюсом. Желателен опыт синхронного переводчика (перевод в кабине с наушниками). ', 'responsibility': 'Синхронные переводы с русского на испанский (общественно-политическая тематика). Сбор и обработка информации. Написание информационных сообщений на испанском языке.'}, 'contacts': None, 'schedule': None, 'working_days': [], 'working_time_intervals': [], 'working_time_modes': [], 'accept_temporary': False, 'professional_roles': [{'id': '93', 'name': 'Переводчик'}], 'accept_incomplete_resumes': False, 'experience': {'id': 'between1And3', 'name': 'От 1 года до 3 лет'}, 'employment': {'id': 'full', 'name': 'Полная занятость'}}, {'id': '77031235', 'premium': False, 'name': 'Письменный переводчик (фармацевтика, испанский язык)', 'department': None, 'has_test': False, 'response_letter_required': False, 'area': {'id': '1', 'name': 'Москва', 'url': 'https://api.hh.ru/areas/1'}, 'salary': {'from': None, 'to': 100000, 'currency': 'RUR', 'gross': True}, 'type': {'id': 'open', 'name': 'Открытая'}, 'address': {'city': 'Москва', 'street': 'Ярославская улица', 'building': '8к5', 'lat': 55.816591, 'lng': 37.648412, 'description': None, 'raw': 'Москва, Ярославская улица, 8к5', 'metro': {'station_name': 'ВДНХ', 'line_name': 'Калужско-Рижская', 'station_id': '6.27', 'line_id': '6', 'lat': 55.819626, 'lng': 37.640751}, 'metro_stations': [{'station_name': 'ВДНХ', 'line_name': 'Калужско-Рижская', 'station_id': '6.27', 'line_id': '6', 'lat': 55.819626, 'lng': 37.640751}], 'id': '2316684'}, 'response_url': None, 'sort_point_distance': None, 'published_at': '2023-05-13T19:02:35+0300', 'created_at': '2023-05-13T19:02:35+0300', 'archived': False, 'apply_alternate_url': 'https://hh.ru/applicant/vacancy_response?vacancyId=77031235', 'insider_interview': None, 'url': 'https://api.hh.ru/vacancies/77031235?host=hh.ru', 'adv_response_url': None, 'alternate_url': 'https://hh.ru/vacancy/77031235', 'relations': [], 'employer': {'id': '3891764', 'name': 'Айэстэ', 'url': 'https://api.hh.ru/employers/3891764', 'alternate_url': 'https://hh.ru/employer/3891764', 'logo_urls': {'original': 'https://hhcdn.ru/employer-logo-original/618885.png', '240': 'https://hhcdn.ru/employer-logo/2916693.png', '90': 'https://hhcdn.ru/employer-logo/2916692.png'}, 'vacancies_url': 'https://api.hh.ru/vacancies?employer_id=3891764', 'trusted': True}, 'snippet': {'requirement': 'Высшее медицинское, биологическое или фармацевтическое образование. - Профессиональное владение <highlighttext>испанским</highlighttext> <highlighttext>языком</highlighttext>. - Опыт работы <highlighttext>переводчиком</highlighttext> в указанных выше сферах. - Отличное владение специальной...', 'responsibility': 'Письменный перевод текстов в сфере фармацевтики с русского на испанский язык. Обязательное выполнение тестового задания.'}, 'contacts': None, 'schedule': None, 'working_days': [], 'working_time_intervals': [], 'working_time_modes': [], 'accept_temporary': True, 'professional_roles': [{'id': '93', 'name': 'Переводчик'}], 'accept_incomplete_resumes': True, 'experience': {'id': 'between1And3', 'name': 'От 1 года до 3 лет'}, 'employment': {'id': 'project', 'name': 'Проектная работа'}}]\n",
            "[{'id': '79481194', 'premium': False, 'name': 'Переводчик итальянского языка (удаленно)', 'department': None, 'has_test': False, 'response_letter_required': False, 'area': {'id': '1', 'name': 'Москва', 'url': 'https://api.hh.ru/areas/1'}, 'salary': {'from': 80000, 'to': 100000, 'currency': 'RUR', 'gross': False}, 'type': {'id': 'open', 'name': 'Открытая'}, 'address': None, 'response_url': None, 'sort_point_distance': None, 'published_at': '2023-04-18T20:02:07+0300', 'created_at': '2023-04-18T20:02:07+0300', 'archived': False, 'apply_alternate_url': 'https://hh.ru/applicant/vacancy_response?vacancyId=79481194', 'insider_interview': None, 'url': 'https://api.hh.ru/vacancies/79481194?host=hh.ru', 'adv_response_url': None, 'alternate_url': 'https://hh.ru/vacancy/79481194', 'relations': [], 'employer': {'id': '5830014', 'name': 'Легион', 'url': 'https://api.hh.ru/employers/5830014', 'alternate_url': 'https://hh.ru/employer/5830014', 'logo_urls': None, 'vacancies_url': 'https://api.hh.ru/vacancies?employer_id=5830014', 'trusted': True}, 'snippet': {'requirement': 'Знание итальянского языка. Умение пользоваться telegram, так как вся основная работа ведётся там. Умение оценить навыки итальянского у актеров. ', 'responsibility': 'Письменный перевод постов, коротких текстов на итальянский. Перевод фраз для креативов. Консультирование по менталитету страны. Оценка качества материала со съемок...'}, 'contacts': None, 'schedule': None, 'working_days': [], 'working_time_intervals': [], 'working_time_modes': [], 'accept_temporary': False, 'professional_roles': [{'id': '93', 'name': 'Переводчик'}], 'accept_incomplete_resumes': False, 'experience': {'id': 'noExperience', 'name': 'Нет опыта'}, 'employment': {'id': 'full', 'name': 'Полная занятость'}}, {'id': '79997846', 'premium': False, 'name': 'Переводчик итальянского языка', 'department': None, 'has_test': False, 'response_letter_required': False, 'area': {'id': '1', 'name': 'Москва', 'url': 'https://api.hh.ru/areas/1'}, 'salary': {'from': 48000, 'to': 48000, 'currency': 'RUR', 'gross': True}, 'type': {'id': 'open', 'name': 'Открытая'}, 'address': None, 'response_url': None, 'sort_point_distance': None, 'published_at': '2023-05-02T15:01:48+0300', 'created_at': '2023-05-02T15:01:48+0300', 'archived': False, 'apply_alternate_url': 'https://hh.ru/applicant/vacancy_response?vacancyId=79997846', 'insider_interview': None, 'url': 'https://api.hh.ru/vacancies/79997846?host=hh.ru', 'adv_response_url': None, 'alternate_url': 'https://hh.ru/vacancy/79997846', 'relations': [], 'employer': {'id': '5957377', 'name': 'Your Translate', 'url': 'https://api.hh.ru/employers/5957377', 'alternate_url': 'https://hh.ru/employer/5957377', 'logo_urls': None, 'vacancies_url': 'https://api.hh.ru/vacancies?employer_id=5957377', 'trusted': True}, 'snippet': {'requirement': 'Уровень знания языка не ниже C1. Готовность работать с 10:00 до 18:00 по московскому времени (в летнее...', 'responsibility': 'Работа с клиентами, ведение переговоров по телефону. Переводы, рерайт текстов. Деловая переписка.'}, 'contacts': None, 'schedule': None, 'working_days': [], 'working_time_intervals': [], 'working_time_modes': [], 'accept_temporary': False, 'professional_roles': [{'id': '93', 'name': 'Переводчик'}], 'accept_incomplete_resumes': False, 'experience': {'id': 'between1And3', 'name': 'От 1 года до 3 лет'}, 'employment': {'id': 'full', 'name': 'Полная занятость'}}, {'id': '79872258', 'premium': False, 'name': 'Редактор-переводчик (Итальянский язык)', 'department': None, 'has_test': False, 'response_letter_required': False, 'area': {'id': '1', 'name': 'Москва', 'url': 'https://api.hh.ru/areas/1'}, 'salary': None, 'type': {'id': 'open', 'name': 'Открытая'}, 'address': {'city': 'Москва', 'street': 'Зубовский бульвар', 'building': '4с1', 'lat': 55.737355, 'lng': 37.590488, 'description': None, 'raw': 'Москва, Зубовский бульвар, 4с1', 'metro': {'station_name': 'Парк культуры', 'line_name': 'Сокольническая', 'station_id': '1.103', 'line_id': '1', 'lat': 55.736163, 'lng': 37.595027}, 'metro_stations': [{'station_name': 'Парк культуры', 'line_name': 'Сокольническая', 'station_id': '1.103', 'line_id': '1', 'lat': 55.736163, 'lng': 37.595027}, {'station_name': 'Парк культуры', 'line_name': 'Кольцевая', 'station_id': '5.104', 'line_id': '5', 'lat': 55.735221, 'lng': 37.593095}], 'id': '231001'}, 'response_url': None, 'sort_point_distance': None, 'published_at': '2023-04-27T12:14:21+0300', 'created_at': '2023-04-27T12:14:21+0300', 'archived': False, 'apply_alternate_url': 'https://hh.ru/applicant/vacancy_response?vacancyId=79872258', 'insider_interview': None, 'url': 'https://api.hh.ru/vacancies/79872258?host=hh.ru', 'adv_response_url': None, 'alternate_url': 'https://hh.ru/vacancy/79872258', 'relations': [], 'employer': {'id': '1425152', 'name': 'Международная медиагруппа Россия сегодня (МИА Россия сегодня)', 'url': 'https://api.hh.ru/employers/1425152', 'alternate_url': 'https://hh.ru/employer/1425152', 'logo_urls': {'240': 'https://hhcdn.ru/employer-logo/4128853.png', '90': 'https://hhcdn.ru/employer-logo/4128852.png', 'original': 'https://hhcdn.ru/employer-logo-original/922073.png'}, 'vacancies_url': 'https://api.hh.ru/vacancies?employer_id=1425152', 'trusted': True}, 'snippet': {'requirement': 'Высшее образование. Желателен опыт работы на аналогичных должностях. Свободное владение итальянским языком (на уровне носителя). Уровень владения русским языком не...', 'responsibility': 'Наполнение сайта и других ресурсов агентства на итальянском языке. Написание информационных текстов на итальянском языке. Размещение материалов на сайте и...'}, 'contacts': None, 'schedule': None, 'working_days': [], 'working_time_intervals': [], 'working_time_modes': [], 'accept_temporary': False, 'professional_roles': [{'id': '55', 'name': 'Копирайтер, редактор, корректор'}], 'accept_incomplete_resumes': False, 'experience': {'id': 'between1And3', 'name': 'От 1 года до 3 лет'}, 'employment': {'id': 'full', 'name': 'Полная занятость'}}, {'id': '79298390', 'premium': False, 'name': 'Переводчик (английский и итальянский языки)', 'department': None, 'has_test': False, 'response_letter_required': False, 'area': {'id': '1', 'name': 'Москва', 'url': 'https://api.hh.ru/areas/1'}, 'salary': {'from': 120000, 'to': None, 'currency': 'RUR', 'gross': True}, 'type': {'id': 'open', 'name': 'Открытая'}, 'address': None, 'response_url': None, 'sort_point_distance': None, 'published_at': '2023-04-25T19:30:17+0300', 'created_at': '2023-04-25T19:30:17+0300', 'archived': False, 'apply_alternate_url': 'https://hh.ru/applicant/vacancy_response?vacancyId=79298390', 'insider_interview': None, 'url': 'https://api.hh.ru/vacancies/79298390?host=hh.ru', 'adv_response_url': None, 'alternate_url': 'https://hh.ru/vacancy/79298390', 'relations': [], 'employer': {'id': '1124', 'name': 'Fersol', 'url': 'https://api.hh.ru/employers/1124', 'alternate_url': 'https://hh.ru/employer/1124', 'logo_urls': {'original': 'https://hhcdn.ru/employer-logo-original/1002135.jpg', '90': 'https://hhcdn.ru/employer-logo/5629320.jpeg', '240': 'https://hhcdn.ru/employer-logo/5629321.jpeg'}, 'vacancies_url': 'https://api.hh.ru/vacancies?employer_id=1124', 'trusted': True}, 'snippet': {'requirement': 'Профессиональное высшее образование. Уровень знания итальянского и английского языков – C2 (Advanced, Business). Знание переводческих программ и опыт работы с...', 'responsibility': 'Письменные и устные переводы. Синхронный и последовательный перевод на совещаниях и переговорах.'}, 'contacts': None, 'schedule': None, 'working_days': [], 'working_time_intervals': [], 'working_time_modes': [], 'accept_temporary': False, 'professional_roles': [{'id': '93', 'name': 'Переводчик'}], 'accept_incomplete_resumes': False, 'experience': {'id': 'moreThan6', 'name': 'Более 6 лет'}, 'employment': {'id': 'full', 'name': 'Полная занятость'}}]\n",
            "[{'id': '80241823', 'premium': False, 'name': 'Переводчик со знанием английского и французского языков', 'department': None, 'has_test': False, 'response_letter_required': False, 'area': {'id': '1', 'name': 'Москва', 'url': 'https://api.hh.ru/areas/1'}, 'salary': None, 'type': {'id': 'open', 'name': 'Открытая'}, 'address': {'city': None, 'street': None, 'building': None, 'lat': 0.0, 'lng': 0.0, 'description': None, 'raw': 'Москва, ул. Боровая, д.3. ст. метро, Электрозаводская, Семёновская', 'metro': None, 'metro_stations': [], 'id': '200222'}, 'response_url': None, 'sort_point_distance': None, 'published_at': '2023-05-10T14:08:27+0300', 'created_at': '2023-05-10T14:08:27+0300', 'archived': False, 'apply_alternate_url': 'https://hh.ru/applicant/vacancy_response?vacancyId=80241823', 'insider_interview': None, 'url': 'https://api.hh.ru/vacancies/80241823?host=hh.ru', 'adv_response_url': None, 'alternate_url': 'https://hh.ru/vacancy/80241823', 'relations': [], 'employer': {'id': '39371', 'name': 'RT', 'url': 'https://api.hh.ru/employers/39371', 'alternate_url': 'https://hh.ru/employer/39371', 'logo_urls': {'90': 'https://hhcdn.ru/employer-logo/617864.jpeg', '240': 'https://hhcdn.ru/employer-logo/617865.jpeg', 'original': 'https://hhcdn.ru/employer-logo-original/223838.jpg'}, 'vacancies_url': 'https://api.hh.ru/vacancies?employer_id=39371', 'trusted': True}, 'snippet': {'requirement': 'Высшее образование (лингвистика, журналистика). Опыт работы в СМИ (приветствуется). Свободное владение английским и французским языками ОБЯЗАТЕЛЬНО!!! Внимательность, исполнительность, нацеленность на...', 'responsibility': 'Ежедневный мониторинг СМИ и новостных ТВ программ на английском и французском языках (видеозаписи телеканалов, сайты телекомпаний и газет), а также...'}, 'contacts': None, 'schedule': None, 'working_days': [], 'working_time_intervals': [], 'working_time_modes': [], 'accept_temporary': False, 'professional_roles': [{'id': '55', 'name': 'Копирайтер, редактор, корректор'}], 'accept_incomplete_resumes': False, 'experience': {'id': 'between1And3', 'name': 'От 1 года до 3 лет'}, 'employment': {'id': 'full', 'name': 'Полная занятость'}}, {'id': '76404745', 'premium': False, 'name': 'Переводчик с французского языка', 'department': None, 'has_test': False, 'response_letter_required': False, 'area': {'id': '1', 'name': 'Москва', 'url': 'https://api.hh.ru/areas/1'}, 'salary': {'from': 200000, 'to': 200000, 'currency': 'RUR', 'gross': False}, 'type': {'id': 'open', 'name': 'Открытая'}, 'address': None, 'response_url': None, 'sort_point_distance': None, 'published_at': '2023-04-24T17:23:02+0300', 'created_at': '2023-04-24T17:23:02+0300', 'archived': False, 'apply_alternate_url': 'https://hh.ru/applicant/vacancy_response?vacancyId=76404745', 'insider_interview': None, 'url': 'https://api.hh.ru/vacancies/76404745?host=hh.ru', 'adv_response_url': None, 'alternate_url': 'https://hh.ru/vacancy/76404745', 'relations': [], 'employer': {'id': '4958321', 'name': 'Альпы', 'url': 'https://api.hh.ru/employers/4958321', 'alternate_url': 'https://hh.ru/employer/4958321', 'logo_urls': {'90': 'https://hhcdn.ru/employer-logo/3643739.jpeg', '240': 'https://hhcdn.ru/employer-logo/3643740.jpeg', 'original': 'https://hhcdn.ru/employer-logo-original/800713.jpg'}, 'vacancies_url': 'https://api.hh.ru/vacancies?employer_id=4958321', 'trusted': True}, 'snippet': {'requirement': 'Уровень французского языка не ниже С2. Подтвержденный опыт работы переводчиком. Опыт участия в деловых переговорах. Личные качества: ответственность, внимательность. ', 'responsibility': 'Устный последовательный перевод. Выполнение письменных переводов. Подготовка документов (протоколов, договоров и пр. на французском языке). Взаимодействие с контролирующими органами. '}, 'contacts': None, 'schedule': None, 'working_days': [], 'working_time_intervals': [], 'working_time_modes': [], 'accept_temporary': False, 'professional_roles': [{'id': '93', 'name': 'Переводчик'}], 'accept_incomplete_resumes': False, 'experience': {'id': 'moreThan6', 'name': 'Более 6 лет'}, 'employment': {'id': 'full', 'name': 'Полная занятость'}}, {'id': '66091703', 'premium': False, 'name': 'Переводчик-Support (французский язык)', 'department': None, 'has_test': False, 'response_letter_required': False, 'area': {'id': '1', 'name': 'Москва', 'url': 'https://api.hh.ru/areas/1'}, 'salary': {'from': 55000, 'to': 80000, 'currency': 'RUR', 'gross': False}, 'type': {'id': 'open', 'name': 'Открытая'}, 'address': None, 'response_url': None, 'sort_point_distance': None, 'published_at': '2023-05-08T12:58:21+0300', 'created_at': '2023-05-08T12:58:21+0300', 'archived': False, 'apply_alternate_url': 'https://hh.ru/applicant/vacancy_response?vacancyId=66091703', 'insider_interview': None, 'url': 'https://api.hh.ru/vacancies/66091703?host=hh.ru', 'adv_response_url': None, 'alternate_url': 'https://hh.ru/vacancy/66091703', 'relations': [], 'employer': {'id': '5834845', 'name': 'Барсело Групп', 'url': 'https://api.hh.ru/employers/5834845', 'alternate_url': 'https://hh.ru/employer/5834845', 'logo_urls': None, 'vacancies_url': 'https://api.hh.ru/vacancies?employer_id=5834845', 'trusted': True}, 'snippet': {'requirement': 'Обязательные требования: свободный французский язык, от уровня C1, либо это ваш родной язык. Опыт работы переводчиком,написание статей/текстов...', 'responsibility': 'Общаться с французскими клиентами в переписке и по телефону, рассказывать им, как подключиться к платформе. Выстраивать процессы в службе поддержки.'}, 'contacts': None, 'schedule': None, 'working_days': [], 'working_time_intervals': [], 'working_time_modes': [], 'accept_temporary': False, 'professional_roles': [{'id': '70', 'name': 'Менеджер по продажам, менеджер по работе с клиентами'}], 'accept_incomplete_resumes': True, 'experience': {'id': 'noExperience', 'name': 'Нет опыта'}, 'employment': {'id': 'full', 'name': 'Полная занятость'}}, {'id': '75933615', 'premium': False, 'name': 'Редактор-переводчик (французский язык)', 'department': None, 'has_test': False, 'response_letter_required': False, 'area': {'id': '1', 'name': 'Москва', 'url': 'https://api.hh.ru/areas/1'}, 'salary': None, 'type': {'id': 'open', 'name': 'Открытая'}, 'address': {'city': 'Москва', 'street': 'Зубовский бульвар', 'building': '4с1', 'lat': 55.737355, 'lng': 37.590488, 'description': None, 'raw': 'Москва, Зубовский бульвар, 4с1', 'metro': {'station_name': 'Парк культуры', 'line_name': 'Сокольническая', 'station_id': '1.103', 'line_id': '1', 'lat': 55.736163, 'lng': 37.595027}, 'metro_stations': [{'station_name': 'Парк культуры', 'line_name': 'Сокольническая', 'station_id': '1.103', 'line_id': '1', 'lat': 55.736163, 'lng': 37.595027}, {'station_name': 'Парк культуры', 'line_name': 'Кольцевая', 'station_id': '5.104', 'line_id': '5', 'lat': 55.735221, 'lng': 37.593095}], 'id': '231001'}, 'response_url': None, 'sort_point_distance': None, 'published_at': '2023-05-12T12:04:32+0300', 'created_at': '2023-05-12T12:04:32+0300', 'archived': False, 'apply_alternate_url': 'https://hh.ru/applicant/vacancy_response?vacancyId=75933615', 'insider_interview': None, 'url': 'https://api.hh.ru/vacancies/75933615?host=hh.ru', 'adv_response_url': None, 'alternate_url': 'https://hh.ru/vacancy/75933615', 'relations': [], 'employer': {'id': '1425152', 'name': 'Международная медиагруппа Россия сегодня (МИА Россия сегодня)', 'url': 'https://api.hh.ru/employers/1425152', 'alternate_url': 'https://hh.ru/employer/1425152', 'logo_urls': {'240': 'https://hhcdn.ru/employer-logo/4128853.png', '90': 'https://hhcdn.ru/employer-logo/4128852.png', 'original': 'https://hhcdn.ru/employer-logo-original/922073.png'}, 'vacancies_url': 'https://api.hh.ru/vacancies?employer_id=1425152', 'trusted': True}, 'snippet': {'requirement': 'Высшее образование. Аналогичный опыт работы от 1 года. Французский язык - родной или на уровне C1/С2, русский язык...', 'responsibility': 'Наполнение сайта Sputnik Afrique на французском языке. Освещение важных тем и событий мировой, африканской и российской повестки. Редактура и корректура...'}, 'contacts': None, 'schedule': None, 'working_days': [], 'working_time_intervals': [], 'working_time_modes': [], 'accept_temporary': False, 'professional_roles': [{'id': '55', 'name': 'Копирайтер, редактор, корректор'}], 'accept_incomplete_resumes': False, 'experience': {'id': 'between1And3', 'name': 'От 1 года до 3 лет'}, 'employment': {'id': 'full', 'name': 'Полная занятость'}}, {'id': '79123080', 'premium': False, 'name': 'Переводчик-синхронист со знанием французского языка', 'department': None, 'has_test': False, 'response_letter_required': False, 'area': {'id': '1', 'name': 'Москва', 'url': 'https://api.hh.ru/areas/1'}, 'salary': None, 'type': {'id': 'open', 'name': 'Открытая'}, 'address': {'city': None, 'street': None, 'building': None, 'lat': 0.0, 'lng': 0.0, 'description': None, 'raw': 'Москва, ул. Боровая, д.3. ст. метро, Электрозаводская, Семёновская', 'metro': None, 'metro_stations': [], 'id': '200222'}, 'response_url': None, 'sort_point_distance': None, 'published_at': '2023-05-12T10:31:30+0300', 'created_at': '2023-05-12T10:31:30+0300', 'archived': False, 'apply_alternate_url': 'https://hh.ru/applicant/vacancy_response?vacancyId=79123080', 'insider_interview': None, 'url': 'https://api.hh.ru/vacancies/79123080?host=hh.ru', 'adv_response_url': None, 'alternate_url': 'https://hh.ru/vacancy/79123080', 'relations': [], 'employer': {'id': '39371', 'name': 'RT', 'url': 'https://api.hh.ru/employers/39371', 'alternate_url': 'https://hh.ru/employer/39371', 'logo_urls': {'90': 'https://hhcdn.ru/employer-logo/617864.jpeg', '240': 'https://hhcdn.ru/employer-logo/617865.jpeg', 'original': 'https://hhcdn.ru/employer-logo-original/223838.jpg'}, 'vacancies_url': 'https://api.hh.ru/vacancies?employer_id=39371', 'trusted': True}, 'snippet': {'requirement': 'Свободное владение французским языком строго обязательно. Уверенное владение английским языком является плюсом. Высшее образование (желательно – лингвистика, филология, журналистика; профильное образование...', 'responsibility': 'Синхронный перевод прямых трансляций с русского на французского язык (общественно-политическая тематика). Письменный перевод текстов и видео с русского языка...'}, 'contacts': None, 'schedule': None, 'working_days': [], 'working_time_intervals': [], 'working_time_modes': [], 'accept_temporary': False, 'professional_roles': [{'id': '93', 'name': 'Переводчик'}], 'accept_incomplete_resumes': False, 'experience': {'id': 'between1And3', 'name': 'От 1 года до 3 лет'}, 'employment': {'id': 'full', 'name': 'Полная занятость'}}, {'id': '79741075', 'premium': False, 'name': 'Переводчик французского языка', 'department': None, 'has_test': False, 'response_letter_required': True, 'area': {'id': '1', 'name': 'Москва', 'url': 'https://api.hh.ru/areas/1'}, 'salary': {'from': 200000, 'to': 200000, 'currency': 'RUR', 'gross': False}, 'type': {'id': 'open', 'name': 'Открытая'}, 'address': None, 'response_url': None, 'sort_point_distance': None, 'published_at': '2023-04-24T16:20:35+0300', 'created_at': '2023-04-24T16:20:35+0300', 'archived': False, 'apply_alternate_url': 'https://hh.ru/applicant/vacancy_response?vacancyId=79741075', 'insider_interview': None, 'url': 'https://api.hh.ru/vacancies/79741075?host=hh.ru', 'adv_response_url': None, 'alternate_url': 'https://hh.ru/vacancy/79741075', 'relations': [], 'employer': {'id': '4958321', 'name': 'Альпы', 'url': 'https://api.hh.ru/employers/4958321', 'alternate_url': 'https://hh.ru/employer/4958321', 'logo_urls': {'90': 'https://hhcdn.ru/employer-logo/3643739.jpeg', '240': 'https://hhcdn.ru/employer-logo/3643740.jpeg', 'original': 'https://hhcdn.ru/employer-logo-original/800713.jpg'}, 'vacancies_url': 'https://api.hh.ru/vacancies?employer_id=4958321', 'trusted': True}, 'snippet': {'requirement': 'Свободное владение французским языком на уровне С1-С2 (с уровнем ниже не рассматриваем!). Умение быстро и качественно переводить...', 'responsibility': 'Устный последовательный перевод во время сопровождения бесед, встреч и других мероприятий с/на французский язык. Тематика переводов: техническая, юридическая, финансовая...'}, 'contacts': None, 'schedule': None, 'working_days': [], 'working_time_intervals': [], 'working_time_modes': [], 'accept_temporary': False, 'professional_roles': [{'id': '93', 'name': 'Переводчик'}], 'accept_incomplete_resumes': False, 'experience': {'id': 'moreThan6', 'name': 'Более 6 лет'}, 'employment': {'id': 'full', 'name': 'Полная занятость'}}]\n",
            "[{'id': '80223894', 'premium': False, 'name': 'Переводчик', 'department': None, 'has_test': False, 'response_letter_required': False, 'area': {'id': '1', 'name': 'Москва', 'url': 'https://api.hh.ru/areas/1'}, 'salary': {'from': 80000, 'to': None, 'currency': 'RUR', 'gross': False}, 'type': {'id': 'open', 'name': 'Открытая'}, 'address': None, 'response_url': None, 'sort_point_distance': None, 'published_at': '2023-05-10T10:59:32+0300', 'created_at': '2023-05-10T10:59:32+0300', 'archived': False, 'apply_alternate_url': 'https://hh.ru/applicant/vacancy_response?vacancyId=80223894', 'insider_interview': None, 'url': 'https://api.hh.ru/vacancies/80223894?host=hh.ru', 'adv_response_url': None, 'alternate_url': 'https://hh.ru/vacancy/80223894', 'relations': [], 'employer': {'id': '3827177', 'name': 'Амедарт', 'url': 'https://api.hh.ru/employers/3827177', 'alternate_url': 'https://hh.ru/employer/3827177', 'logo_urls': {'240': 'https://hhcdn.ru/employer-logo/3373265.png', '90': 'https://hhcdn.ru/employer-logo/3373264.png', 'original': 'https://hhcdn.ru/employer-logo-original/733047.png'}, 'vacancies_url': 'https://api.hh.ru/vacancies?employer_id=3827177', 'trusted': True}, 'snippet': {'requirement': 'Имеет опыт работы от года. Имеет высшее лингвистическое образование. Хорошо владеет пакетом офисных программ. Внимателен и точен в переводах.', 'responsibility': 'Выполнять письменные переводы с английского языка на русский и наоборот химической, фармацевтической, юридической и технической документации.'}, 'contacts': None, 'schedule': None, 'working_days': [], 'working_time_intervals': [], 'working_time_modes': [], 'accept_temporary': False, 'professional_roles': [{'id': '93', 'name': 'Переводчик'}], 'accept_incomplete_resumes': False, 'experience': {'id': 'between1And3', 'name': 'От 1 года до 3 лет'}, 'employment': {'id': 'full', 'name': 'Полная занятость'}}, {'id': '77747429', 'premium': False, 'name': 'Переводчик английского языка', 'department': None, 'has_test': False, 'response_letter_required': False, 'area': {'id': '1', 'name': 'Москва', 'url': 'https://api.hh.ru/areas/1'}, 'salary': {'from': 240000, 'to': 300000, 'currency': 'RUR', 'gross': False}, 'type': {'id': 'open', 'name': 'Открытая'}, 'address': {'city': 'город Чианграй', 'street': None, 'building': None, 'lat': 19.91118049621582, 'lng': 99.8348617553711, 'description': None, 'raw': 'город Чианграй', 'metro': None, 'metro_stations': [], 'id': '12473233'}, 'response_url': None, 'sort_point_distance': None, 'published_at': '2023-05-12T18:35:51+0300', 'created_at': '2023-05-12T18:35:51+0300', 'archived': False, 'apply_alternate_url': 'https://hh.ru/applicant/vacancy_response?vacancyId=77747429', 'insider_interview': None, 'url': 'https://api.hh.ru/vacancies/77747429?host=hh.ru', 'adv_response_url': None, 'alternate_url': 'https://hh.ru/vacancy/77747429', 'relations': [], 'employer': {'id': '5440305', 'name': 'Золотая Гора', 'url': 'https://api.hh.ru/employers/5440305', 'alternate_url': 'https://hh.ru/employer/5440305', 'logo_urls': None, 'vacancies_url': 'https://api.hh.ru/vacancies?employer_id=5440305', 'trusted': True}, 'snippet': {'requirement': 'Владение английским языком на уровне В2. Дополнительно знание других иностранных языков приветствуется ( немецкий французский испанский итальянский.....', 'responsibility': 'Помогать команде ( 15-20человек) с вопросами перевода ,записывать и прослушивать сообщения. Делать видео презентации и звонки.'}, 'contacts': None, 'schedule': None, 'working_days': [], 'working_time_intervals': [], 'working_time_modes': [], 'accept_temporary': False, 'professional_roles': [{'id': '93', 'name': 'Переводчик'}], 'accept_incomplete_resumes': True, 'experience': {'id': 'noExperience', 'name': 'Нет опыта'}, 'employment': {'id': 'full', 'name': 'Полная занятость'}}, {'id': '80357053', 'premium': False, 'name': 'Переводчик с функцией помощника руководителя', 'department': None, 'has_test': False, 'response_letter_required': False, 'area': {'id': '1', 'name': 'Москва', 'url': 'https://api.hh.ru/areas/1'}, 'salary': {'from': 96000, 'to': 96000, 'currency': 'RUR', 'gross': False}, 'type': {'id': 'open', 'name': 'Открытая'}, 'address': {'city': 'городской округ Красногорск', 'street': 'М-9 Балтия, 26-й километр', 'building': None, 'lat': 55.786753, 'lng': 37.250835, 'description': None, 'raw': 'городской округ Красногорск, М-9 Балтия, 26-й километр', 'metro': {'station_name': 'Опалиха', 'line_name': 'МЦД - 2', 'station_id': '132.713', 'line_id': '132', 'lat': 55.82333, 'lng': 37.246843}, 'metro_stations': [{'station_name': 'Опалиха', 'line_name': 'МЦД - 2', 'station_id': '132.713', 'line_id': '132', 'lat': 55.82333, 'lng': 37.246843}], 'id': '5960193'}, 'response_url': None, 'sort_point_distance': None, 'published_at': '2023-05-12T13:35:15+0300', 'created_at': '2023-05-12T13:35:15+0300', 'archived': False, 'apply_alternate_url': 'https://hh.ru/applicant/vacancy_response?vacancyId=80357053', 'insider_interview': None, 'url': 'https://api.hh.ru/vacancies/80357053?host=hh.ru', 'adv_response_url': None, 'alternate_url': 'https://hh.ru/vacancy/80357053', 'relations': [], 'employer': {'id': '1038593', 'name': 'КНГК-ИНПЗ', 'url': 'https://api.hh.ru/employers/1038593', 'alternate_url': 'https://hh.ru/employer/1038593', 'logo_urls': {'original': 'https://hhcdn.ru/employer-logo-original/951361.png', '240': 'https://hhcdn.ru/employer-logo/4245977.png', '90': 'https://hhcdn.ru/employer-logo/4245976.png'}, 'vacancies_url': 'https://api.hh.ru/vacancies?employer_id=1038593', 'trusted': True}, 'snippet': {'requirement': 'Высшее филологическое образование / <highlighttext>переводчик</highlighttext> <highlighttext>английского</highlighttext> <highlighttext>языка</highlighttext>. Опыт работы от 3-х лет секретарем/ помощником руководителя обязателен. Знание 1С (документооборот). ', 'responsibility': 'Применение английского языка в работе. Устный/письменный перевод документации с английского языка. Организация поездок (заказ билетов, гостиницы). Административная поддержка руководителя. '}, 'contacts': None, 'schedule': None, 'working_days': [], 'working_time_intervals': [], 'working_time_modes': [], 'accept_temporary': False, 'professional_roles': [{'id': '110', 'name': 'Секретарь, помощник руководителя, ассистент'}], 'accept_incomplete_resumes': False, 'experience': {'id': 'between1And3', 'name': 'От 1 года до 3 лет'}, 'employment': {'id': 'full', 'name': 'Полная занятость'}}, {'id': '79320679', 'premium': False, 'name': 'Переводчик-копирайтер (с русского на английский)', 'department': None, 'has_test': False, 'response_letter_required': False, 'area': {'id': '1', 'name': 'Москва', 'url': 'https://api.hh.ru/areas/1'}, 'salary': {'from': 50000, 'to': None, 'currency': 'RUR', 'gross': False}, 'type': {'id': 'open', 'name': 'Открытая'}, 'address': None, 'response_url': None, 'sort_point_distance': None, 'published_at': '2023-04-14T17:09:10+0300', 'created_at': '2023-04-14T17:09:10+0300', 'archived': False, 'apply_alternate_url': 'https://hh.ru/applicant/vacancy_response?vacancyId=79320679', 'insider_interview': None, 'url': 'https://api.hh.ru/vacancies/79320679?host=hh.ru', 'adv_response_url': None, 'alternate_url': 'https://hh.ru/vacancy/79320679', 'relations': [], 'employer': {'id': '3072537', 'name': 'Creative Media', 'url': 'https://api.hh.ru/employers/3072537', 'alternate_url': 'https://hh.ru/employer/3072537', 'logo_urls': None, 'vacancies_url': 'https://api.hh.ru/vacancies?employer_id=3072537', 'trusted': True}, 'snippet': {'requirement': 'Квалифицированный лингвист или имеете опыт перевода текстов (от 1 года). Обладаете широким кругозором, особенно в областях, связанных с молодёжными направлениями . ', 'responsibility': 'Переводить тексты. Составлять и дополнять глоссарии, необходимые для перевода текстов. Решать другие задачи, связанные с переводом.'}, 'contacts': None, 'schedule': None, 'working_days': [], 'working_time_intervals': [], 'working_time_modes': [], 'accept_temporary': False, 'professional_roles': [{'id': '93', 'name': 'Переводчик'}], 'accept_incomplete_resumes': False, 'experience': {'id': 'between3And6', 'name': 'От 3 до 6 лет'}, 'employment': {'id': 'full', 'name': 'Полная занятость'}}, {'id': '79418994', 'premium': False, 'name': 'Переводчик английского языка', 'department': None, 'has_test': False, 'response_letter_required': False, 'area': {'id': '1', 'name': 'Москва', 'url': 'https://api.hh.ru/areas/1'}, 'salary': None, 'type': {'id': 'open', 'name': 'Открытая'}, 'address': None, 'response_url': None, 'sort_point_distance': None, 'published_at': '2023-04-17T17:57:41+0300', 'created_at': '2023-04-17T17:57:41+0300', 'archived': False, 'apply_alternate_url': 'https://hh.ru/applicant/vacancy_response?vacancyId=79418994', 'insider_interview': None, 'url': 'https://api.hh.ru/vacancies/79418994?host=hh.ru', 'adv_response_url': None, 'alternate_url': 'https://hh.ru/vacancy/79418994', 'relations': [], 'employer': {'id': '739807', 'name': 'Bright Way Group', 'url': 'https://api.hh.ru/employers/739807', 'alternate_url': 'https://hh.ru/employer/739807', 'logo_urls': {'240': 'https://hhcdn.ru/employer-logo/3935216.png', '90': 'https://hhcdn.ru/employer-logo/3935215.png', 'original': 'https://hhcdn.ru/employer-logo-original/873585.png'}, 'vacancies_url': 'https://api.hh.ru/vacancies?employer_id=739807', 'trusted': True}, 'snippet': {'requirement': 'Высшее лингвистическое образование. Язык: английский. Владение ПК и ПО Опытный пользователь MsOffice, Internet. Опыт работы от 3 лет по специальности. ', 'responsibility': 'Работа в отделе переводов. Выполнение письменных переводов с английского языка на русский и наоборот (химическая, фармацевтическая, юридическая, техническая и прочая...'}, 'contacts': None, 'schedule': None, 'working_days': [], 'working_time_intervals': [], 'working_time_modes': [], 'accept_temporary': False, 'professional_roles': [{'id': '93', 'name': 'Переводчик'}], 'accept_incomplete_resumes': False, 'experience': {'id': 'between3And6', 'name': 'От 3 до 6 лет'}, 'employment': {'id': 'full', 'name': 'Полная занятость'}}, {'id': '78785777', 'premium': False, 'name': 'Технический переводчик (английский)', 'department': None, 'has_test': False, 'response_letter_required': False, 'area': {'id': '1', 'name': 'Москва', 'url': 'https://api.hh.ru/areas/1'}, 'salary': None, 'type': {'id': 'open', 'name': 'Открытая'}, 'address': {'city': 'Москва', 'street': 'Нахимовский проспект', 'building': '58', 'lat': 55.683787, 'lng': 37.554169, 'description': None, 'raw': 'Москва, Нахимовский проспект, 58', 'metro': {'station_name': 'Профсоюзная', 'line_name': 'Калужско-Рижская', 'station_id': '6.121', 'line_id': '6', 'lat': 55.677671, 'lng': 37.562595}, 'metro_stations': [{'station_name': 'Профсоюзная', 'line_name': 'Калужско-Рижская', 'station_id': '6.121', 'line_id': '6', 'lat': 55.677671, 'lng': 37.562595}], 'id': '3057200'}, 'response_url': None, 'sort_point_distance': None, 'published_at': '2023-05-07T17:12:24+0300', 'created_at': '2023-05-07T17:12:24+0300', 'archived': False, 'apply_alternate_url': 'https://hh.ru/applicant/vacancy_response?vacancyId=78785777', 'insider_interview': None, 'url': 'https://api.hh.ru/vacancies/78785777?host=hh.ru', 'adv_response_url': None, 'alternate_url': 'https://hh.ru/vacancy/78785777', 'relations': [], 'employer': {'id': '1775793', 'name': 'Русатом Сервис', 'url': 'https://api.hh.ru/employers/1775793', 'alternate_url': 'https://hh.ru/employer/1775793', 'logo_urls': {'90': 'https://hhcdn.ru/employer-logo/3785131.png', '240': 'https://hhcdn.ru/employer-logo/3785132.png', 'original': 'https://hhcdn.ru/employer-logo-original/836062.png'}, 'vacancies_url': 'https://api.hh.ru/vacancies?employer_id=1775793', 'trusted': True}, 'snippet': {'requirement': 'Высшее образование (лингвистическое/переводческое). Свободное владение английским (уверенная, грамотная речь и письмо). Свободное владение вторым иностранным языком будет преимуществом. ', 'responsibility': 'Перевод технической документации (системы, оборудование АЭС, эксплуатационная, учебная) с русского на английский язык.'}, 'contacts': None, 'schedule': None, 'working_days': [], 'working_time_intervals': [], 'working_time_modes': [], 'accept_temporary': False, 'professional_roles': [{'id': '93', 'name': 'Переводчик'}], 'accept_incomplete_resumes': False, 'experience': {'id': 'noExperience', 'name': 'Нет опыта'}, 'employment': {'id': 'full', 'name': 'Полная занятость'}}, {'id': '79285128', 'premium': False, 'name': 'Технический переводчик английского языка', 'department': None, 'has_test': False, 'response_letter_required': False, 'area': {'id': '1', 'name': 'Москва', 'url': 'https://api.hh.ru/areas/1'}, 'salary': None, 'type': {'id': 'open', 'name': 'Открытая'}, 'address': {'city': 'Владивосток', 'street': '2-я Шоссейная улица', 'building': '30', 'lat': 43.276584, 'lng': 132.064761, 'description': None, 'raw': 'Владивосток, 2-я Шоссейная улица, 30', 'metro': None, 'metro_stations': [], 'id': '5653379'}, 'response_url': None, 'sort_point_distance': None, 'published_at': '2023-04-14T06:17:20+0300', 'created_at': '2023-04-14T06:17:20+0300', 'archived': False, 'apply_alternate_url': 'https://hh.ru/applicant/vacancy_response?vacancyId=79285128', 'insider_interview': None, 'url': 'https://api.hh.ru/vacancies/79285128?host=hh.ru', 'adv_response_url': None, 'alternate_url': 'https://hh.ru/vacancy/79285128', 'relations': [], 'employer': {'id': '5031486', 'name': 'Холдинговая Компания Дальснаб', 'url': 'https://api.hh.ru/employers/5031486', 'alternate_url': 'https://hh.ru/employer/5031486', 'logo_urls': None, 'vacancies_url': 'https://api.hh.ru/vacancies?employer_id=5031486', 'trusted': True}, 'snippet': {'requirement': 'Формат сотрудничества - удаленный. Желательно наличие статуса самозанятого.', 'responsibility': None}, 'contacts': None, 'schedule': None, 'working_days': [], 'working_time_intervals': [], 'working_time_modes': [], 'accept_temporary': False, 'professional_roles': [{'id': '93', 'name': 'Переводчик'}], 'accept_incomplete_resumes': False, 'experience': {'id': 'moreThan6', 'name': 'Более 6 лет'}, 'employment': {'id': 'full', 'name': 'Полная занятость'}}, {'id': '78277092', 'premium': False, 'name': 'Менеджер по работе с заказами (Удалённо)', 'department': None, 'has_test': False, 'response_letter_required': False, 'area': {'id': '1', 'name': 'Москва', 'url': 'https://api.hh.ru/areas/1'}, 'salary': {'from': 24000, 'to': 40000, 'currency': 'RUR', 'gross': False}, 'type': {'id': 'open', 'name': 'Открытая'}, 'address': None, 'response_url': None, 'sort_point_distance': None, 'published_at': '2023-04-17T13:30:37+0300', 'created_at': '2023-04-17T13:30:37+0300', 'archived': False, 'apply_alternate_url': 'https://hh.ru/applicant/vacancy_response?vacancyId=78277092', 'insider_interview': None, 'url': 'https://api.hh.ru/vacancies/78277092?host=hh.ru', 'adv_response_url': None, 'alternate_url': 'https://hh.ru/vacancy/78277092', 'relations': [], 'employer': {'id': '4104037', 'name': 'WowVendor', 'url': 'https://api.hh.ru/employers/4104037', 'alternate_url': 'https://hh.ru/employer/4104037', 'logo_urls': {'original': 'https://hhcdn.ru/employer-logo-original/653563.png', '90': 'https://hhcdn.ru/employer-logo/3055400.png', '240': 'https://hhcdn.ru/employer-logo/3055401.png'}, 'vacancies_url': 'https://api.hh.ru/vacancies?employer_id=4104037', 'trusted': True}, 'snippet': {'requirement': '...незаконченного высшего гуманитарного образования. Был опыт работы в клиентском сервисе на должности оператора/консультанта/менеджера/<highlighttext>переводчика</highlighttext>/репетитора. Знаете <highlighttext>Английский</highlighttext> <highlighttext>язык</highlighttext>.', 'responsibility': 'Распределять заказы между исполнителями. Отслеживать статус заказов и контролировать исполнение. Актуализировать информацию по заказам в таблицах. Отвечать на вопросы сотрудников...'}, 'contacts': None, 'schedule': None, 'working_days': [], 'working_time_intervals': [], 'working_time_modes': [], 'accept_temporary': True, 'professional_roles': [{'id': '70', 'name': 'Менеджер по продажам, менеджер по работе с клиентами'}], 'accept_incomplete_resumes': True, 'experience': {'id': 'between1And3', 'name': 'От 1 года до 3 лет'}, 'employment': {'id': 'full', 'name': 'Полная занятость'}}, {'id': '80355973', 'premium': False, 'name': 'Помощник руководителя', 'department': None, 'has_test': False, 'response_letter_required': False, 'area': {'id': '1', 'name': 'Москва', 'url': 'https://api.hh.ru/areas/1'}, 'salary': {'from': 96000, 'to': None, 'currency': 'RUR', 'gross': False}, 'type': {'id': 'open', 'name': 'Открытая'}, 'address': {'city': 'Москва', 'street': None, 'building': None, 'lat': 55.723247, 'lng': 37.564105, 'description': None, 'raw': 'Москва', 'metro': {'station_name': 'Спортивная', 'line_name': 'Сокольническая', 'station_id': '1.135', 'line_id': '1', 'lat': 55.722388, 'lng': 37.562041}, 'metro_stations': [{'station_name': 'Спортивная', 'line_name': 'Сокольническая', 'station_id': '1.135', 'line_id': '1', 'lat': 55.722388, 'lng': 37.562041}], 'id': '2894610'}, 'response_url': None, 'sort_point_distance': None, 'published_at': '2023-05-12T13:20:05+0300', 'created_at': '2023-05-12T13:20:05+0300', 'archived': False, 'apply_alternate_url': 'https://hh.ru/applicant/vacancy_response?vacancyId=80355973', 'insider_interview': None, 'url': 'https://api.hh.ru/vacancies/80355973?host=hh.ru', 'adv_response_url': None, 'alternate_url': 'https://hh.ru/vacancy/80355973', 'relations': [], 'employer': {'id': '1038593', 'name': 'КНГК-ИНПЗ', 'url': 'https://api.hh.ru/employers/1038593', 'alternate_url': 'https://hh.ru/employer/1038593', 'logo_urls': {'original': 'https://hhcdn.ru/employer-logo-original/951361.png', '240': 'https://hhcdn.ru/employer-logo/4245977.png', '90': 'https://hhcdn.ru/employer-logo/4245976.png'}, 'vacancies_url': 'https://api.hh.ru/vacancies?employer_id=1038593', 'trusted': True}, 'snippet': {'requirement': 'Высшее филологическое образование / <highlighttext>переводчик</highlighttext> <highlighttext>английского</highlighttext> <highlighttext>языка</highlighttext>. Опыт работы от 3-х лет секретарем/ помощником руководителя обязателен. Знание 1С (документооборот). ', 'responsibility': 'Административная поддержка руководителя. Выполнение поручений. Участие в совещаниях, ведение протокола. Прием входящих звонков. Документооборот. Применение английского языка в работе. '}, 'contacts': None, 'schedule': None, 'working_days': [], 'working_time_intervals': [], 'working_time_modes': [], 'accept_temporary': False, 'professional_roles': [{'id': '110', 'name': 'Секретарь, помощник руководителя, ассистент'}], 'accept_incomplete_resumes': False, 'experience': {'id': 'between1And3', 'name': 'От 1 года до 3 лет'}, 'employment': {'id': 'full', 'name': 'Полная занятость'}}, {'id': '80151951', 'premium': False, 'name': 'Преподаватель английского языка', 'department': None, 'has_test': False, 'response_letter_required': False, 'area': {'id': '1', 'name': 'Москва', 'url': 'https://api.hh.ru/areas/1'}, 'salary': None, 'type': {'id': 'open', 'name': 'Открытая'}, 'address': {'city': 'Москва', 'street': 'Шелепихинская набережная', 'building': '22', 'lat': 55.757729, 'lng': 37.518371, 'description': None, 'raw': 'Москва, Шелепихинская набережная, 22', 'metro': None, 'metro_stations': [], 'id': '12522101'}, 'response_url': None, 'sort_point_distance': None, 'published_at': '2023-05-05T13:10:08+0300', 'created_at': '2023-05-05T13:10:08+0300', 'archived': False, 'apply_alternate_url': 'https://hh.ru/applicant/vacancy_response?vacancyId=80151951', 'insider_interview': None, 'url': 'https://api.hh.ru/vacancies/80151951?host=hh.ru', 'adv_response_url': None, 'alternate_url': 'https://hh.ru/vacancy/80151951', 'relations': [], 'employer': {'id': '5836310', 'name': 'АНО Творческая Студия Джесс', 'url': 'https://api.hh.ru/employers/5836310', 'alternate_url': 'https://hh.ru/employer/5836310', 'logo_urls': {'90': 'https://hhcdn.ru/employer-logo/5981457.jpeg', '240': 'https://hhcdn.ru/employer-logo/5981458.jpeg', 'original': 'https://hhcdn.ru/employer-logo-original/1090208.jpg'}, 'vacancies_url': 'https://api.hh.ru/vacancies?employer_id=5836310', 'trusted': True}, 'snippet': {'requirement': 'Работа с пенсионерами по программе Московское Долголетие (ВАЖНО иметь диплом или сертификат гос. образца <highlighttext>переводчика</highlighttext> или преподавателя <highlighttext>английского</highlighttext> <highlighttext>языка</highlighttext>). ', 'responsibility': 'Проведение занятий по английскому языку в группах и индивидуально.'}, 'contacts': None, 'schedule': None, 'working_days': [], 'working_time_intervals': [{'id': 'from_four_to_six_hours_in_a_day', 'name': 'Можно работать сменами по\\xa04–6 часов в\\xa0день'}], 'working_time_modes': [], 'accept_temporary': True, 'professional_roles': [{'id': '132', 'name': 'Учитель, преподаватель, педагог'}], 'accept_incomplete_resumes': False, 'experience': {'id': 'between1And3', 'name': 'От 1 года до 3 лет'}, 'employment': {'id': 'part', 'name': 'Частичная занятость'}}, {'id': '79781245', 'premium': False, 'name': 'Переводчик английского языка', 'department': None, 'has_test': False, 'response_letter_required': False, 'area': {'id': '1', 'name': 'Москва', 'url': 'https://api.hh.ru/areas/1'}, 'salary': None, 'type': {'id': 'open', 'name': 'Открытая'}, 'address': None, 'response_url': None, 'sort_point_distance': None, 'published_at': '2023-04-25T14:41:46+0300', 'created_at': '2023-04-25T14:41:46+0300', 'archived': False, 'apply_alternate_url': 'https://hh.ru/applicant/vacancy_response?vacancyId=79781245', 'insider_interview': None, 'url': 'https://api.hh.ru/vacancies/79781245?host=hh.ru', 'adv_response_url': None, 'alternate_url': 'https://hh.ru/vacancy/79781245', 'relations': [], 'employer': {'id': '5113582', 'name': 'ЮТИМ', 'url': 'https://api.hh.ru/employers/5113582', 'alternate_url': 'https://hh.ru/employer/5113582', 'logo_urls': {'original': 'https://hhcdn.ru/employer-logo-original/1074198.png', '240': 'https://hhcdn.ru/employer-logo/5917422.png', '90': 'https://hhcdn.ru/employer-logo/5917421.png'}, 'vacancies_url': 'https://api.hh.ru/vacancies?employer_id=5113582', 'trusted': True}, 'snippet': {'requirement': 'Знание английского языка на высоком уровне, знание китайского будет плюсом. Релевантный опыт работы (опыт письменного перевода технической документации-обязателен). ', 'responsibility': 'Письменный перевод технической документации (технические задания, руководство по эксплуатации, инструкции по пуско-наладке, гарантийные документы, дополнительные соглашения).'}, 'contacts': None, 'schedule': None, 'working_days': [], 'working_time_intervals': [], 'working_time_modes': [], 'accept_temporary': False, 'professional_roles': [{'id': '93', 'name': 'Переводчик'}], 'accept_incomplete_resumes': False, 'experience': {'id': 'between3And6', 'name': 'От 3 до 6 лет'}, 'employment': {'id': 'full', 'name': 'Полная занятость'}}, {'id': '78632203', 'premium': False, 'name': 'Менеджер-переводчик английского языка', 'department': None, 'has_test': False, 'response_letter_required': False, 'area': {'id': '1', 'name': 'Москва', 'url': 'https://api.hh.ru/areas/1'}, 'salary': None, 'type': {'id': 'open', 'name': 'Открытая'}, 'address': None, 'response_url': None, 'sort_point_distance': None, 'published_at': '2023-04-27T13:05:21+0300', 'created_at': '2023-04-27T13:05:21+0300', 'archived': False, 'apply_alternate_url': 'https://hh.ru/applicant/vacancy_response?vacancyId=78632203', 'insider_interview': None, 'url': 'https://api.hh.ru/vacancies/78632203?host=hh.ru', 'adv_response_url': None, 'alternate_url': 'https://hh.ru/vacancy/78632203', 'relations': [], 'employer': {'id': '10161', 'name': 'NEOTECH', 'url': 'https://api.hh.ru/employers/10161', 'alternate_url': 'https://hh.ru/employer/10161', 'logo_urls': {'90': 'https://hhcdn.ru/employer-logo/311760.png', '240': 'https://hhcdn.ru/employer-logo/384617.png', 'original': 'https://hhcdn.ru/employer-logo-original/229868.gif'}, 'vacancies_url': 'https://api.hh.ru/vacancies?employer_id=10161', 'trusted': True}, 'snippet': {'requirement': 'Высшее образование (лингвистическое/переводческое). Английский язык (intermediate)‚ также приветствуется знание других иностранных языков. ПК - уверенный пользователь. Опыт сотрудничества с бюро...', 'responsibility': 'Работа с клиентами (БЕЗ ОБЗВОНА И ПОИСКА): Телефонная консультация по услугам компании. Деловая переписка. Работа с заказами: Сопровождение проектов на...'}, 'contacts': None, 'schedule': None, 'working_days': [], 'working_time_intervals': [], 'working_time_modes': [], 'accept_temporary': False, 'professional_roles': [{'id': '93', 'name': 'Переводчик'}], 'accept_incomplete_resumes': False, 'experience': {'id': 'noExperience', 'name': 'Нет опыта'}, 'employment': {'id': 'full', 'name': 'Полная занятость'}}, {'id': '80041031', 'premium': False, 'name': 'Переводчик технической документации на английский язык', 'department': {'id': 'mailru-15478-vkontakt', 'name': 'VK, ВКонтакте'}, 'has_test': False, 'response_letter_required': False, 'area': {'id': '1', 'name': 'Москва', 'url': 'https://api.hh.ru/areas/1'}, 'salary': None, 'type': {'id': 'open', 'name': 'Открытая'}, 'address': None, 'response_url': None, 'sort_point_distance': None, 'published_at': '2023-05-03T11:53:48+0300', 'created_at': '2023-05-03T11:53:48+0300', 'archived': False, 'apply_alternate_url': 'https://hh.ru/applicant/vacancy_response?vacancyId=80041031', 'insider_interview': None, 'url': 'https://api.hh.ru/vacancies/80041031?host=hh.ru', 'adv_response_url': None, 'alternate_url': 'https://hh.ru/vacancy/80041031', 'relations': [], 'employer': {'id': '15478', 'name': 'VK', 'url': 'https://api.hh.ru/employers/15478', 'alternate_url': 'https://hh.ru/employer/15478', 'logo_urls': {'original': 'https://hhcdn.ru/employer-logo-original/909726.png', '240': 'https://hhcdn.ru/employer-logo/4079592.png', '90': 'https://hhcdn.ru/employer-logo/4079591.png'}, 'vacancies_url': 'https://api.hh.ru/vacancies?employer_id=15478', 'trusted': True}, 'snippet': {'requirement': 'Свободно владеете английским и русским языком. Имеете опыт работы в переводческой сфере, в идеале — переводили техническую документацию для IT. ', 'responsibility': 'Занимается локализацией приложений, сайта и сервисов ВКонтакте. Переводит тексты для пользователей, партнёров, разработчиков. Заниматься переводом технической документации ВКонтакте на английский...'}, 'contacts': None, 'schedule': None, 'working_days': [], 'working_time_intervals': [], 'working_time_modes': [], 'accept_temporary': False, 'professional_roles': [{'id': '93', 'name': 'Переводчик'}], 'accept_incomplete_resumes': False, 'experience': {'id': 'between1And3', 'name': 'От 1 года до 3 лет'}, 'employment': {'id': 'part', 'name': 'Частичная занятость'}}, {'id': '79479188', 'premium': False, 'name': 'Переводчик английского языка', 'department': None, 'has_test': False, 'response_letter_required': False, 'area': {'id': '1', 'name': 'Москва', 'url': 'https://api.hh.ru/areas/1'}, 'salary': None, 'type': {'id': 'open', 'name': 'Открытая'}, 'address': {'city': 'Москва', 'street': 'Автомоторная улица', 'building': '2', 'lat': 55.848352, 'lng': 37.544108, 'description': None, 'raw': 'Москва, Автомоторная улица, 2', 'metro': {'station_name': 'Лихоборы', 'line_name': 'МЦК', 'station_id': '95.545', 'line_id': '95', 'lat': 55.847222, 'lng': 37.551389}, 'metro_stations': [{'station_name': 'Лихоборы', 'line_name': 'МЦК', 'station_id': '95.545', 'line_id': '95', 'lat': 55.847222, 'lng': 37.551389}, {'station_name': 'Петровско-Разумовская', 'line_name': 'Серпуховско-Тимирязевская', 'station_id': '9.108', 'line_id': '9', 'lat': 55.836565, 'lng': 37.575512}], 'id': '48840'}, 'response_url': None, 'sort_point_distance': None, 'published_at': '2023-04-18T18:20:18+0300', 'created_at': '2023-04-18T18:20:18+0300', 'archived': False, 'apply_alternate_url': 'https://hh.ru/applicant/vacancy_response?vacancyId=79479188', 'insider_interview': None, 'url': 'https://api.hh.ru/vacancies/79479188?host=hh.ru', 'adv_response_url': None, 'alternate_url': 'https://hh.ru/vacancy/79479188', 'relations': [], 'employer': {'id': '173163', 'name': 'НАМИ, ФГУП', 'url': 'https://api.hh.ru/employers/173163', 'alternate_url': 'https://hh.ru/employer/173163', 'logo_urls': {'240': 'https://hhcdn.ru/employer-logo/4159781.png', '90': 'https://hhcdn.ru/employer-logo/4159780.png', 'original': 'https://hhcdn.ru/employer-logo-original/929805.png'}, 'vacancies_url': 'https://api.hh.ru/vacancies?employer_id=173163', 'trusted': True}, 'snippet': {'requirement': 'Высшее лингвистическое образование. Опыт работы переводчиком от 3 лет. Опыт устного последовательного перевода. Опыт технических переводов (тематика \"автомобилестроение\" приветствуется). ', 'responsibility': '85% рабочего времени - письменный перевод технической и коммерческой документации с английского на русский язык и наоборот с использованием CAT-программы. '}, 'contacts': None, 'schedule': None, 'working_days': [], 'working_time_intervals': [], 'working_time_modes': [], 'accept_temporary': False, 'professional_roles': [{'id': '93', 'name': 'Переводчик'}], 'accept_incomplete_resumes': False, 'experience': {'id': 'between3And6', 'name': 'От 3 до 6 лет'}, 'employment': {'id': 'full', 'name': 'Полная занятость'}}, {'id': '79589653', 'premium': False, 'name': 'Старший переводчик', 'department': None, 'has_test': False, 'response_letter_required': False, 'area': {'id': '1', 'name': 'Москва', 'url': 'https://api.hh.ru/areas/1'}, 'salary': {'from': None, 'to': 90000, 'currency': 'RUR', 'gross': True}, 'type': {'id': 'open', 'name': 'Открытая'}, 'address': {'city': 'Москва', 'street': '2-й Южнопортовый проезд', 'building': '14/22', 'lat': 55.703855, 'lng': 37.690228, 'description': None, 'raw': 'Москва, 2-й Южнопортовый проезд, 14/22', 'metro': {'station_name': 'Кожуховская', 'line_name': 'Люблинско-Дмитровская', 'station_id': '10.52', 'line_id': '10', 'lat': 55.706156, 'lng': 37.68544}, 'metro_stations': [{'station_name': 'Кожуховская', 'line_name': 'Люблинско-Дмитровская', 'station_id': '10.52', 'line_id': '10', 'lat': 55.706156, 'lng': 37.68544}], 'id': '161039'}, 'response_url': None, 'sort_point_distance': None, 'published_at': '2023-04-20T11:35:56+0300', 'created_at': '2023-04-20T11:35:56+0300', 'archived': False, 'apply_alternate_url': 'https://hh.ru/applicant/vacancy_response?vacancyId=79589653', 'insider_interview': None, 'url': 'https://api.hh.ru/vacancies/79589653?host=hh.ru', 'adv_response_url': None, 'alternate_url': 'https://hh.ru/vacancy/79589653', 'relations': [], 'employer': {'id': '23148', 'name': 'Финвал, Группа Компаний', 'url': 'https://api.hh.ru/employers/23148', 'alternate_url': 'https://hh.ru/employer/23148', 'logo_urls': {'original': 'https://hhcdn.ru/employer-logo-original/227252.gif', '240': 'https://hhcdn.ru/employer-logo/387238.png', '90': 'https://hhcdn.ru/employer-logo/314381.png'}, 'vacancies_url': 'https://api.hh.ru/vacancies?employer_id=23148', 'trusted': True}, 'snippet': {'requirement': 'Высшее образование, желательно лингвистическое или техническое. Отличное владение английским языком, знание турецкого или китайского языков - приветствуется. Опыт работы переводчиком в...', 'responsibility': 'Осуществление переводов технических документов, договоров, презентаций, переговоров. Взаимодействие с иностранными партнёрами (ведение деловой переписки, телефонные переговоры). Помощь в организации командировок...'}, 'contacts': None, 'schedule': None, 'working_days': [], 'working_time_intervals': [], 'working_time_modes': [], 'accept_temporary': False, 'professional_roles': [{'id': '93', 'name': 'Переводчик'}], 'accept_incomplete_resumes': False, 'experience': {'id': 'between1And3', 'name': 'От 1 года до 3 лет'}, 'employment': {'id': 'full', 'name': 'Полная занятость'}}, {'id': '80241823', 'premium': False, 'name': 'Переводчик со знанием английского и французского языков', 'department': None, 'has_test': False, 'response_letter_required': False, 'area': {'id': '1', 'name': 'Москва', 'url': 'https://api.hh.ru/areas/1'}, 'salary': None, 'type': {'id': 'open', 'name': 'Открытая'}, 'address': {'city': None, 'street': None, 'building': None, 'lat': 0.0, 'lng': 0.0, 'description': None, 'raw': 'Москва, ул. Боровая, д.3. ст. метро, Электрозаводская, Семёновская', 'metro': None, 'metro_stations': [], 'id': '200222'}, 'response_url': None, 'sort_point_distance': None, 'published_at': '2023-05-10T14:08:27+0300', 'created_at': '2023-05-10T14:08:27+0300', 'archived': False, 'apply_alternate_url': 'https://hh.ru/applicant/vacancy_response?vacancyId=80241823', 'insider_interview': None, 'url': 'https://api.hh.ru/vacancies/80241823?host=hh.ru', 'adv_response_url': None, 'alternate_url': 'https://hh.ru/vacancy/80241823', 'relations': [], 'employer': {'id': '39371', 'name': 'RT', 'url': 'https://api.hh.ru/employers/39371', 'alternate_url': 'https://hh.ru/employer/39371', 'logo_urls': {'90': 'https://hhcdn.ru/employer-logo/617864.jpeg', '240': 'https://hhcdn.ru/employer-logo/617865.jpeg', 'original': 'https://hhcdn.ru/employer-logo-original/223838.jpg'}, 'vacancies_url': 'https://api.hh.ru/vacancies?employer_id=39371', 'trusted': True}, 'snippet': {'requirement': 'Высшее образование (лингвистика, журналистика). Опыт работы в СМИ (приветствуется). Свободное владение английским и французским языками ОБЯЗАТЕЛЬНО!!! Внимательность, исполнительность, нацеленность на...', 'responsibility': 'Ежедневный мониторинг СМИ и новостных ТВ программ на английском и французском языках (видеозаписи телеканалов, сайты телекомпаний и газет), а также...'}, 'contacts': None, 'schedule': None, 'working_days': [], 'working_time_intervals': [], 'working_time_modes': [], 'accept_temporary': False, 'professional_roles': [{'id': '55', 'name': 'Копирайтер, редактор, корректор'}], 'accept_incomplete_resumes': False, 'experience': {'id': 'between1And3', 'name': 'От 1 года до 3 лет'}, 'employment': {'id': 'full', 'name': 'Полная занятость'}}, {'id': '79865602', 'premium': False, 'name': 'Редактор юридической и финансовой тематик (английский язык)', 'department': None, 'has_test': False, 'response_letter_required': False, 'area': {'id': '1', 'name': 'Москва', 'url': 'https://api.hh.ru/areas/1'}, 'salary': None, 'type': {'id': 'open', 'name': 'Открытая'}, 'address': None, 'response_url': None, 'sort_point_distance': None, 'published_at': '2023-04-27T10:40:43+0300', 'created_at': '2023-04-27T10:40:43+0300', 'archived': False, 'apply_alternate_url': 'https://hh.ru/applicant/vacancy_response?vacancyId=79865602', 'insider_interview': None, 'url': 'https://api.hh.ru/vacancies/79865602?host=hh.ru', 'adv_response_url': None, 'alternate_url': 'https://hh.ru/vacancy/79865602', 'relations': [], 'employer': {'id': '120070', 'name': 'Лингвариус, бюро переводов', 'url': 'https://api.hh.ru/employers/120070', 'alternate_url': 'https://hh.ru/employer/120070', 'logo_urls': {'240': 'https://hhcdn.ru/employer-logo/3807184.png', '90': 'https://hhcdn.ru/employer-logo/3807183.png', 'original': 'https://hhcdn.ru/employer-logo-original/841577.png'}, 'vacancies_url': 'https://api.hh.ru/vacancies?employer_id=120070', 'trusted': True}, 'snippet': {'requirement': 'Высшее образование по направлению: «Лингвистика». Второе высшее юридическое/экономическое приветствуется. Профессиональное знание английского языка. Грамотность и отличное знание русского языка. ', 'responsibility': 'Редакторская и корректорская правка переводов в области юриспруденции и финансов. Выполнение письменных переводов текстов юридической и экономической тематик (языковые пары...'}, 'contacts': None, 'schedule': None, 'working_days': [], 'working_time_intervals': [], 'working_time_modes': [], 'accept_temporary': False, 'professional_roles': [{'id': '93', 'name': 'Переводчик'}], 'accept_incomplete_resumes': False, 'experience': {'id': 'between3And6', 'name': 'От 3 до 6 лет'}, 'employment': {'id': 'full', 'name': 'Полная занятость'}}, {'id': '80060483', 'premium': False, 'name': 'Переводчик с китайского и английского языков', 'department': None, 'has_test': False, 'response_letter_required': False, 'area': {'id': '1', 'name': 'Москва', 'url': 'https://api.hh.ru/areas/1'}, 'salary': {'from': 40000, 'to': None, 'currency': 'RUR', 'gross': False}, 'type': {'id': 'open', 'name': 'Открытая'}, 'address': None, 'response_url': None, 'sort_point_distance': None, 'published_at': '2023-05-12T16:04:36+0300', 'created_at': '2023-05-12T16:04:36+0300', 'archived': False, 'apply_alternate_url': 'https://hh.ru/applicant/vacancy_response?vacancyId=80060483', 'insider_interview': None, 'url': 'https://api.hh.ru/vacancies/80060483?host=hh.ru', 'adv_response_url': None, 'alternate_url': 'https://hh.ru/vacancy/80060483', 'relations': [], 'employer': {'id': '4019147', 'name': 'Бюро переводов Win-Win', 'url': 'https://api.hh.ru/employers/4019147', 'alternate_url': 'https://hh.ru/employer/4019147', 'logo_urls': None, 'vacancies_url': 'https://api.hh.ru/vacancies?employer_id=4019147', 'trusted': True}, 'snippet': {'requirement': 'письменный перевод текстов преимущественно юридической направленности и личных документов: документы об образовании (дипломы, аттестаты, табели успеваемости), свидетельства, доверенности, договоры, презентации...', 'responsibility': 'Основное направление перевода: 60% - c китайского на русский, 10% с русского на китайский, 30% - c русского на английский и обратно. - '}, 'contacts': None, 'schedule': None, 'working_days': [], 'working_time_intervals': [], 'working_time_modes': [], 'accept_temporary': True, 'professional_roles': [{'id': '93', 'name': 'Переводчик'}], 'accept_incomplete_resumes': False, 'experience': {'id': 'between1And3', 'name': 'От 1 года до 3 лет'}, 'employment': {'id': 'full', 'name': 'Полная занятость'}}, {'id': '79328522', 'premium': False, 'name': 'Переводчик-редактор английского языка (в офисе)', 'department': None, 'has_test': False, 'response_letter_required': False, 'area': {'id': '1', 'name': 'Москва', 'url': 'https://api.hh.ru/areas/1'}, 'salary': {'from': 62000, 'to': 105000, 'currency': 'RUR', 'gross': False}, 'type': {'id': 'open', 'name': 'Открытая'}, 'address': {'city': 'Москва', 'street': 'Пресненская набережная', 'building': '12', 'lat': 55.749628, 'lng': 37.537425, 'description': None, 'raw': 'Москва, Пресненская набережная, 12', 'metro': {'station_name': 'Деловой центр', 'line_name': 'Большая кольцевая линия', 'station_id': '97.603', 'line_id': '97', 'lat': 55.7491, 'lng': 37.5395}, 'metro_stations': [{'station_name': 'Деловой центр', 'line_name': 'Большая кольцевая линия', 'station_id': '97.603', 'line_id': '97', 'lat': 55.7491, 'lng': 37.5395}, {'station_name': 'Деловой центр', 'line_name': 'Солнцевская', 'station_id': '133.468', 'line_id': '133', 'lat': 55.7491, 'lng': 37.5395}, {'station_name': 'Международная', 'line_name': 'Филевская', 'station_id': '4.179', 'line_id': '4', 'lat': 55.748324, 'lng': 37.533282}], 'id': '661377'}, 'response_url': None, 'sort_point_distance': None, 'published_at': '2023-05-12T09:17:18+0300', 'created_at': '2023-05-12T09:17:18+0300', 'archived': False, 'apply_alternate_url': 'https://hh.ru/applicant/vacancy_response?vacancyId=79328522', 'insider_interview': None, 'url': 'https://api.hh.ru/vacancies/79328522?host=hh.ru', 'adv_response_url': None, 'alternate_url': 'https://hh.ru/vacancy/79328522', 'relations': [], 'employer': {'id': '1743075', 'name': 'Агентство переводов Эдельвейс', 'url': 'https://api.hh.ru/employers/1743075', 'alternate_url': 'https://hh.ru/employer/1743075', 'logo_urls': {'240': 'https://hhcdn.ru/employer-logo/2620926.jpeg', '90': 'https://hhcdn.ru/employer-logo/2620925.jpeg', 'original': 'https://hhcdn.ru/employer-logo-original/544863.jpg'}, 'vacancies_url': 'https://api.hh.ru/vacancies?employer_id=1743075', 'trusted': True}, 'snippet': {'requirement': 'Знание CAT-программ. Высокая скорость работы. Опыт от 1 года обязательно, в том числе устным переводчиком. Наличие диплома переводчика. ', 'responsibility': 'Перевод документов английский-русский/русский-английский. Устный последовательный перевод. Командировки по России и за рубеж. Владение синхронным переводом будет преимуществом. '}, 'contacts': None, 'schedule': None, 'working_days': [], 'working_time_intervals': [], 'working_time_modes': [], 'accept_temporary': False, 'professional_roles': [{'id': '40', 'name': 'Другое'}], 'accept_incomplete_resumes': False, 'experience': {'id': 'between1And3', 'name': 'От 1 года до 3 лет'}, 'employment': {'id': 'full', 'name': 'Полная занятость'}}, {'id': '79744838', 'premium': False, 'name': 'Администратор - переводчик английского языка', 'department': None, 'has_test': False, 'response_letter_required': False, 'area': {'id': '1', 'name': 'Москва', 'url': 'https://api.hh.ru/areas/1'}, 'salary': {'from': 50000, 'to': 50000, 'currency': 'RUR', 'gross': False}, 'type': {'id': 'open', 'name': 'Открытая'}, 'address': {'city': 'Конаковский район', 'street': None, 'building': 'пристань отеля Завидово Резорт', 'lat': 56.578265, 'lng': 36.445406, 'description': None, 'raw': 'Конаковский район, пристань отеля Завидово Резорт', 'metro': None, 'metro_stations': [], 'id': '2129876'}, 'response_url': None, 'sort_point_distance': None, 'published_at': '2023-04-24T17:14:29+0300', 'created_at': '2023-04-24T17:14:29+0300', 'archived': False, 'apply_alternate_url': 'https://hh.ru/applicant/vacancy_response?vacancyId=79744838', 'insider_interview': None, 'url': 'https://api.hh.ru/vacancies/79744838?host=hh.ru', 'adv_response_url': None, 'alternate_url': 'https://hh.ru/vacancy/79744838', 'relations': [], 'employer': {'id': '1560591', 'name': 'Атрея Аюрведа', 'url': 'https://api.hh.ru/employers/1560591', 'alternate_url': 'https://hh.ru/employer/1560591', 'logo_urls': {'240': 'https://hhcdn.ru/employer-logo/1080057.png', '90': 'https://hhcdn.ru/employer-logo/1080056.png', 'original': 'https://hhcdn.ru/employer-logo-original/9633.png'}, 'vacancies_url': 'https://api.hh.ru/vacancies?employer_id=1560591', 'trusted': True}, 'snippet': {'requirement': 'Наличие медицинской книжки. Умение решать конфликтные ситуации. Уверенный пользователь ПК. Грамотная устная и письменная речь. MS Office (Word, Excel) - уверенный...', 'responsibility': 'Предоставление информационно-справочных данных пациентам. Приём телефонных звонков, приём-передача сообщений для докторов. Координационные функции (встреча, оформление, сопровождение по клинике). '}, 'contacts': None, 'schedule': None, 'working_days': [], 'working_time_intervals': [], 'working_time_modes': [], 'accept_temporary': False, 'professional_roles': [{'id': '93', 'name': 'Переводчик'}], 'accept_incomplete_resumes': False, 'experience': {'id': 'between1And3', 'name': 'От 1 года до 3 лет'}, 'employment': {'id': 'full', 'name': 'Полная занятость'}}]\n"
          ]
        }
      ]
    },
    {
      "cell_type": "markdown",
      "source": [
        "(1 балл) Посчитайте сколько всего найдено вакансий:"
      ],
      "metadata": {
        "id": "g0bdgyNWquuY"
      }
    },
    {
      "cell_type": "code",
      "source": [
        "count = datach['found'] +datasp['found'] +datait['found'] + datafr['found'] + dataen['found']\n",
        "count"
      ],
      "metadata": {
        "id": "lxyXtIs6q5cc",
        "colab": {
          "base_uri": "https://localhost:8080/"
        },
        "outputId": "0788e20c-1003-4dc9-8473-aca9dcbe7d35"
      },
      "execution_count": null,
      "outputs": [
        {
          "output_type": "execute_result",
          "data": {
            "text/plain": [
              "96"
            ]
          },
          "metadata": {},
          "execution_count": 8
        }
      ]
    },
    {
      "cell_type": "markdown",
      "source": [
        "(1 балл) Создайте структуру данных, которая будет хранить в себе имя компании и ее координаты (широта и долгота):"
      ],
      "metadata": {
        "id": "wQeULnNyq5wk"
      }
    },
    {
      "cell_type": "code",
      "source": [
        "class Company:\n",
        "    def __init__(self, name, x, y) -> None:\n",
        "        self.name = name\n",
        "        self.x = x\n",
        "        self.y = y"
      ],
      "metadata": {
        "id": "aR501yltVdLm"
      },
      "execution_count": null,
      "outputs": []
    },
    {
      "cell_type": "markdown",
      "source": [
        "(1 балл) Создайте экземпляр этой структуры данных для каждой компании, которая выставила вакансию:"
      ],
      "metadata": {
        "id": "ccIi3wIvVkG0"
      }
    },
    {
      "cell_type": "code",
      "source": [
        "companies = []\n",
        "def add(data):\n",
        "  for i in range(len(data['items'])):\n",
        "    if data['items'][i]['address'] != None:\n",
        "      x = Company(data['items'][i]['employer']['name'], data['items'][i]['address']['lat'], data['items'][i]['address']['lng'])\n",
        "      companies.append(x)\n",
        "\n",
        "add(datach)\n",
        "add(datafr)\n",
        "add(datait)\n",
        "add(dataen)\n",
        "add(datasp)\n",
        "\n",
        "for i in range(len(companies)):\n",
        "  print(companies[i].name, companies[i].x, companies[i].y)\n"
      ],
      "metadata": {
        "id": "tR6mYW7jtcCQ",
        "colab": {
          "base_uri": "https://localhost:8080/"
        },
        "outputId": "55388113-2dd5-4a71-8cda-32bb67e1786f"
      },
      "execution_count": null,
      "outputs": [
        {
          "output_type": "stream",
          "name": "stdout",
          "text": [
            "Фаворит, Международный кадровый центр 55.77152 37.651502\n",
            "NEOTECH 55.793414 37.698538\n",
            "СюйГун Ру 55.657352 37.368038\n",
            "ЛАНИТ None None\n",
            "CNC ELECTRIC 55.839855 37.490272\n",
            "Национальный туристический офис Китая в г.Москва 55.679433 37.566952\n",
            "Wayz Intelligent Manufacturing Technology Co.Ltd 55.692328 37.663009\n",
            "Лаиска 55.633028 37.441404\n",
            "Золотая Гора 19.91118049621582 99.8348617553711\n",
            "ЛИКСИ 55.691521 37.43322\n",
            "СК-ОБЬ 55.868425 37.404627\n",
            "СДС 55.852733 37.390218\n",
            "RT 0.0 0.0\n",
            "Международная медиагруппа Россия сегодня (МИА Россия сегодня) 55.737355 37.590488\n",
            "RT 0.0 0.0\n",
            "Международная медиагруппа Россия сегодня (МИА Россия сегодня) 55.737355 37.590488\n",
            "Золотая Гора 19.91118049621582 99.8348617553711\n",
            "КНГК-ИНПЗ 55.786753 37.250835\n",
            "Русатом Сервис 55.683787 37.554169\n",
            "Холдинговая Компания Дальснаб 43.276584 132.064761\n",
            "КНГК-ИНПЗ 55.723247 37.564105\n",
            "АНО Творческая Студия Джесс 55.757729 37.518371\n",
            "НАМИ, ФГУП 55.848352 37.544108\n",
            "Финвал, Группа Компаний 55.703855 37.690228\n",
            "RT 0.0 0.0\n",
            "Агентство переводов Эдельвейс 55.749628 37.537425\n",
            "Атрея Аюрведа 56.578265 36.445406\n",
            "RT 0.0 0.0\n",
            "RT 0.0 0.0\n",
            "Айэстэ 55.816591 37.648412\n"
          ]
        }
      ]
    },
    {
      "cell_type": "markdown",
      "source": [
        "(1 балл) Найдите количество вакансий, у которых заданы координаты (значения данных может быть пустым):"
      ],
      "metadata": {
        "id": "SyBpNd0vtcNu"
      }
    },
    {
      "cell_type": "code",
      "source": [
        "len(companies)"
      ],
      "metadata": {
        "id": "lVgNCVALt2qJ",
        "colab": {
          "base_uri": "https://localhost:8080/"
        },
        "outputId": "fc152385-5905-4d50-b9e7-29ef951325f2"
      },
      "execution_count": null,
      "outputs": [
        {
          "output_type": "execute_result",
          "data": {
            "text/plain": [
              "30"
            ]
          },
          "metadata": {},
          "execution_count": 12
        }
      ]
    },
    {
      "cell_type": "markdown",
      "source": [
        "(1 балл) Отберите вакансии, которые расположены в пределах МКАД (можно грубо):"
      ],
      "metadata": {
        "id": "aWNXrM-cu5Vi"
      }
    },
    {
      "cell_type": "code",
      "source": [
        "neededcompanies = []\n",
        "for item in companies:\n",
        "  if item.x != None and item.y != None and item.y >= 36 and item.y <= 39 and item.x >= 53 and item.x <= 56:\n",
        "    neededcompanies.append(item)\n"
      ],
      "metadata": {
        "id": "01g9wVEyyn-J"
      },
      "execution_count": null,
      "outputs": []
    },
    {
      "cell_type": "markdown",
      "source": [
        "(1 балл) Постройте график в координатах \"широта-долгота\" для отображения вакансий внутри МКАД (не забывайте прописать прозрачность, чтобы увидеть скопления):"
      ],
      "metadata": {
        "id": "4LCb9IL_bgB_"
      }
    },
    {
      "cell_type": "code",
      "source": [
        "x = [item.x for item in neededcompanies]\n",
        "y = [item.y for item in neededcompanies]\n",
        "names = [item.name for item in neededcompanies]\n",
        "plt.plot(x, y, 'ro', alpha = 0.5)\n",
        "plt.show()"
      ],
      "metadata": {
        "id": "6ogiXDvKcDV8",
        "colab": {
          "base_uri": "https://localhost:8080/",
          "height": 430
        },
        "outputId": "04a2f0d3-588e-4180-db28-5ca602effa70"
      },
      "execution_count": null,
      "outputs": [
        {
          "output_type": "display_data",
          "data": {
            "text/plain": [
              "<Figure size 640x480 with 1 Axes>"
            ],
            "image/png": "[encoded data removed]"
          },
          "metadata": {}
        }
      ]
    },
    {
      "cell_type": "markdown",
      "source": [
        "(1 балл) Нанесите все точки вакансий на карту (для этого вам поможет данная <a target=\"_blank\" href=\"https://plotly.com/python/mapbox-layers/\">документации</a>, не забудьте про прозрачность и центрирование по Москве): "
      ],
      "metadata": {
        "id": "YvS8b7eqt214"
      }
    },
    {
      "cell_type": "code",
      "source": [
        "dataxy = {\n",
        "  \"lat\": x,\n",
        "  \"lon\": y,\n",
        "  \"name\": names\n",
        "}\n",
        "\n",
        "pointss = pd.DataFrame(dataxy)\n",
        "fig = px.scatter_mapbox(\n",
        "    pointss,\n",
        "    lat= \"lat\",\n",
        "    lon= \"lon\",\n",
        "    hover_name = \"name\",\n",
        "    zoom=10,\n",
        "    height=500,\n",
        ")\n",
        "fig.update_layout(mapbox_style=\"open-street-map\")\n",
        "fig.update_layout(margin={\"r\": 0, \"t\": 0, \"l\": 0, \"b\": 0})\n",
        "fig.show()"
      ],
      "metadata": {
        "id": "1ceHEBdAys8o",
        "colab": {
          "base_uri": "https://localhost:8080/",
          "height": 517
        },
        "outputId": "43bc43b8-d148-4e9d-a5e6-2b98f973dab0"
      },
      "execution_count": null,
      "outputs": [
        {
          "output_type": "display_data",
          "data": {
            "text/html": [
              "<html>\n",
              "<head><meta charset=\"utf-8\" /></head>\n",
              "<body>\n",
              "    <div>            <script src=\"https://cdnjs.cloudflare.com/ajax/libs/mathjax/2.7.5/MathJax.js?config=TeX-AMS-MML_SVG\"></script><script type=\"text/javascript\">if (window.MathJax && window.MathJax.Hub && window.MathJax.Hub.Config) {window.MathJax.Hub.Config({SVG: {font: \"STIX-Web\"}});}</script>                <script type=\"text/javascript\">window.PlotlyConfig = {MathJaxConfig: 'local'};</script>\n",
              "        <script src=\"https://cdn.plot.ly/plotly-2.18.2.min.js\"></script>                <div id=\"bc4cefff-a55b-4238-9e04-858b31726e5b\" class=\"plotly-graph-div\" style=\"height:500px; width:100%;\"></div>            <script type=\"text/javascript\">                                    window.PLOTLYENV=window.PLOTLYENV || {};                                    if (document.getElementById(\"bc4cefff-a55b-4238-9e04-858b31726e5b\")) {                    Plotly.newPlot(                        \"bc4cefff-a55b-4238-9e04-858b31726e5b\",                        [{\"hovertemplate\":\"<b>%{hovertext}</b><br><br>lat=%{lat}<br>lon=%{lon}<extra></extra>\",\"hovertext\":[\"\\u041b\\u0443\\u043d\\u043d\\u044b\\u0439 \\u0421\\u0432\\u0435\\u0442\",\"\\u0424\\u0415\\u0420\\u0420\\u041e\\u041c\\u041e\\u041d\\u0422 \\u0420\\u0410\\u0428\\u0410\",\"Wayz Intelligent Manufacturing Technology Co.Ltd\",\"\\u0413\\u041a \\u0420\\u0418\\u041d\\u0410\\u041a\\u041e\",\"\\u041f\\u0435\\u043b\\u0438\\u0433\\u0440\\u0438\\u043d\",\"NEOTECH\",\"\\u0424\\u0430\\u0432\\u043e\\u0440\\u0438\\u0442, \\u041c\\u0435\\u0436\\u0434\\u0443\\u043d\\u0430\\u0440\\u043e\\u0434\\u043d\\u044b\\u0439 \\u043a\\u0430\\u0434\\u0440\\u043e\\u0432\\u044b\\u0439 \\u0446\\u0435\\u043d\\u0442\\u0440\",\"\\u0423\\u041a \\u0417\\u043e\\u043b\\u043e\\u0442\\u0430\\u044f \\u041c\\u0438\\u043b\\u044f\",\"\\u0421\\u041c-\\u041c\\u043e\\u0442\\u043e\\u0440\\u0441\",\"\\u041f\\u0440\\u0435\\u0434\\u0441\\u0442\\u0430\\u0432\\u0438\\u0442\\u0435\\u043b\\u044c\\u0441\\u0442\\u0432\\u043e \\u0425\\u0430\\u0440\\u0431\\u0438\\u043d\\u0441\\u043a\\u043e\\u0439 \\u043a\\u043e\\u043c\\u043f\\u0430\\u043d\\u0438\\u0438 \\u043c\\u0435\\u0436\\u0434\\u0443\\u043d\\u0430\\u0440\\u043e\\u0434\\u043d\\u043e\\u0439 \\u0442\\u043e\\u0440\\u0433\\u043e\\u0432\\u043b\\u0438 \\u0414\\u0443\\u043d\\u0444\\u0430\\u043d\",\"\\u0421\\u044e\\u0439\\u0413\\u0443\\u043d \\u0420\\u0443\",\"Translink Group (\\u041e\\u041e\\u041e \\u0413\\u043e\\u0441\\u041f\\u0435\\u0440\\u0435\\u0432\\u043e\\u0434)\",\"\\u041c\\u0435\\u0436\\u0434\\u0443\\u043d\\u0430\\u0440\\u043e\\u0434\\u043d\\u0430\\u044f \\u043c\\u0435\\u0434\\u0438\\u0430\\u0433\\u0440\\u0443\\u043f\\u043f\\u0430 \\u0420\\u043e\\u0441\\u0441\\u0438\\u044f \\u0441\\u0435\\u0433\\u043e\\u0434\\u043d\\u044f (\\u041c\\u0418\\u0410 \\u0420\\u043e\\u0441\\u0441\\u0438\\u044f \\u0441\\u0435\\u0433\\u043e\\u0434\\u043d\\u044f)\",\"\\u041c\\u0435\\u0436\\u0434\\u0443\\u043d\\u0430\\u0440\\u043e\\u0434\\u043d\\u0430\\u044f \\u043c\\u0435\\u0434\\u0438\\u0430\\u0433\\u0440\\u0443\\u043f\\u043f\\u0430 \\u0420\\u043e\\u0441\\u0441\\u0438\\u044f \\u0441\\u0435\\u0433\\u043e\\u0434\\u043d\\u044f (\\u041c\\u0418\\u0410 \\u0420\\u043e\\u0441\\u0441\\u0438\\u044f \\u0441\\u0435\\u0433\\u043e\\u0434\\u043d\\u044f)\",\"Shopping Live\",\"\\u0424\\u0413\\u0411\\u0423 \\u00ab\\u0426\\u0435\\u043d\\u0442\\u0440 \\u043e\\u0446\\u0435\\u043d\\u043a\\u0438 \\u043a\\u0430\\u0447\\u0435\\u0441\\u0442\\u0432\\u0430 \\u0437\\u0435\\u0440\\u043d\\u0430\\u00bb\",\"MotionLingvo\",\"\\u041b\\u0438\\u0433\\u0430\\u043b-\\u041c\",\"\\u0420\\u0443\\u0441\\u0430\\u0442\\u043e\\u043c \\u0421\\u0435\\u0440\\u0432\\u0438\\u0441\",\"\\u0424\\u0438\\u043d\\u0432\\u0430\\u043b, \\u0413\\u0440\\u0443\\u043f\\u043f\\u0430 \\u041a\\u043e\\u043c\\u043f\\u0430\\u043d\\u0438\\u0439\",\"\\u041c\\u0435\\u0436\\u0434\\u0443\\u043d\\u0430\\u0440\\u043e\\u0434\\u043d\\u0430\\u044f \\u043c\\u0435\\u0434\\u0438\\u0430\\u0433\\u0440\\u0443\\u043f\\u043f\\u0430 \\u0420\\u043e\\u0441\\u0441\\u0438\\u044f \\u0441\\u0435\\u0433\\u043e\\u0434\\u043d\\u044f (\\u041c\\u0418\\u0410 \\u0420\\u043e\\u0441\\u0441\\u0438\\u044f \\u0441\\u0435\\u0433\\u043e\\u0434\\u043d\\u044f)\",\"\\u0410\\u0439\\u044d\\u0441\\u0442\\u044d\"],\"lat\":[55.70180069020994,55.655808,55.692328,55.79013,55.446937,55.793414,55.77152,55.73694830900771,55.799047,55.671006,55.657352,55.729062,55.737355,55.737355,55.822878,55.77636,55.702659157024534,55.708354,55.683787,55.703855,55.737355,55.816591],\"legendgroup\":\"\",\"lon\":[37.4973097075804,37.498168,37.663009,37.380354,37.765462,37.698538,37.651502,37.600434382941266,37.695402,37.534083,37.368038,37.631065,37.590488,37.590488,37.606281,37.641521,37.650555394194775,37.652705,37.554169,37.690228,37.590488,37.648412],\"marker\":{\"color\":\"#636efa\"},\"mode\":\"markers\",\"name\":\"\",\"showlegend\":false,\"subplot\":\"mapbox\",\"type\":\"scattermapbox\"}],                        {\"template\":{\"data\":{\"histogram2dcontour\":[{\"type\":\"histogram2dcontour\",\"colorbar\":{\"outlinewidth\":0,\"ticks\":\"\"},\"colorscale\":[[0.0,\"#0d0887\"],[0.1111111111111111,\"#46039f\"],[0.2222222222222222,\"#7201a8\"],[0.3333333333333333,\"#9c179e\"],[0.4444444444444444,\"#bd3786\"],[0.5555555555555556,\"#d8576b\"],[0.6666666666666666,\"#ed7953\"],[0.7777777777777778,\"#fb9f3a\"],[0.8888888888888888,\"#fdca26\"],[1.0,\"#f0f921\"]]}],\"choropleth\":[{\"type\":\"choropleth\",\"colorbar\":{\"outlinewidth\":0,\"ticks\":\"\"}}],\"histogram2d\":[{\"type\":\"histogram2d\",\"colorbar\":{\"outlinewidth\":0,\"ticks\":\"\"},\"colorscale\":[[0.0,\"#0d0887\"],[0.1111111111111111,\"#46039f\"],[0.2222222222222222,\"#7201a8\"],[0.3333333333333333,\"#9c179e\"],[0.4444444444444444,\"#bd3786\"],[0.5555555555555556,\"#d8576b\"],[0.6666666666666666,\"#ed7953\"],[0.7777777777777778,\"#fb9f3a\"],[0.8888888888888888,\"#fdca26\"],[1.0,\"#f0f921\"]]}],\"heatmap\":[{\"type\":\"heatmap\",\"colorbar\":{\"outlinewidth\":0,\"ticks\":\"\"},\"colorscale\":[[0.0,\"#0d0887\"],[0.1111111111111111,\"#46039f\"],[0.2222222222222222,\"#7201a8\"],[0.3333333333333333,\"#9c179e\"],[0.4444444444444444,\"#bd3786\"],[0.5555555555555556,\"#d8576b\"],[0.6666666666666666,\"#ed7953\"],[0.7777777777777778,\"#fb9f3a\"],[0.8888888888888888,\"#fdca26\"],[1.0,\"#f0f921\"]]}],\"heatmapgl\":[{\"type\":\"heatmapgl\",\"colorbar\":{\"outlinewidth\":0,\"ticks\":\"\"},\"colorscale\":[[0.0,\"#0d0887\"],[0.1111111111111111,\"#46039f\"],[0.2222222222222222,\"#7201a8\"],[0.3333333333333333,\"#9c179e\"],[0.4444444444444444,\"#bd3786\"],[0.5555555555555556,\"#d8576b\"],[0.6666666666666666,\"#ed7953\"],[0.7777777777777778,\"#fb9f3a\"],[0.8888888888888888,\"#fdca26\"],[1.0,\"#f0f921\"]]}],\"contourcarpet\":[{\"type\":\"contourcarpet\",\"colorbar\":{\"outlinewidth\":0,\"ticks\":\"\"}}],\"contour\":[{\"type\":\"contour\",\"colorbar\":{\"outlinewidth\":0,\"ticks\":\"\"},\"colorscale\":[[0.0,\"#0d0887\"],[0.1111111111111111,\"#46039f\"],[0.2222222222222222,\"#7201a8\"],[0.3333333333333333,\"#9c179e\"],[0.4444444444444444,\"#bd3786\"],[0.5555555555555556,\"#d8576b\"],[0.6666666666666666,\"#ed7953\"],[0.7777777777777778,\"#fb9f3a\"],[0.8888888888888888,\"#fdca26\"],[1.0,\"#f0f921\"]]}],\"surface\":[{\"type\":\"surface\",\"colorbar\":{\"outlinewidth\":0,\"ticks\":\"\"},\"colorscale\":[[0.0,\"#0d0887\"],[0.1111111111111111,\"#46039f\"],[0.2222222222222222,\"#7201a8\"],[0.3333333333333333,\"#9c179e\"],[0.4444444444444444,\"#bd3786\"],[0.5555555555555556,\"#d8576b\"],[0.6666666666666666,\"#ed7953\"],[0.7777777777777778,\"#fb9f3a\"],[0.8888888888888888,\"#fdca26\"],[1.0,\"#f0f921\"]]}],\"mesh3d\":[{\"type\":\"mesh3d\",\"colorbar\":{\"outlinewidth\":0,\"ticks\":\"\"}}],\"scatter\":[{\"fillpattern\":{\"fillmode\":\"overlay\",\"size\":10,\"solidity\":0.2},\"type\":\"scatter\"}],\"parcoords\":[{\"type\":\"parcoords\",\"line\":{\"colorbar\":{\"outlinewidth\":0,\"ticks\":\"\"}}}],\"scatterpolargl\":[{\"type\":\"scatterpolargl\",\"marker\":{\"colorbar\":{\"outlinewidth\":0,\"ticks\":\"\"}}}],\"bar\":[{\"error_x\":{\"color\":\"#2a3f5f\"},\"error_y\":{\"color\":\"#2a3f5f\"},\"marker\":{\"line\":{\"color\":\"#E5ECF6\",\"width\":0.5},\"pattern\":{\"fillmode\":\"overlay\",\"size\":10,\"solidity\":0.2}},\"type\":\"bar\"}],\"scattergeo\":[{\"type\":\"scattergeo\",\"marker\":{\"colorbar\":{\"outlinewidth\":0,\"ticks\":\"\"}}}],\"scatterpolar\":[{\"type\":\"scatterpolar\",\"marker\":{\"colorbar\":{\"outlinewidth\":0,\"ticks\":\"\"}}}],\"histogram\":[{\"marker\":{\"pattern\":{\"fillmode\":\"overlay\",\"size\":10,\"solidity\":0.2}},\"type\":\"histogram\"}],\"scattergl\":[{\"type\":\"scattergl\",\"marker\":{\"colorbar\":{\"outlinewidth\":0,\"ticks\":\"\"}}}],\"scatter3d\":[{\"type\":\"scatter3d\",\"line\":{\"colorbar\":{\"outlinewidth\":0,\"ticks\":\"\"}},\"marker\":{\"colorbar\":{\"outlinewidth\":0,\"ticks\":\"\"}}}],\"scattermapbox\":[{\"type\":\"scattermapbox\",\"marker\":{\"colorbar\":{\"outlinewidth\":0,\"ticks\":\"\"}}}],\"scatterternary\":[{\"type\":\"scatterternary\",\"marker\":{\"colorbar\":{\"outlinewidth\":0,\"ticks\":\"\"}}}],\"scattercarpet\":[{\"type\":\"scattercarpet\",\"marker\":{\"colorbar\":{\"outlinewidth\":0,\"ticks\":\"\"}}}],\"carpet\":[{\"aaxis\":{\"endlinecolor\":\"#2a3f5f\",\"gridcolor\":\"white\",\"linecolor\":\"white\",\"minorgridcolor\":\"white\",\"startlinecolor\":\"#2a3f5f\"},\"baxis\":{\"endlinecolor\":\"#2a3f5f\",\"gridcolor\":\"white\",\"linecolor\":\"white\",\"minorgridcolor\":\"white\",\"startlinecolor\":\"#2a3f5f\"},\"type\":\"carpet\"}],\"table\":[{\"cells\":{\"fill\":{\"color\":\"#EBF0F8\"},\"line\":{\"color\":\"white\"}},\"header\":{\"fill\":{\"color\":\"#C8D4E3\"},\"line\":{\"color\":\"white\"}},\"type\":\"table\"}],\"barpolar\":[{\"marker\":{\"line\":{\"color\":\"#E5ECF6\",\"width\":0.5},\"pattern\":{\"fillmode\":\"overlay\",\"size\":10,\"solidity\":0.2}},\"type\":\"barpolar\"}],\"pie\":[{\"automargin\":true,\"type\":\"pie\"}]},\"layout\":{\"autotypenumbers\":\"strict\",\"colorway\":[\"#636efa\",\"#EF553B\",\"#00cc96\",\"#ab63fa\",\"#FFA15A\",\"#19d3f3\",\"#FF6692\",\"#B6E880\",\"#FF97FF\",\"#FECB52\"],\"font\":{\"color\":\"#2a3f5f\"},\"hovermode\":\"closest\",\"hoverlabel\":{\"align\":\"left\"},\"paper_bgcolor\":\"white\",\"plot_bgcolor\":\"#E5ECF6\",\"polar\":{\"bgcolor\":\"#E5ECF6\",\"angularaxis\":{\"gridcolor\":\"white\",\"linecolor\":\"white\",\"ticks\":\"\"},\"radialaxis\":{\"gridcolor\":\"white\",\"linecolor\":\"white\",\"ticks\":\"\"}},\"ternary\":{\"bgcolor\":\"#E5ECF6\",\"aaxis\":{\"gridcolor\":\"white\",\"linecolor\":\"white\",\"ticks\":\"\"},\"baxis\":{\"gridcolor\":\"white\",\"linecolor\":\"white\",\"ticks\":\"\"},\"caxis\":{\"gridcolor\":\"white\",\"linecolor\":\"white\",\"ticks\":\"\"}},\"coloraxis\":{\"colorbar\":{\"outlinewidth\":0,\"ticks\":\"\"}},\"colorscale\":{\"sequential\":[[0.0,\"#0d0887\"],[0.1111111111111111,\"#46039f\"],[0.2222222222222222,\"#7201a8\"],[0.3333333333333333,\"#9c179e\"],[0.4444444444444444,\"#bd3786\"],[0.5555555555555556,\"#d8576b\"],[0.6666666666666666,\"#ed7953\"],[0.7777777777777778,\"#fb9f3a\"],[0.8888888888888888,\"#fdca26\"],[1.0,\"#f0f921\"]],\"sequentialminus\":[[0.0,\"#0d0887\"],[0.1111111111111111,\"#46039f\"],[0.2222222222222222,\"#7201a8\"],[0.3333333333333333,\"#9c179e\"],[0.4444444444444444,\"#bd3786\"],[0.5555555555555556,\"#d8576b\"],[0.6666666666666666,\"#ed7953\"],[0.7777777777777778,\"#fb9f3a\"],[0.8888888888888888,\"#fdca26\"],[1.0,\"#f0f921\"]],\"diverging\":[[0,\"#8e0152\"],[0.1,\"#c51b7d\"],[0.2,\"#de77ae\"],[0.3,\"#f1b6da\"],[0.4,\"#fde0ef\"],[0.5,\"#f7f7f7\"],[0.6,\"#e6f5d0\"],[0.7,\"#b8e186\"],[0.8,\"#7fbc41\"],[0.9,\"#4d9221\"],[1,\"#276419\"]]},\"xaxis\":{\"gridcolor\":\"white\",\"linecolor\":\"white\",\"ticks\":\"\",\"title\":{\"standoff\":15},\"zerolinecolor\":\"white\",\"automargin\":true,\"zerolinewidth\":2},\"yaxis\":{\"gridcolor\":\"white\",\"linecolor\":\"white\",\"ticks\":\"\",\"title\":{\"standoff\":15},\"zerolinecolor\":\"white\",\"automargin\":true,\"zerolinewidth\":2},\"scene\":{\"xaxis\":{\"backgroundcolor\":\"#E5ECF6\",\"gridcolor\":\"white\",\"linecolor\":\"white\",\"showbackground\":true,\"ticks\":\"\",\"zerolinecolor\":\"white\",\"gridwidth\":2},\"yaxis\":{\"backgroundcolor\":\"#E5ECF6\",\"gridcolor\":\"white\",\"linecolor\":\"white\",\"showbackground\":true,\"ticks\":\"\",\"zerolinecolor\":\"white\",\"gridwidth\":2},\"zaxis\":{\"backgroundcolor\":\"#E5ECF6\",\"gridcolor\":\"white\",\"linecolor\":\"white\",\"showbackground\":true,\"ticks\":\"\",\"zerolinecolor\":\"white\",\"gridwidth\":2}},\"shapedefaults\":{\"line\":{\"color\":\"#2a3f5f\"}},\"annotationdefaults\":{\"arrowcolor\":\"#2a3f5f\",\"arrowhead\":0,\"arrowwidth\":1},\"geo\":{\"bgcolor\":\"white\",\"landcolor\":\"#E5ECF6\",\"subunitcolor\":\"white\",\"showland\":true,\"showlakes\":true,\"lakecolor\":\"white\"},\"title\":{\"x\":0.05},\"mapbox\":{\"style\":\"light\"}}},\"mapbox\":{\"domain\":{\"x\":[0.0,1.0],\"y\":[0.0,1.0]},\"center\":{\"lat\":55.72145009801101,\"lon\":37.59994093112348},\"zoom\":10,\"style\":\"open-street-map\"},\"legend\":{\"tracegroupgap\":0},\"margin\":{\"t\":0,\"r\":0,\"l\":0,\"b\":0},\"height\":500},                        {\"responsive\": true}                    ).then(function(){\n",
              "                            \n",
              "var gd = document.getElementById('bc4cefff-a55b-4238-9e04-858b31726e5b');\n",
              "var x = new MutationObserver(function (mutations, observer) {{\n",
              "        var display = window.getComputedStyle(gd).display;\n",
              "        if (!display || display === 'none') {{\n",
              "            console.log([gd, 'removed!']);\n",
              "            Plotly.purge(gd);\n",
              "            observer.disconnect();\n",
              "        }}\n",
              "}});\n",
              "\n",
              "// Listen for the removal of the full notebook cells\n",
              "var notebookContainer = gd.closest('#notebook-container');\n",
              "if (notebookContainer) {{\n",
              "    x.observe(notebookContainer, {childList: true});\n",
              "}}\n",
              "\n",
              "// Listen for the clearing of the current output cell\n",
              "var outputEl = gd.closest('.output');\n",
              "if (outputEl) {{\n",
              "    x.observe(outputEl, {childList: true});\n",
              "}}\n",
              "\n",
              "                        })                };                            </script>        </div>\n",
              "</body>\n",
              "</html>"
            ]
          },
          "metadata": {}
        }
      ]
    },
    {
      "cell_type": "markdown",
      "source": [
        "(2 балла) **Сделайте выводы о проделанной работе:**"
      ],
      "metadata": {
        "id": "u-p3Llc361PN"
      }
    },
    {
      "cell_type": "markdown",
      "source": [
        "Переводчики требуются наиболее всего именно в определённых районах. Скорее всего это из-за того, что в этих районах чаще происходит взаимодействие с иностранными компаниями."
      ],
      "metadata": {
        "id": "orSnO-lPiYW8"
      }
    },
    {
      "cell_type": "markdown",
      "source": [
        "## Задание 2. Анализ данных - 20 баллов"
      ],
      "metadata": {
        "id": "wVcCTF_Zz58q"
      }
    },
    {
      "cell_type": "markdown",
      "source": [
        "\n",
        "\n",
        "Поясним значения хранящиеся в колонках:\n",
        "*   `cut` - огранка бриллианта (относится к одной из примерно 10 наиболее распространенных)\n",
        "*   `color` - цвет бриллианта, прозрачные бриллианты имеют градацию `D-Z`, \"более высокие\" буквы - более желтоватые, но часто имеют лучшие значения, поскольку цвет трудно определить один раз в кольце\n",
        "*   `clarity` - чистота бриллианта, наличие включений (внутренних дефектов), чем меньше и мельче, тем лучше\n",
        "*   `carat_weight` - масса бриллианта (слабо связана с размером бриллианта, т.к. огранка и качество огранки, как правило, играют большую роль)\n",
        "*   `cut_quality` - качество ограники по системе оценки GIA Cut\n",
        "*   `lab` - лаборатория оценивания\n",
        "*   `meas_length` - длина бриллианта\n",
        "*   `meas_width` - ширина бриллианта\n",
        "*   `meas_depth` - глубина бриллианта\n",
        "*   `total_sales_price` - цена бриллианта в долларах.\n",
        "*    **и прочие колонки**"
      ],
      "metadata": {
        "id": "CvEO3-NI0Gez"
      }
    },
    {
      "cell_type": "markdown",
      "source": [
        "Скачаем данные:"
      ],
      "metadata": {
        "id": "7mK1QntN6ZXh"
      }
    },
    {
      "cell_type": "code",
      "source": [
        "!gdown 1uIWeZFz3ElB5p1brBVEwJBHTbjXNPdfU"
      ],
      "metadata": {
        "id": "LnCK3gCoebjw",
        "colab": {
          "base_uri": "https://localhost:8080/"
        },
        "outputId": "4a1aa930-551c-4fa5-bc27-583171675417"
      },
      "execution_count": null,
      "outputs": [
        {
          "output_type": "stream",
          "name": "stdout",
          "text": [
            "Downloading...\n",
            "From: https://drive.google.com/uc?id=1uIWeZFz3ElB5p1brBVEwJBHTbjXNPdfU\n",
            "To: /content/diamonds.csv\n",
            "100% 35.4M/35.4M [00:00<00:00, 224MB/s]\n"
          ]
        }
      ]
    },
    {
      "cell_type": "markdown",
      "source": [
        "Создадим DataFrame:"
      ],
      "metadata": {
        "id": "wfSqVYoIfi3-"
      }
    },
    {
      "cell_type": "code",
      "source": [
        "diamonds = pd.read_csv(\"diamonds.csv\")"
      ],
      "metadata": {
        "id": "cDgRJzRp6Ow4"
      },
      "execution_count": null,
      "outputs": []
    },
    {
      "cell_type": "markdown",
      "source": [
        "(0.5 балла) Выведете первые 5 строк датасета:"
      ],
      "metadata": {
        "id": "vlw_3lXG6bhv"
      }
    },
    {
      "cell_type": "code",
      "source": [
        "diamonds[:5]"
      ],
      "metadata": {
        "id": "gHA-AnSE6fth",
        "colab": {
          "base_uri": "https://localhost:8080/",
          "height": 403
        },
        "outputId": "3854175c-3dfc-463c-c686-a3aab7d84ab7"
      },
      "execution_count": null,
      "outputs": [
        {
          "output_type": "execute_result",
          "data": {
            "text/plain": [
              "   Unnamed: 0    cut color clarity  carat_weight cut_quality  lab   symmetry  \\\n",
              "0           0  Round     E    VVS2          0.09   Excellent  IGI  Very Good   \n",
              "1           1  Round     E    VVS2          0.09   Very Good  IGI  Very Good   \n",
              "2           2  Round     E    VVS2          0.09   Excellent  IGI  Very Good   \n",
              "3           3  Round     E    VVS2          0.09   Excellent  IGI  Very Good   \n",
              "4           4  Round     E    VVS2          0.09   Very Good  IGI  Very Good   \n",
              "\n",
              "      polish eye_clean  ... meas_depth girdle_min  girdle_max  fluor_color  \\\n",
              "0  Very Good   unknown  ...       1.79          M           M      unknown   \n",
              "1  Very Good   unknown  ...       1.78        STK         STK      unknown   \n",
              "2  Very Good   unknown  ...       1.77         TN           M      unknown   \n",
              "3  Very Good   unknown  ...       1.78          M         STK      unknown   \n",
              "4  Excellent   unknown  ...       1.82        STK         STK      unknown   \n",
              "\n",
              "   fluor_intensity  fancy_color_dominant_color  fancy_color_secondary_color  \\\n",
              "0             None                     unknown                      unknown   \n",
              "1             None                     unknown                      unknown   \n",
              "2             None                     unknown                      unknown   \n",
              "3             None                     unknown                      unknown   \n",
              "4             None                     unknown                      unknown   \n",
              "\n",
              "  fancy_color_overtone fancy_color_intensity total_sales_price  \n",
              "0              unknown               unknown               200  \n",
              "1              unknown               unknown               200  \n",
              "2              unknown               unknown               200  \n",
              "3              unknown               unknown               200  \n",
              "4              unknown               unknown               200  \n",
              "\n",
              "[5 rows x 26 columns]"
            ],
            "text/html": [
              "\n",
              "  <div id=\"df-85931330-1bf3-40b9-b853-53b4f78fb7e6\">\n",
              "    <div class=\"colab-df-container\">\n",
              "      <div>\n",
              "<style scoped>\n",
              "    .dataframe tbody tr th:only-of-type {\n",
              "        vertical-align: middle;\n",
              "    }\n",
              "\n",
              "    .dataframe tbody tr th {\n",
              "        vertical-align: top;\n",
              "    }\n",
              "\n",
              "    .dataframe thead th {\n",
              "        text-align: right;\n",
              "    }\n",
              "</style>\n",
              "<table border=\"1\" class=\"dataframe\">\n",
              "  <thead>\n",
              "    <tr style=\"text-align: right;\">\n",
              "      <th></th>\n",
              "      <th>Unnamed: 0</th>\n",
              "      <th>cut</th>\n",
              "      <th>color</th>\n",
              "      <th>clarity</th>\n",
              "      <th>carat_weight</th>\n",
              "      <th>cut_quality</th>\n",
              "      <th>lab</th>\n",
              "      <th>symmetry</th>\n",
              "      <th>polish</th>\n",
              "      <th>eye_clean</th>\n",
              "      <th>...</th>\n",
              "      <th>meas_depth</th>\n",
              "      <th>girdle_min</th>\n",
              "      <th>girdle_max</th>\n",
              "      <th>fluor_color</th>\n",
              "      <th>fluor_intensity</th>\n",
              "      <th>fancy_color_dominant_color</th>\n",
              "      <th>fancy_color_secondary_color</th>\n",
              "      <th>fancy_color_overtone</th>\n",
              "      <th>fancy_color_intensity</th>\n",
              "      <th>total_sales_price</th>\n",
              "    </tr>\n",
              "  </thead>\n",
              "  <tbody>\n",
              "    <tr>\n",
              "      <th>0</th>\n",
              "      <td>0</td>\n",
              "      <td>Round</td>\n",
              "      <td>E</td>\n",
              "      <td>VVS2</td>\n",
              "      <td>0.09</td>\n",
              "      <td>Excellent</td>\n",
              "      <td>IGI</td>\n",
              "      <td>Very Good</td>\n",
              "      <td>Very Good</td>\n",
              "      <td>unknown</td>\n",
              "      <td>...</td>\n",
              "      <td>1.79</td>\n",
              "      <td>M</td>\n",
              "      <td>M</td>\n",
              "      <td>unknown</td>\n",
              "      <td>None</td>\n",
              "      <td>unknown</td>\n",
              "      <td>unknown</td>\n",
              "      <td>unknown</td>\n",
              "      <td>unknown</td>\n",
              "      <td>200</td>\n",
              "    </tr>\n",
              "    <tr>\n",
              "      <th>1</th>\n",
              "      <td>1</td>\n",
              "      <td>Round</td>\n",
              "      <td>E</td>\n",
              "      <td>VVS2</td>\n",
              "      <td>0.09</td>\n",
              "      <td>Very Good</td>\n",
              "      <td>IGI</td>\n",
              "      <td>Very Good</td>\n",
              "      <td>Very Good</td>\n",
              "      <td>unknown</td>\n",
              "      <td>...</td>\n",
              "      <td>1.78</td>\n",
              "      <td>STK</td>\n",
              "      <td>STK</td>\n",
              "      <td>unknown</td>\n",
              "      <td>None</td>\n",
              "      <td>unknown</td>\n",
              "      <td>unknown</td>\n",
              "      <td>unknown</td>\n",
              "      <td>unknown</td>\n",
              "      <td>200</td>\n",
              "    </tr>\n",
              "    <tr>\n",
              "      <th>2</th>\n",
              "      <td>2</td>\n",
              "      <td>Round</td>\n",
              "      <td>E</td>\n",
              "      <td>VVS2</td>\n",
              "      <td>0.09</td>\n",
              "      <td>Excellent</td>\n",
              "      <td>IGI</td>\n",
              "      <td>Very Good</td>\n",
              "      <td>Very Good</td>\n",
              "      <td>unknown</td>\n",
              "      <td>...</td>\n",
              "      <td>1.77</td>\n",
              "      <td>TN</td>\n",
              "      <td>M</td>\n",
              "      <td>unknown</td>\n",
              "      <td>None</td>\n",
              "      <td>unknown</td>\n",
              "      <td>unknown</td>\n",
              "      <td>unknown</td>\n",
              "      <td>unknown</td>\n",
              "      <td>200</td>\n",
              "    </tr>\n",
              "    <tr>\n",
              "      <th>3</th>\n",
              "      <td>3</td>\n",
              "      <td>Round</td>\n",
              "      <td>E</td>\n",
              "      <td>VVS2</td>\n",
              "      <td>0.09</td>\n",
              "      <td>Excellent</td>\n",
              "      <td>IGI</td>\n",
              "      <td>Very Good</td>\n",
              "      <td>Very Good</td>\n",
              "      <td>unknown</td>\n",
              "      <td>...</td>\n",
              "      <td>1.78</td>\n",
              "      <td>M</td>\n",
              "      <td>STK</td>\n",
              "      <td>unknown</td>\n",
              "      <td>None</td>\n",
              "      <td>unknown</td>\n",
              "      <td>unknown</td>\n",
              "      <td>unknown</td>\n",
              "      <td>unknown</td>\n",
              "      <td>200</td>\n",
              "    </tr>\n",
              "    <tr>\n",
              "      <th>4</th>\n",
              "      <td>4</td>\n",
              "      <td>Round</td>\n",
              "      <td>E</td>\n",
              "      <td>VVS2</td>\n",
              "      <td>0.09</td>\n",
              "      <td>Very Good</td>\n",
              "      <td>IGI</td>\n",
              "      <td>Very Good</td>\n",
              "      <td>Excellent</td>\n",
              "      <td>unknown</td>\n",
              "      <td>...</td>\n",
              "      <td>1.82</td>\n",
              "      <td>STK</td>\n",
              "      <td>STK</td>\n",
              "      <td>unknown</td>\n",
              "      <td>None</td>\n",
              "      <td>unknown</td>\n",
              "      <td>unknown</td>\n",
              "      <td>unknown</td>\n",
              "      <td>unknown</td>\n",
              "      <td>200</td>\n",
              "    </tr>\n",
              "  </tbody>\n",
              "</table>\n",
              "<p>5 rows × 26 columns</p>\n",
              "</div>\n",
              "      <button class=\"colab-df-convert\" onclick=\"convertToInteractive('df-85931330-1bf3-40b9-b853-53b4f78fb7e6')\"\n",
              "              title=\"Convert this dataframe to an interactive table.\"\n",
              "              style=\"display:none;\">\n",
              "        \n",
              "  <svg xmlns=\"http://www.w3.org/2000/svg\" height=\"24px\"viewBox=\"0 0 24 24\"\n",
              "       width=\"24px\">\n",
              "    <path d=\"M0 0h24v24H0V0z\" fill=\"none\"/>\n",
              "    <path d=\"M18.56 5.44l.94 2.06.94-2.06 2.06-.94-2.06-.94-.94-2.06-.94 2.06-2.06.94zm-11 1L8.5 8.5l.94-2.06 2.06-.94-2.06-.94L8.5 2.5l-.94 2.06-2.06.94zm10 10l.94 2.06.94-2.06 2.06-.94-2.06-.94-.94-2.06-.94 2.06-2.06.94z\"/><path d=\"M17.41 7.96l-1.37-1.37c-.4-.4-.92-.59-1.43-.59-.52 0-1.04.2-1.43.59L10.3 9.45l-7.72 7.72c-.78.78-.78 2.05 0 2.83L4 21.41c.39.39.9.59 1.41.59.51 0 1.02-.2 1.41-.59l7.78-7.78 2.81-2.81c.8-.78.8-2.07 0-2.86zM5.41 20L4 18.59l7.72-7.72 1.47 1.35L5.41 20z\"/>\n",
              "  </svg>\n",
              "      </button>\n",
              "      \n",
              "  <style>\n",
              "    .colab-df-container {\n",
              "      display:flex;\n",
              "      flex-wrap:wrap;\n",
              "      gap: 12px;\n",
              "    }\n",
              "\n",
              "    .colab-df-convert {\n",
              "      background-color: #E8F0FE;\n",
              "      border: none;\n",
              "      border-radius: 50%;\n",
              "      cursor: pointer;\n",
              "      display: none;\n",
              "      fill: #1967D2;\n",
              "      height: 32px;\n",
              "      padding: 0 0 0 0;\n",
              "      width: 32px;\n",
              "    }\n",
              "\n",
              "    .colab-df-convert:hover {\n",
              "      background-color: #E2EBFA;\n",
              "      box-shadow: 0px 1px 2px rgba(60, 64, 67, 0.3), 0px 1px 3px 1px rgba(60, 64, 67, 0.15);\n",
              "      fill: #174EA6;\n",
              "    }\n",
              "\n",
              "    [theme=dark] .colab-df-convert {\n",
              "      background-color: #3B4455;\n",
              "      fill: #D2E3FC;\n",
              "    }\n",
              "\n",
              "    [theme=dark] .colab-df-convert:hover {\n",
              "      background-color: #434B5C;\n",
              "      box-shadow: 0px 1px 3px 1px rgba(0, 0, 0, 0.15);\n",
              "      filter: drop-shadow(0px 1px 2px rgba(0, 0, 0, 0.3));\n",
              "      fill: #FFFFFF;\n",
              "    }\n",
              "  </style>\n",
              "\n",
              "      <script>\n",
              "        const buttonEl =\n",
              "          document.querySelector('#df-85931330-1bf3-40b9-b853-53b4f78fb7e6 button.colab-df-convert');\n",
              "        buttonEl.style.display =\n",
              "          google.colab.kernel.accessAllowed ? 'block' : 'none';\n",
              "\n",
              "        async function convertToInteractive(key) {\n",
              "          const element = document.querySelector('#df-85931330-1bf3-40b9-b853-53b4f78fb7e6');\n",
              "          const dataTable =\n",
              "            await google.colab.kernel.invokeFunction('convertToInteractive',\n",
              "                                                     [key], {});\n",
              "          if (!dataTable) return;\n",
              "\n",
              "          const docLinkHtml = 'Like what you see? Visit the ' +\n",
              "            '<a target=\"_blank\" href=https://colab.research.google.com/notebooks/data_table.ipynb>data table notebook</a>'\n",
              "            + ' to learn more about interactive tables.';\n",
              "          element.innerHTML = '';\n",
              "          dataTable['output_type'] = 'display_data';\n",
              "          await google.colab.output.renderOutput(dataTable, element);\n",
              "          const docLink = document.createElement('div');\n",
              "          docLink.innerHTML = docLinkHtml;\n",
              "          element.appendChild(docLink);\n",
              "        }\n",
              "      </script>\n",
              "    </div>\n",
              "  </div>\n",
              "  "
            ]
          },
          "metadata": {},
          "execution_count": 17
        }
      ]
    },
    {
      "cell_type": "markdown",
      "source": [
        "(0.5 балла) Найдите количество бриллиантов всего в данном датасете:"
      ],
      "metadata": {
        "id": "gat7bnPQ6fCE"
      }
    },
    {
      "cell_type": "code",
      "source": [
        "len(diamonds)"
      ],
      "metadata": {
        "id": "-9x6z3-J7C-v",
        "colab": {
          "base_uri": "https://localhost:8080/"
        },
        "outputId": "2b53e5fb-3382-4baf-963d-dadb4022cc75"
      },
      "execution_count": null,
      "outputs": [
        {
          "output_type": "execute_result",
          "data": {
            "text/plain": [
              "219703"
            ]
          },
          "metadata": {},
          "execution_count": 18
        }
      ]
    },
    {
      "cell_type": "markdown",
      "source": [
        "(0.5 балла) Выведите максимальную и минимальную цену бриллианта в формате `номер - цена`:"
      ],
      "metadata": {
        "id": "fYQuIdtL7DFp"
      }
    },
    {
      "cell_type": "code",
      "source": [
        "print(np.argmin(diamonds['total_sales_price']), min(diamonds['total_sales_price']))\n",
        "print(np.argmax(diamonds['total_sales_price']), max(diamonds['total_sales_price']))"
      ],
      "metadata": {
        "id": "D_7sjzjP7SEj",
        "colab": {
          "base_uri": "https://localhost:8080/"
        },
        "outputId": "68c5a5ad-7c8b-45a4-af77-e658f3beaa53"
      },
      "execution_count": null,
      "outputs": [
        {
          "output_type": "stream",
          "name": "stdout",
          "text": [
            "0 200\n",
            "219702 1449881\n"
          ]
        }
      ]
    },
    {
      "cell_type": "markdown",
      "source": [
        "(1 балл) Посчитайте количество пропусков (пропуском считается значение `unknown` или `None`):"
      ],
      "metadata": {
        "id": "E2mf4IIO7SOg"
      }
    },
    {
      "cell_type": "code",
      "source": [
        "countbad = 0\n",
        "for valueall in diamonds.values:\n",
        "  for value in valueall:\n",
        "    if value == 'None' or value == 'unknown':\n",
        "      countbad += 1\n",
        "countbad"
      ],
      "metadata": {
        "id": "BuJZ0UoN7qAU",
        "colab": {
          "base_uri": "https://localhost:8080/"
        },
        "outputId": "716ea239-ec72-48e5-a62c-643fe7029a76"
      },
      "execution_count": null,
      "outputs": [
        {
          "output_type": "execute_result",
          "data": {
            "text/plain": [
              "1891168"
            ]
          },
          "metadata": {},
          "execution_count": 19
        }
      ]
    },
    {
      "cell_type": "markdown",
      "source": [
        "(1 балл) Найдите в каких столбцах присутствуют пропуски:"
      ],
      "metadata": {
        "id": "d5LWUc_fh0vb"
      }
    },
    {
      "cell_type": "code",
      "source": [
        "resultcolumns = set()\n",
        "\n",
        "for column in diamonds.items():\n",
        "  for z in diamonds[column[0]]:\n",
        "    if z == 'None' or z == 'unknown':\n",
        "      resultcolumns.add(column[0])\n",
        "resultcolumns"
      ],
      "metadata": {
        "id": "IsU49Fouh5vy",
        "colab": {
          "base_uri": "https://localhost:8080/"
        },
        "outputId": "c0c1db48-c818-4a1b-cef7-b33cbaa5d92c"
      },
      "execution_count": null,
      "outputs": [
        {
          "output_type": "execute_result",
          "data": {
            "text/plain": [
              "{'color',\n",
              " 'culet_condition',\n",
              " 'culet_size',\n",
              " 'cut_quality',\n",
              " 'eye_clean',\n",
              " 'fancy_color_dominant_color',\n",
              " 'fancy_color_intensity',\n",
              " 'fancy_color_overtone',\n",
              " 'fancy_color_secondary_color',\n",
              " 'fluor_color',\n",
              " 'fluor_intensity',\n",
              " 'girdle_max',\n",
              " 'girdle_min'}"
            ]
          },
          "metadata": {},
          "execution_count": 24
        }
      ]
    },
    {
      "cell_type": "markdown",
      "source": [
        "1. (0.5 балла) найти количество таких колонок, которые начинаются с `fancy_color_` или `fluor_`:"
      ],
      "metadata": {
        "id": "YYBDAgSSi-JU"
      }
    },
    {
      "cell_type": "code",
      "source": [
        "countTask1 = 0\n",
        "\n",
        "colsNonInf = []\n",
        "\n",
        "for column in resultcolumns:\n",
        "  if column.startswith('fancy_color_') or column.startswith('fluor_'):\n",
        "    countTask1 += 1\n",
        "    colsNonInf.append(column)\n",
        "countTask1"
      ],
      "metadata": {
        "id": "nbTUkk4T8-wO",
        "colab": {
          "base_uri": "https://localhost:8080/"
        },
        "outputId": "6973a249-a303-4027-e8a3-41633597fdb6"
      },
      "execution_count": null,
      "outputs": [
        {
          "output_type": "execute_result",
          "data": {
            "text/plain": [
              "6"
            ]
          },
          "metadata": {},
          "execution_count": 26
        }
      ]
    },
    {
      "cell_type": "markdown",
      "source": [
        "2. (0.5 балла) найти количество информативных (не `None` или `unknown`) значений в этих колонках: "
      ],
      "metadata": {
        "id": "imop6nNujA6z"
      }
    },
    {
      "cell_type": "code",
      "source": [
        "countTask2 = 0\n",
        "\n",
        "for column in colsNonInf:\n",
        "  for value in diamonds[column]:\n",
        "    if value != 'None' and value != 'unknown':\n",
        "      countTask2 += 1\n",
        "\n",
        "countTask2"
      ],
      "metadata": {
        "id": "jtJcBwAVjPHU",
        "colab": {
          "base_uri": "https://localhost:8080/"
        },
        "outputId": "4aa7eb17-fd3f-487a-d999-ff659405b2ae"
      },
      "execution_count": null,
      "outputs": [
        {
          "output_type": "execute_result",
          "data": {
            "text/plain": [
              "111586"
            ]
          },
          "metadata": {},
          "execution_count": 27
        }
      ]
    },
    {
      "cell_type": "markdown",
      "source": [
        "3. (0.5 балла) удалить данные колонки из датасета, сохранив изменения (в дальнейшем работаем измененным датасетом):"
      ],
      "metadata": {
        "id": "wFbuTnkbjPeq"
      }
    },
    {
      "cell_type": "code",
      "source": [
        "diamonds.drop(columns = colsNonInf, axis = 1, inplace=True)"
      ],
      "metadata": {
        "id": "qSZ5cmKWjutz"
      },
      "execution_count": null,
      "outputs": []
    },
    {
      "cell_type": "markdown",
      "source": [
        "(1 балл) Проделайте тоже самое для колонок, начинающихся с `culet_`:"
      ],
      "metadata": {
        "id": "JID3q4vr8-2h"
      }
    },
    {
      "cell_type": "code",
      "source": [
        "colsculet = []\n",
        "\n",
        "for column in diamonds.items():\n",
        "  if column[0].startswith('culet_'):\n",
        "    colsculet.append(column[0])\n",
        "\n",
        "diamonds.drop(columns = colsculet, axis = 1, inplace=True)"
      ],
      "metadata": {
        "id": "Wfsvzyad-T6P"
      },
      "execution_count": null,
      "outputs": []
    },
    {
      "cell_type": "markdown",
      "source": [
        "(1 балл) Посчитайте сколько бы стоил (в тысячах долларов) сейф, в котором хранились бы все бриллианты из датасета:"
      ],
      "metadata": {
        "id": "7_qYv5Xm-UCz"
      }
    },
    {
      "cell_type": "code",
      "source": [
        "sum(diamonds['total_sales_price'])"
      ],
      "metadata": {
        "id": "g2wVyz5U-cx7",
        "colab": {
          "base_uri": "https://localhost:8080/"
        },
        "outputId": "20bebde0-f05f-42a8-8052-70f8a0fbf9f3"
      },
      "execution_count": null,
      "outputs": [
        {
          "output_type": "execute_result",
          "data": {
            "text/plain": [
              "1517721991"
            ]
          },
          "metadata": {},
          "execution_count": 31
        }
      ]
    },
    {
      "cell_type": "markdown",
      "source": [
        "(1 балл) Выберите из датасета строки с четными индексами и выведете значения (не меняя нумерацию индексов):"
      ],
      "metadata": {
        "id": "0j5Yr0mFxxfu"
      }
    },
    {
      "cell_type": "code",
      "source": [
        "diamonds[::2]"
      ],
      "metadata": {
        "id": "dW2GOROfx6yd",
        "colab": {
          "base_uri": "https://localhost:8080/",
          "height": 609
        },
        "outputId": "0d09bcb9-5115-495d-da96-c1d4329d11db"
      },
      "execution_count": null,
      "outputs": [
        {
          "output_type": "execute_result",
          "data": {
            "text/plain": [
              "        Unnamed: 0    cut    color clarity  carat_weight cut_quality  lab  \\\n",
              "0                0  Round        E    VVS2          0.09   Excellent  IGI   \n",
              "2                2  Round        E    VVS2          0.09   Excellent  IGI   \n",
              "4                4  Round        E    VVS2          0.09   Very Good  IGI   \n",
              "6                6  Round        E    VVS2          0.09   Very Good  IGI   \n",
              "8                8  Round        E    VVS2          0.09   Very Good  IGI   \n",
              "...            ...    ...      ...     ...           ...         ...  ...   \n",
              "219694      219695  Round        D      IF         12.52   Excellent  HRD   \n",
              "219696      219697   Oval        H     VS2         18.88     unknown  GIA   \n",
              "219698      219699  Round        E     VS1         10.65   Excellent  GIA   \n",
              "219700      219701  Round        E     VS1         18.07   Excellent  GIA   \n",
              "219702      219703   Pear  unknown    VVS2         10.03     unknown  GIA   \n",
              "\n",
              "         symmetry     polish eye_clean  depth_percent  table_percent  \\\n",
              "0       Very Good  Very Good   unknown           62.7           59.0   \n",
              "2       Very Good  Very Good   unknown           61.1           59.0   \n",
              "4       Very Good  Excellent   unknown           64.9           58.5   \n",
              "6       Very Good  Very Good   unknown           64.0           57.0   \n",
              "8       Very Good  Very Good   unknown           63.5           59.5   \n",
              "...           ...        ...       ...            ...            ...   \n",
              "219694  Excellent  Excellent   unknown           62.1           58.0   \n",
              "219696  Excellent  Excellent   unknown           57.1           55.0   \n",
              "219698  Excellent  Excellent   unknown           61.3           58.0   \n",
              "219700  Excellent  Excellent   unknown           60.2           59.0   \n",
              "219702  Very Good  Excellent   unknown           66.7           65.0   \n",
              "\n",
              "        meas_length  meas_width  meas_depth girdle_min girdle_max  \\\n",
              "0              2.85        2.87        1.79          M          M   \n",
              "2              2.88        2.90        1.77         TN          M   \n",
              "4              2.79        2.83        1.82        STK        STK   \n",
              "6              2.85        2.88        1.84        STK        STK   \n",
              "8              2.89        2.92        1.85        STK         TK   \n",
              "...             ...         ...         ...        ...        ...   \n",
              "219694        14.84       14.91        9.24    unknown    unknown   \n",
              "219696        21.34       15.23        8.69         TN        STK   \n",
              "219698        14.06       14.18        8.66          M        STK   \n",
              "219700        17.06       17.10       10.20         TN          M   \n",
              "219702        15.61       11.09        7.39    unknown    unknown   \n",
              "\n",
              "        total_sales_price  \n",
              "0                     200  \n",
              "2                     200  \n",
              "4                     200  \n",
              "6                     200  \n",
              "8                     200  \n",
              "...                   ...  \n",
              "219694            1121792  \n",
              "219696            1132347  \n",
              "219698            1210692  \n",
              "219700            1315496  \n",
              "219702            1449881  \n",
              "\n",
              "[109852 rows x 18 columns]"
            ],
            "text/html": [
              "\n",
              "  <div id=\"df-d466f8ac-7169-4569-bb59-63d2be5ff660\">\n",
              "    <div class=\"colab-df-container\">\n",
              "      <div>\n",
              "<style scoped>\n",
              "    .dataframe tbody tr th:only-of-type {\n",
              "        vertical-align: middle;\n",
              "    }\n",
              "\n",
              "    .dataframe tbody tr th {\n",
              "        vertical-align: top;\n",
              "    }\n",
              "\n",
              "    .dataframe thead th {\n",
              "        text-align: right;\n",
              "    }\n",
              "</style>\n",
              "<table border=\"1\" class=\"dataframe\">\n",
              "  <thead>\n",
              "    <tr style=\"text-align: right;\">\n",
              "      <th></th>\n",
              "      <th>Unnamed: 0</th>\n",
              "      <th>cut</th>\n",
              "      <th>color</th>\n",
              "      <th>clarity</th>\n",
              "      <th>carat_weight</th>\n",
              "      <th>cut_quality</th>\n",
              "      <th>lab</th>\n",
              "      <th>symmetry</th>\n",
              "      <th>polish</th>\n",
              "      <th>eye_clean</th>\n",
              "      <th>depth_percent</th>\n",
              "      <th>table_percent</th>\n",
              "      <th>meas_length</th>\n",
              "      <th>meas_width</th>\n",
              "      <th>meas_depth</th>\n",
              "      <th>girdle_min</th>\n",
              "      <th>girdle_max</th>\n",
              "      <th>total_sales_price</th>\n",
              "    </tr>\n",
              "  </thead>\n",
              "  <tbody>\n",
              "    <tr>\n",
              "      <th>0</th>\n",
              "      <td>0</td>\n",
              "      <td>Round</td>\n",
              "      <td>E</td>\n",
              "      <td>VVS2</td>\n",
              "      <td>0.09</td>\n",
              "      <td>Excellent</td>\n",
              "      <td>IGI</td>\n",
              "      <td>Very Good</td>\n",
              "      <td>Very Good</td>\n",
              "      <td>unknown</td>\n",
              "      <td>62.7</td>\n",
              "      <td>59.0</td>\n",
              "      <td>2.85</td>\n",
              "      <td>2.87</td>\n",
              "      <td>1.79</td>\n",
              "      <td>M</td>\n",
              "      <td>M</td>\n",
              "      <td>200</td>\n",
              "    </tr>\n",
              "    <tr>\n",
              "      <th>2</th>\n",
              "      <td>2</td>\n",
              "      <td>Round</td>\n",
              "      <td>E</td>\n",
              "      <td>VVS2</td>\n",
              "      <td>0.09</td>\n",
              "      <td>Excellent</td>\n",
              "      <td>IGI</td>\n",
              "      <td>Very Good</td>\n",
              "      <td>Very Good</td>\n",
              "      <td>unknown</td>\n",
              "      <td>61.1</td>\n",
              "      <td>59.0</td>\n",
              "      <td>2.88</td>\n",
              "      <td>2.90</td>\n",
              "      <td>1.77</td>\n",
              "      <td>TN</td>\n",
              "      <td>M</td>\n",
              "      <td>200</td>\n",
              "    </tr>\n",
              "    <tr>\n",
              "      <th>4</th>\n",
              "      <td>4</td>\n",
              "      <td>Round</td>\n",
              "      <td>E</td>\n",
              "      <td>VVS2</td>\n",
              "      <td>0.09</td>\n",
              "      <td>Very Good</td>\n",
              "      <td>IGI</td>\n",
              "      <td>Very Good</td>\n",
              "      <td>Excellent</td>\n",
              "      <td>unknown</td>\n",
              "      <td>64.9</td>\n",
              "      <td>58.5</td>\n",
              "      <td>2.79</td>\n",
              "      <td>2.83</td>\n",
              "      <td>1.82</td>\n",
              "      <td>STK</td>\n",
              "      <td>STK</td>\n",
              "      <td>200</td>\n",
              "    </tr>\n",
              "    <tr>\n",
              "      <th>6</th>\n",
              "      <td>6</td>\n",
              "      <td>Round</td>\n",
              "      <td>E</td>\n",
              "      <td>VVS2</td>\n",
              "      <td>0.09</td>\n",
              "      <td>Very Good</td>\n",
              "      <td>IGI</td>\n",
              "      <td>Very Good</td>\n",
              "      <td>Very Good</td>\n",
              "      <td>unknown</td>\n",
              "      <td>64.0</td>\n",
              "      <td>57.0</td>\n",
              "      <td>2.85</td>\n",
              "      <td>2.88</td>\n",
              "      <td>1.84</td>\n",
              "      <td>STK</td>\n",
              "      <td>STK</td>\n",
              "      <td>200</td>\n",
              "    </tr>\n",
              "    <tr>\n",
              "      <th>8</th>\n",
              "      <td>8</td>\n",
              "      <td>Round</td>\n",
              "      <td>E</td>\n",
              "      <td>VVS2</td>\n",
              "      <td>0.09</td>\n",
              "      <td>Very Good</td>\n",
              "      <td>IGI</td>\n",
              "      <td>Very Good</td>\n",
              "      <td>Very Good</td>\n",
              "      <td>unknown</td>\n",
              "      <td>63.5</td>\n",
              "      <td>59.5</td>\n",
              "      <td>2.89</td>\n",
              "      <td>2.92</td>\n",
              "      <td>1.85</td>\n",
              "      <td>STK</td>\n",
              "      <td>TK</td>\n",
              "      <td>200</td>\n",
              "    </tr>\n",
              "    <tr>\n",
              "      <th>...</th>\n",
              "      <td>...</td>\n",
              "      <td>...</td>\n",
              "      <td>...</td>\n",
              "      <td>...</td>\n",
              "      <td>...</td>\n",
              "      <td>...</td>\n",
              "      <td>...</td>\n",
              "      <td>...</td>\n",
              "      <td>...</td>\n",
              "      <td>...</td>\n",
              "      <td>...</td>\n",
              "      <td>...</td>\n",
              "      <td>...</td>\n",
              "      <td>...</td>\n",
              "      <td>...</td>\n",
              "      <td>...</td>\n",
              "      <td>...</td>\n",
              "      <td>...</td>\n",
              "    </tr>\n",
              "    <tr>\n",
              "      <th>219694</th>\n",
              "      <td>219695</td>\n",
              "      <td>Round</td>\n",
              "      <td>D</td>\n",
              "      <td>IF</td>\n",
              "      <td>12.52</td>\n",
              "      <td>Excellent</td>\n",
              "      <td>HRD</td>\n",
              "      <td>Excellent</td>\n",
              "      <td>Excellent</td>\n",
              "      <td>unknown</td>\n",
              "      <td>62.1</td>\n",
              "      <td>58.0</td>\n",
              "      <td>14.84</td>\n",
              "      <td>14.91</td>\n",
              "      <td>9.24</td>\n",
              "      <td>unknown</td>\n",
              "      <td>unknown</td>\n",
              "      <td>1121792</td>\n",
              "    </tr>\n",
              "    <tr>\n",
              "      <th>219696</th>\n",
              "      <td>219697</td>\n",
              "      <td>Oval</td>\n",
              "      <td>H</td>\n",
              "      <td>VS2</td>\n",
              "      <td>18.88</td>\n",
              "      <td>unknown</td>\n",
              "      <td>GIA</td>\n",
              "      <td>Excellent</td>\n",
              "      <td>Excellent</td>\n",
              "      <td>unknown</td>\n",
              "      <td>57.1</td>\n",
              "      <td>55.0</td>\n",
              "      <td>21.34</td>\n",
              "      <td>15.23</td>\n",
              "      <td>8.69</td>\n",
              "      <td>TN</td>\n",
              "      <td>STK</td>\n",
              "      <td>1132347</td>\n",
              "    </tr>\n",
              "    <tr>\n",
              "      <th>219698</th>\n",
              "      <td>219699</td>\n",
              "      <td>Round</td>\n",
              "      <td>E</td>\n",
              "      <td>VS1</td>\n",
              "      <td>10.65</td>\n",
              "      <td>Excellent</td>\n",
              "      <td>GIA</td>\n",
              "      <td>Excellent</td>\n",
              "      <td>Excellent</td>\n",
              "      <td>unknown</td>\n",
              "      <td>61.3</td>\n",
              "      <td>58.0</td>\n",
              "      <td>14.06</td>\n",
              "      <td>14.18</td>\n",
              "      <td>8.66</td>\n",
              "      <td>M</td>\n",
              "      <td>STK</td>\n",
              "      <td>1210692</td>\n",
              "    </tr>\n",
              "    <tr>\n",
              "      <th>219700</th>\n",
              "      <td>219701</td>\n",
              "      <td>Round</td>\n",
              "      <td>E</td>\n",
              "      <td>VS1</td>\n",
              "      <td>18.07</td>\n",
              "      <td>Excellent</td>\n",
              "      <td>GIA</td>\n",
              "      <td>Excellent</td>\n",
              "      <td>Excellent</td>\n",
              "      <td>unknown</td>\n",
              "      <td>60.2</td>\n",
              "      <td>59.0</td>\n",
              "      <td>17.06</td>\n",
              "      <td>17.10</td>\n",
              "      <td>10.20</td>\n",
              "      <td>TN</td>\n",
              "      <td>M</td>\n",
              "      <td>1315496</td>\n",
              "    </tr>\n",
              "    <tr>\n",
              "      <th>219702</th>\n",
              "      <td>219703</td>\n",
              "      <td>Pear</td>\n",
              "      <td>unknown</td>\n",
              "      <td>VVS2</td>\n",
              "      <td>10.03</td>\n",
              "      <td>unknown</td>\n",
              "      <td>GIA</td>\n",
              "      <td>Very Good</td>\n",
              "      <td>Excellent</td>\n",
              "      <td>unknown</td>\n",
              "      <td>66.7</td>\n",
              "      <td>65.0</td>\n",
              "      <td>15.61</td>\n",
              "      <td>11.09</td>\n",
              "      <td>7.39</td>\n",
              "      <td>unknown</td>\n",
              "      <td>unknown</td>\n",
              "      <td>1449881</td>\n",
              "    </tr>\n",
              "  </tbody>\n",
              "</table>\n",
              "<p>109852 rows × 18 columns</p>\n",
              "</div>\n",
              "      <button class=\"colab-df-convert\" onclick=\"convertToInteractive('df-d466f8ac-7169-4569-bb59-63d2be5ff660')\"\n",
              "              title=\"Convert this dataframe to an interactive table.\"\n",
              "              style=\"display:none;\">\n",
              "        \n",
              "  <svg xmlns=\"http://www.w3.org/2000/svg\" height=\"24px\"viewBox=\"0 0 24 24\"\n",
              "       width=\"24px\">\n",
              "    <path d=\"M0 0h24v24H0V0z\" fill=\"none\"/>\n",
              "    <path d=\"M18.56 5.44l.94 2.06.94-2.06 2.06-.94-2.06-.94-.94-2.06-.94 2.06-2.06.94zm-11 1L8.5 8.5l.94-2.06 2.06-.94-2.06-.94L8.5 2.5l-.94 2.06-2.06.94zm10 10l.94 2.06.94-2.06 2.06-.94-2.06-.94-.94-2.06-.94 2.06-2.06.94z\"/><path d=\"M17.41 7.96l-1.37-1.37c-.4-.4-.92-.59-1.43-.59-.52 0-1.04.2-1.43.59L10.3 9.45l-7.72 7.72c-.78.78-.78 2.05 0 2.83L4 21.41c.39.39.9.59 1.41.59.51 0 1.02-.2 1.41-.59l7.78-7.78 2.81-2.81c.8-.78.8-2.07 0-2.86zM5.41 20L4 18.59l7.72-7.72 1.47 1.35L5.41 20z\"/>\n",
              "  </svg>\n",
              "      </button>\n",
              "      \n",
              "  <style>\n",
              "    .colab-df-container {\n",
              "      display:flex;\n",
              "      flex-wrap:wrap;\n",
              "      gap: 12px;\n",
              "    }\n",
              "\n",
              "    .colab-df-convert {\n",
              "      background-color: #E8F0FE;\n",
              "      border: none;\n",
              "      border-radius: 50%;\n",
              "      cursor: pointer;\n",
              "      display: none;\n",
              "      fill: #1967D2;\n",
              "      height: 32px;\n",
              "      padding: 0 0 0 0;\n",
              "      width: 32px;\n",
              "    }\n",
              "\n",
              "    .colab-df-convert:hover {\n",
              "      background-color: #E2EBFA;\n",
              "      box-shadow: 0px 1px 2px rgba(60, 64, 67, 0.3), 0px 1px 3px 1px rgba(60, 64, 67, 0.15);\n",
              "      fill: #174EA6;\n",
              "    }\n",
              "\n",
              "    [theme=dark] .colab-df-convert {\n",
              "      background-color: #3B4455;\n",
              "      fill: #D2E3FC;\n",
              "    }\n",
              "\n",
              "    [theme=dark] .colab-df-convert:hover {\n",
              "      background-color: #434B5C;\n",
              "      box-shadow: 0px 1px 3px 1px rgba(0, 0, 0, 0.15);\n",
              "      filter: drop-shadow(0px 1px 2px rgba(0, 0, 0, 0.3));\n",
              "      fill: #FFFFFF;\n",
              "    }\n",
              "  </style>\n",
              "\n",
              "      <script>\n",
              "        const buttonEl =\n",
              "          document.querySelector('#df-d466f8ac-7169-4569-bb59-63d2be5ff660 button.colab-df-convert');\n",
              "        buttonEl.style.display =\n",
              "          google.colab.kernel.accessAllowed ? 'block' : 'none';\n",
              "\n",
              "        async function convertToInteractive(key) {\n",
              "          const element = document.querySelector('#df-d466f8ac-7169-4569-bb59-63d2be5ff660');\n",
              "          const dataTable =\n",
              "            await google.colab.kernel.invokeFunction('convertToInteractive',\n",
              "                                                     [key], {});\n",
              "          if (!dataTable) return;\n",
              "\n",
              "          const docLinkHtml = 'Like what you see? Visit the ' +\n",
              "            '<a target=\"_blank\" href=https://colab.research.google.com/notebooks/data_table.ipynb>data table notebook</a>'\n",
              "            + ' to learn more about interactive tables.';\n",
              "          element.innerHTML = '';\n",
              "          dataTable['output_type'] = 'display_data';\n",
              "          await google.colab.output.renderOutput(dataTable, element);\n",
              "          const docLink = document.createElement('div');\n",
              "          docLink.innerHTML = docLinkHtml;\n",
              "          element.appendChild(docLink);\n",
              "        }\n",
              "      </script>\n",
              "    </div>\n",
              "  </div>\n",
              "  "
            ]
          },
          "metadata": {},
          "execution_count": 32
        }
      ]
    },
    {
      "cell_type": "markdown",
      "source": [
        "(0.5 балла) А теперь с индексами, кратными 6:"
      ],
      "metadata": {
        "id": "mNXqS4oox7TF"
      }
    },
    {
      "cell_type": "code",
      "source": [
        "diamonds[::6]"
      ],
      "metadata": {
        "id": "hy8LyzXix_SB",
        "colab": {
          "base_uri": "https://localhost:8080/",
          "height": 591
        },
        "outputId": "3667b9b4-e2a6-41b5-ee1a-a07b18b12998"
      },
      "execution_count": null,
      "outputs": [
        {
          "output_type": "execute_result",
          "data": {
            "text/plain": [
              "        Unnamed: 0      cut    color clarity  carat_weight cut_quality  lab  \\\n",
              "0                0    Round        E    VVS2          0.09   Excellent  IGI   \n",
              "6                6    Round        E    VVS2          0.09   Very Good  IGI   \n",
              "12              12    Round        E    VVS2          0.09   Very Good  IGI   \n",
              "18              18    Round        E    VVS2          0.09   Excellent  IGI   \n",
              "24              24    Round        L      I1          0.34   Excellent  IGI   \n",
              "...            ...      ...      ...     ...           ...         ...  ...   \n",
              "219678      219679    Round        G     VS1         10.23   Excellent  GIA   \n",
              "219684      219685  Radiant  unknown      I1          0.89     unknown  GIA   \n",
              "219690      219691    Round        D    VVS2         10.10   Excellent  GIA   \n",
              "219696      219697     Oval        H     VS2         18.88     unknown  GIA   \n",
              "219702      219703     Pear  unknown    VVS2         10.03     unknown  GIA   \n",
              "\n",
              "         symmetry     polish eye_clean  depth_percent  table_percent  \\\n",
              "0       Very Good  Very Good   unknown           62.7           59.0   \n",
              "6       Very Good  Very Good   unknown           64.0           57.0   \n",
              "12      Very Good  Very Good   unknown           61.8           58.5   \n",
              "18      Very Good  Very Good   unknown           61.0           60.0   \n",
              "24      Excellent  Excellent   unknown            0.0            0.0   \n",
              "...           ...        ...       ...            ...            ...   \n",
              "219678  Excellent  Excellent   unknown           62.7           55.0   \n",
              "219684       Good       Good   unknown           63.8           57.0   \n",
              "219690  Excellent  Excellent   unknown           59.4           59.0   \n",
              "219696  Excellent  Excellent   unknown           57.1           55.0   \n",
              "219702  Very Good  Excellent   unknown           66.7           65.0   \n",
              "\n",
              "        meas_length  meas_width  meas_depth girdle_min girdle_max  \\\n",
              "0              2.85        2.87        1.79          M          M   \n",
              "6              2.85        2.88        1.84        STK        STK   \n",
              "12             2.85        2.89        1.77        STK         TK   \n",
              "18             2.91        2.92        1.78          M          M   \n",
              "24             0.00        0.00        0.00    unknown    unknown   \n",
              "...             ...         ...         ...        ...        ...   \n",
              "219678        13.82       13.92        8.69         TN          M   \n",
              "219684         6.44        4.96        3.16         TK        VTK   \n",
              "219690        14.07       14.15        8.39          M        STK   \n",
              "219696        21.34       15.23        8.69         TN        STK   \n",
              "219702        15.61       11.09        7.39    unknown    unknown   \n",
              "\n",
              "        total_sales_price  \n",
              "0                     200  \n",
              "6                     200  \n",
              "12                    200  \n",
              "18                    200  \n",
              "24                    204  \n",
              "...                   ...  \n",
              "219678             859320  \n",
              "219684             982560  \n",
              "219690            1040739  \n",
              "219696            1132347  \n",
              "219702            1449881  \n",
              "\n",
              "[36618 rows x 18 columns]"
            ],
            "text/html": [
              "\n",
              "  <div id=\"df-325f7a13-34d6-4e81-93ce-6252f90378ab\">\n",
              "    <div class=\"colab-df-container\">\n",
              "      <div>\n",
              "<style scoped>\n",
              "    .dataframe tbody tr th:only-of-type {\n",
              "        vertical-align: middle;\n",
              "    }\n",
              "\n",
              "    .dataframe tbody tr th {\n",
              "        vertical-align: top;\n",
              "    }\n",
              "\n",
              "    .dataframe thead th {\n",
              "        text-align: right;\n",
              "    }\n",
              "</style>\n",
              "<table border=\"1\" class=\"dataframe\">\n",
              "  <thead>\n",
              "    <tr style=\"text-align: right;\">\n",
              "      <th></th>\n",
              "      <th>Unnamed: 0</th>\n",
              "      <th>cut</th>\n",
              "      <th>color</th>\n",
              "      <th>clarity</th>\n",
              "      <th>carat_weight</th>\n",
              "      <th>cut_quality</th>\n",
              "      <th>lab</th>\n",
              "      <th>symmetry</th>\n",
              "      <th>polish</th>\n",
              "      <th>eye_clean</th>\n",
              "      <th>depth_percent</th>\n",
              "      <th>table_percent</th>\n",
              "      <th>meas_length</th>\n",
              "      <th>meas_width</th>\n",
              "      <th>meas_depth</th>\n",
              "      <th>girdle_min</th>\n",
              "      <th>girdle_max</th>\n",
              "      <th>total_sales_price</th>\n",
              "    </tr>\n",
              "  </thead>\n",
              "  <tbody>\n",
              "    <tr>\n",
              "      <th>0</th>\n",
              "      <td>0</td>\n",
              "      <td>Round</td>\n",
              "      <td>E</td>\n",
              "      <td>VVS2</td>\n",
              "      <td>0.09</td>\n",
              "      <td>Excellent</td>\n",
              "      <td>IGI</td>\n",
              "      <td>Very Good</td>\n",
              "      <td>Very Good</td>\n",
              "      <td>unknown</td>\n",
              "      <td>62.7</td>\n",
              "      <td>59.0</td>\n",
              "      <td>2.85</td>\n",
              "      <td>2.87</td>\n",
              "      <td>1.79</td>\n",
              "      <td>M</td>\n",
              "      <td>M</td>\n",
              "      <td>200</td>\n",
              "    </tr>\n",
              "    <tr>\n",
              "      <th>6</th>\n",
              "      <td>6</td>\n",
              "      <td>Round</td>\n",
              "      <td>E</td>\n",
              "      <td>VVS2</td>\n",
              "      <td>0.09</td>\n",
              "      <td>Very Good</td>\n",
              "      <td>IGI</td>\n",
              "      <td>Very Good</td>\n",
              "      <td>Very Good</td>\n",
              "      <td>unknown</td>\n",
              "      <td>64.0</td>\n",
              "      <td>57.0</td>\n",
              "      <td>2.85</td>\n",
              "      <td>2.88</td>\n",
              "      <td>1.84</td>\n",
              "      <td>STK</td>\n",
              "      <td>STK</td>\n",
              "      <td>200</td>\n",
              "    </tr>\n",
              "    <tr>\n",
              "      <th>12</th>\n",
              "      <td>12</td>\n",
              "      <td>Round</td>\n",
              "      <td>E</td>\n",
              "      <td>VVS2</td>\n",
              "      <td>0.09</td>\n",
              "      <td>Very Good</td>\n",
              "      <td>IGI</td>\n",
              "      <td>Very Good</td>\n",
              "      <td>Very Good</td>\n",
              "      <td>unknown</td>\n",
              "      <td>61.8</td>\n",
              "      <td>58.5</td>\n",
              "      <td>2.85</td>\n",
              "      <td>2.89</td>\n",
              "      <td>1.77</td>\n",
              "      <td>STK</td>\n",
              "      <td>TK</td>\n",
              "      <td>200</td>\n",
              "    </tr>\n",
              "    <tr>\n",
              "      <th>18</th>\n",
              "      <td>18</td>\n",
              "      <td>Round</td>\n",
              "      <td>E</td>\n",
              "      <td>VVS2</td>\n",
              "      <td>0.09</td>\n",
              "      <td>Excellent</td>\n",
              "      <td>IGI</td>\n",
              "      <td>Very Good</td>\n",
              "      <td>Very Good</td>\n",
              "      <td>unknown</td>\n",
              "      <td>61.0</td>\n",
              "      <td>60.0</td>\n",
              "      <td>2.91</td>\n",
              "      <td>2.92</td>\n",
              "      <td>1.78</td>\n",
              "      <td>M</td>\n",
              "      <td>M</td>\n",
              "      <td>200</td>\n",
              "    </tr>\n",
              "    <tr>\n",
              "      <th>24</th>\n",
              "      <td>24</td>\n",
              "      <td>Round</td>\n",
              "      <td>L</td>\n",
              "      <td>I1</td>\n",
              "      <td>0.34</td>\n",
              "      <td>Excellent</td>\n",
              "      <td>IGI</td>\n",
              "      <td>Excellent</td>\n",
              "      <td>Excellent</td>\n",
              "      <td>unknown</td>\n",
              "      <td>0.0</td>\n",
              "      <td>0.0</td>\n",
              "      <td>0.00</td>\n",
              "      <td>0.00</td>\n",
              "      <td>0.00</td>\n",
              "      <td>unknown</td>\n",
              "      <td>unknown</td>\n",
              "      <td>204</td>\n",
              "    </tr>\n",
              "    <tr>\n",
              "      <th>...</th>\n",
              "      <td>...</td>\n",
              "      <td>...</td>\n",
              "      <td>...</td>\n",
              "      <td>...</td>\n",
              "      <td>...</td>\n",
              "      <td>...</td>\n",
              "      <td>...</td>\n",
              "      <td>...</td>\n",
              "      <td>...</td>\n",
              "      <td>...</td>\n",
              "      <td>...</td>\n",
              "      <td>...</td>\n",
              "      <td>...</td>\n",
              "      <td>...</td>\n",
              "      <td>...</td>\n",
              "      <td>...</td>\n",
              "      <td>...</td>\n",
              "      <td>...</td>\n",
              "    </tr>\n",
              "    <tr>\n",
              "      <th>219678</th>\n",
              "      <td>219679</td>\n",
              "      <td>Round</td>\n",
              "      <td>G</td>\n",
              "      <td>VS1</td>\n",
              "      <td>10.23</td>\n",
              "      <td>Excellent</td>\n",
              "      <td>GIA</td>\n",
              "      <td>Excellent</td>\n",
              "      <td>Excellent</td>\n",
              "      <td>unknown</td>\n",
              "      <td>62.7</td>\n",
              "      <td>55.0</td>\n",
              "      <td>13.82</td>\n",
              "      <td>13.92</td>\n",
              "      <td>8.69</td>\n",
              "      <td>TN</td>\n",
              "      <td>M</td>\n",
              "      <td>859320</td>\n",
              "    </tr>\n",
              "    <tr>\n",
              "      <th>219684</th>\n",
              "      <td>219685</td>\n",
              "      <td>Radiant</td>\n",
              "      <td>unknown</td>\n",
              "      <td>I1</td>\n",
              "      <td>0.89</td>\n",
              "      <td>unknown</td>\n",
              "      <td>GIA</td>\n",
              "      <td>Good</td>\n",
              "      <td>Good</td>\n",
              "      <td>unknown</td>\n",
              "      <td>63.8</td>\n",
              "      <td>57.0</td>\n",
              "      <td>6.44</td>\n",
              "      <td>4.96</td>\n",
              "      <td>3.16</td>\n",
              "      <td>TK</td>\n",
              "      <td>VTK</td>\n",
              "      <td>982560</td>\n",
              "    </tr>\n",
              "    <tr>\n",
              "      <th>219690</th>\n",
              "      <td>219691</td>\n",
              "      <td>Round</td>\n",
              "      <td>D</td>\n",
              "      <td>VVS2</td>\n",
              "      <td>10.10</td>\n",
              "      <td>Excellent</td>\n",
              "      <td>GIA</td>\n",
              "      <td>Excellent</td>\n",
              "      <td>Excellent</td>\n",
              "      <td>unknown</td>\n",
              "      <td>59.4</td>\n",
              "      <td>59.0</td>\n",
              "      <td>14.07</td>\n",
              "      <td>14.15</td>\n",
              "      <td>8.39</td>\n",
              "      <td>M</td>\n",
              "      <td>STK</td>\n",
              "      <td>1040739</td>\n",
              "    </tr>\n",
              "    <tr>\n",
              "      <th>219696</th>\n",
              "      <td>219697</td>\n",
              "      <td>Oval</td>\n",
              "      <td>H</td>\n",
              "      <td>VS2</td>\n",
              "      <td>18.88</td>\n",
              "      <td>unknown</td>\n",
              "      <td>GIA</td>\n",
              "      <td>Excellent</td>\n",
              "      <td>Excellent</td>\n",
              "      <td>unknown</td>\n",
              "      <td>57.1</td>\n",
              "      <td>55.0</td>\n",
              "      <td>21.34</td>\n",
              "      <td>15.23</td>\n",
              "      <td>8.69</td>\n",
              "      <td>TN</td>\n",
              "      <td>STK</td>\n",
              "      <td>1132347</td>\n",
              "    </tr>\n",
              "    <tr>\n",
              "      <th>219702</th>\n",
              "      <td>219703</td>\n",
              "      <td>Pear</td>\n",
              "      <td>unknown</td>\n",
              "      <td>VVS2</td>\n",
              "      <td>10.03</td>\n",
              "      <td>unknown</td>\n",
              "      <td>GIA</td>\n",
              "      <td>Very Good</td>\n",
              "      <td>Excellent</td>\n",
              "      <td>unknown</td>\n",
              "      <td>66.7</td>\n",
              "      <td>65.0</td>\n",
              "      <td>15.61</td>\n",
              "      <td>11.09</td>\n",
              "      <td>7.39</td>\n",
              "      <td>unknown</td>\n",
              "      <td>unknown</td>\n",
              "      <td>1449881</td>\n",
              "    </tr>\n",
              "  </tbody>\n",
              "</table>\n",
              "<p>36618 rows × 18 columns</p>\n",
              "</div>\n",
              "      <button class=\"colab-df-convert\" onclick=\"convertToInteractive('df-325f7a13-34d6-4e81-93ce-6252f90378ab')\"\n",
              "              title=\"Convert this dataframe to an interactive table.\"\n",
              "              style=\"display:none;\">\n",
              "        \n",
              "  <svg xmlns=\"http://www.w3.org/2000/svg\" height=\"24px\"viewBox=\"0 0 24 24\"\n",
              "       width=\"24px\">\n",
              "    <path d=\"M0 0h24v24H0V0z\" fill=\"none\"/>\n",
              "    <path d=\"M18.56 5.44l.94 2.06.94-2.06 2.06-.94-2.06-.94-.94-2.06-.94 2.06-2.06.94zm-11 1L8.5 8.5l.94-2.06 2.06-.94-2.06-.94L8.5 2.5l-.94 2.06-2.06.94zm10 10l.94 2.06.94-2.06 2.06-.94-2.06-.94-.94-2.06-.94 2.06-2.06.94z\"/><path d=\"M17.41 7.96l-1.37-1.37c-.4-.4-.92-.59-1.43-.59-.52 0-1.04.2-1.43.59L10.3 9.45l-7.72 7.72c-.78.78-.78 2.05 0 2.83L4 21.41c.39.39.9.59 1.41.59.51 0 1.02-.2 1.41-.59l7.78-7.78 2.81-2.81c.8-.78.8-2.07 0-2.86zM5.41 20L4 18.59l7.72-7.72 1.47 1.35L5.41 20z\"/>\n",
              "  </svg>\n",
              "      </button>\n",
              "      \n",
              "  <style>\n",
              "    .colab-df-container {\n",
              "      display:flex;\n",
              "      flex-wrap:wrap;\n",
              "      gap: 12px;\n",
              "    }\n",
              "\n",
              "    .colab-df-convert {\n",
              "      background-color: #E8F0FE;\n",
              "      border: none;\n",
              "      border-radius: 50%;\n",
              "      cursor: pointer;\n",
              "      display: none;\n",
              "      fill: #1967D2;\n",
              "      height: 32px;\n",
              "      padding: 0 0 0 0;\n",
              "      width: 32px;\n",
              "    }\n",
              "\n",
              "    .colab-df-convert:hover {\n",
              "      background-color: #E2EBFA;\n",
              "      box-shadow: 0px 1px 2px rgba(60, 64, 67, 0.3), 0px 1px 3px 1px rgba(60, 64, 67, 0.15);\n",
              "      fill: #174EA6;\n",
              "    }\n",
              "\n",
              "    [theme=dark] .colab-df-convert {\n",
              "      background-color: #3B4455;\n",
              "      fill: #D2E3FC;\n",
              "    }\n",
              "\n",
              "    [theme=dark] .colab-df-convert:hover {\n",
              "      background-color: #434B5C;\n",
              "      box-shadow: 0px 1px 3px 1px rgba(0, 0, 0, 0.15);\n",
              "      filter: drop-shadow(0px 1px 2px rgba(0, 0, 0, 0.3));\n",
              "      fill: #FFFFFF;\n",
              "    }\n",
              "  </style>\n",
              "\n",
              "      <script>\n",
              "        const buttonEl =\n",
              "          document.querySelector('#df-325f7a13-34d6-4e81-93ce-6252f90378ab button.colab-df-convert');\n",
              "        buttonEl.style.display =\n",
              "          google.colab.kernel.accessAllowed ? 'block' : 'none';\n",
              "\n",
              "        async function convertToInteractive(key) {\n",
              "          const element = document.querySelector('#df-325f7a13-34d6-4e81-93ce-6252f90378ab');\n",
              "          const dataTable =\n",
              "            await google.colab.kernel.invokeFunction('convertToInteractive',\n",
              "                                                     [key], {});\n",
              "          if (!dataTable) return;\n",
              "\n",
              "          const docLinkHtml = 'Like what you see? Visit the ' +\n",
              "            '<a target=\"_blank\" href=https://colab.research.google.com/notebooks/data_table.ipynb>data table notebook</a>'\n",
              "            + ' to learn more about interactive tables.';\n",
              "          element.innerHTML = '';\n",
              "          dataTable['output_type'] = 'display_data';\n",
              "          await google.colab.output.renderOutput(dataTable, element);\n",
              "          const docLink = document.createElement('div');\n",
              "          docLink.innerHTML = docLinkHtml;\n",
              "          element.appendChild(docLink);\n",
              "        }\n",
              "      </script>\n",
              "    </div>\n",
              "  </div>\n",
              "  "
            ]
          },
          "metadata": {},
          "execution_count": 33
        }
      ]
    },
    {
      "cell_type": "markdown",
      "source": [
        "(1 балл) Выберете из датасета только категорильные признаки и выведете датасет:"
      ],
      "metadata": {
        "id": "u94LL979x_bV"
      }
    },
    {
      "cell_type": "code",
      "source": [
        "diamonds[['cut', 'lab']]"
      ],
      "metadata": {
        "id": "2_LBNDWXyOOl",
        "colab": {
          "base_uri": "https://localhost:8080/",
          "height": 423
        },
        "outputId": "720a67f6-19a8-4e80-d58f-cd2c7060f7f6"
      },
      "execution_count": null,
      "outputs": [
        {
          "output_type": "execute_result",
          "data": {
            "text/plain": [
              "             cut  lab\n",
              "0          Round  IGI\n",
              "1          Round  IGI\n",
              "2          Round  IGI\n",
              "3          Round  IGI\n",
              "4          Round  IGI\n",
              "...          ...  ...\n",
              "219698     Round  GIA\n",
              "219699   Radiant  GIA\n",
              "219700     Round  GIA\n",
              "219701  Princess  GIA\n",
              "219702      Pear  GIA\n",
              "\n",
              "[219703 rows x 2 columns]"
            ],
            "text/html": [
              "\n",
              "  <div id=\"df-8e134dbc-1225-4296-a689-b96fd7ab6899\">\n",
              "    <div class=\"colab-df-container\">\n",
              "      <div>\n",
              "<style scoped>\n",
              "    .dataframe tbody tr th:only-of-type {\n",
              "        vertical-align: middle;\n",
              "    }\n",
              "\n",
              "    .dataframe tbody tr th {\n",
              "        vertical-align: top;\n",
              "    }\n",
              "\n",
              "    .dataframe thead th {\n",
              "        text-align: right;\n",
              "    }\n",
              "</style>\n",
              "<table border=\"1\" class=\"dataframe\">\n",
              "  <thead>\n",
              "    <tr style=\"text-align: right;\">\n",
              "      <th></th>\n",
              "      <th>cut</th>\n",
              "      <th>lab</th>\n",
              "    </tr>\n",
              "  </thead>\n",
              "  <tbody>\n",
              "    <tr>\n",
              "      <th>0</th>\n",
              "      <td>Round</td>\n",
              "      <td>IGI</td>\n",
              "    </tr>\n",
              "    <tr>\n",
              "      <th>1</th>\n",
              "      <td>Round</td>\n",
              "      <td>IGI</td>\n",
              "    </tr>\n",
              "    <tr>\n",
              "      <th>2</th>\n",
              "      <td>Round</td>\n",
              "      <td>IGI</td>\n",
              "    </tr>\n",
              "    <tr>\n",
              "      <th>3</th>\n",
              "      <td>Round</td>\n",
              "      <td>IGI</td>\n",
              "    </tr>\n",
              "    <tr>\n",
              "      <th>4</th>\n",
              "      <td>Round</td>\n",
              "      <td>IGI</td>\n",
              "    </tr>\n",
              "    <tr>\n",
              "      <th>...</th>\n",
              "      <td>...</td>\n",
              "      <td>...</td>\n",
              "    </tr>\n",
              "    <tr>\n",
              "      <th>219698</th>\n",
              "      <td>Round</td>\n",
              "      <td>GIA</td>\n",
              "    </tr>\n",
              "    <tr>\n",
              "      <th>219699</th>\n",
              "      <td>Radiant</td>\n",
              "      <td>GIA</td>\n",
              "    </tr>\n",
              "    <tr>\n",
              "      <th>219700</th>\n",
              "      <td>Round</td>\n",
              "      <td>GIA</td>\n",
              "    </tr>\n",
              "    <tr>\n",
              "      <th>219701</th>\n",
              "      <td>Princess</td>\n",
              "      <td>GIA</td>\n",
              "    </tr>\n",
              "    <tr>\n",
              "      <th>219702</th>\n",
              "      <td>Pear</td>\n",
              "      <td>GIA</td>\n",
              "    </tr>\n",
              "  </tbody>\n",
              "</table>\n",
              "<p>219703 rows × 2 columns</p>\n",
              "</div>\n",
              "      <button class=\"colab-df-convert\" onclick=\"convertToInteractive('df-8e134dbc-1225-4296-a689-b96fd7ab6899')\"\n",
              "              title=\"Convert this dataframe to an interactive table.\"\n",
              "              style=\"display:none;\">\n",
              "        \n",
              "  <svg xmlns=\"http://www.w3.org/2000/svg\" height=\"24px\"viewBox=\"0 0 24 24\"\n",
              "       width=\"24px\">\n",
              "    <path d=\"M0 0h24v24H0V0z\" fill=\"none\"/>\n",
              "    <path d=\"M18.56 5.44l.94 2.06.94-2.06 2.06-.94-2.06-.94-.94-2.06-.94 2.06-2.06.94zm-11 1L8.5 8.5l.94-2.06 2.06-.94-2.06-.94L8.5 2.5l-.94 2.06-2.06.94zm10 10l.94 2.06.94-2.06 2.06-.94-2.06-.94-.94-2.06-.94 2.06-2.06.94z\"/><path d=\"M17.41 7.96l-1.37-1.37c-.4-.4-.92-.59-1.43-.59-.52 0-1.04.2-1.43.59L10.3 9.45l-7.72 7.72c-.78.78-.78 2.05 0 2.83L4 21.41c.39.39.9.59 1.41.59.51 0 1.02-.2 1.41-.59l7.78-7.78 2.81-2.81c.8-.78.8-2.07 0-2.86zM5.41 20L4 18.59l7.72-7.72 1.47 1.35L5.41 20z\"/>\n",
              "  </svg>\n",
              "      </button>\n",
              "      \n",
              "  <style>\n",
              "    .colab-df-container {\n",
              "      display:flex;\n",
              "      flex-wrap:wrap;\n",
              "      gap: 12px;\n",
              "    }\n",
              "\n",
              "    .colab-df-convert {\n",
              "      background-color: #E8F0FE;\n",
              "      border: none;\n",
              "      border-radius: 50%;\n",
              "      cursor: pointer;\n",
              "      display: none;\n",
              "      fill: #1967D2;\n",
              "      height: 32px;\n",
              "      padding: 0 0 0 0;\n",
              "      width: 32px;\n",
              "    }\n",
              "\n",
              "    .colab-df-convert:hover {\n",
              "      background-color: #E2EBFA;\n",
              "      box-shadow: 0px 1px 2px rgba(60, 64, 67, 0.3), 0px 1px 3px 1px rgba(60, 64, 67, 0.15);\n",
              "      fill: #174EA6;\n",
              "    }\n",
              "\n",
              "    [theme=dark] .colab-df-convert {\n",
              "      background-color: #3B4455;\n",
              "      fill: #D2E3FC;\n",
              "    }\n",
              "\n",
              "    [theme=dark] .colab-df-convert:hover {\n",
              "      background-color: #434B5C;\n",
              "      box-shadow: 0px 1px 3px 1px rgba(0, 0, 0, 0.15);\n",
              "      filter: drop-shadow(0px 1px 2px rgba(0, 0, 0, 0.3));\n",
              "      fill: #FFFFFF;\n",
              "    }\n",
              "  </style>\n",
              "\n",
              "      <script>\n",
              "        const buttonEl =\n",
              "          document.querySelector('#df-8e134dbc-1225-4296-a689-b96fd7ab6899 button.colab-df-convert');\n",
              "        buttonEl.style.display =\n",
              "          google.colab.kernel.accessAllowed ? 'block' : 'none';\n",
              "\n",
              "        async function convertToInteractive(key) {\n",
              "          const element = document.querySelector('#df-8e134dbc-1225-4296-a689-b96fd7ab6899');\n",
              "          const dataTable =\n",
              "            await google.colab.kernel.invokeFunction('convertToInteractive',\n",
              "                                                     [key], {});\n",
              "          if (!dataTable) return;\n",
              "\n",
              "          const docLinkHtml = 'Like what you see? Visit the ' +\n",
              "            '<a target=\"_blank\" href=https://colab.research.google.com/notebooks/data_table.ipynb>data table notebook</a>'\n",
              "            + ' to learn more about interactive tables.';\n",
              "          element.innerHTML = '';\n",
              "          dataTable['output_type'] = 'display_data';\n",
              "          await google.colab.output.renderOutput(dataTable, element);\n",
              "          const docLink = document.createElement('div');\n",
              "          docLink.innerHTML = docLinkHtml;\n",
              "          element.appendChild(docLink);\n",
              "        }\n",
              "      </script>\n",
              "    </div>\n",
              "  </div>\n",
              "  "
            ]
          },
          "metadata": {},
          "execution_count": 34
        }
      ]
    },
    {
      "cell_type": "markdown",
      "source": [
        "(0.5 балла) Выберете столбец с данными о цене бриллиантов и домножите его на тот столбец, только транспонированный, и выведите полученную матрицу:"
      ],
      "metadata": {
        "id": "mV9jLhspyOgz"
      }
    },
    {
      "cell_type": "code",
      "source": [
        "# your code here"
      ],
      "metadata": {
        "id": "LawjtnoIymFu"
      },
      "execution_count": null,
      "outputs": []
    },
    {
      "cell_type": "markdown",
      "source": [
        "### Построение графиков"
      ],
      "metadata": {
        "id": "Pz02uapbkbGk"
      }
    },
    {
      "cell_type": "markdown",
      "source": [
        "(2 балла) Постройте график `цвет бриллианта - стоимость`:"
      ],
      "metadata": {
        "id": "4R9Rwxdq-l21"
      }
    },
    {
      "cell_type": "code",
      "source": [
        "neededcolumns = diamonds[['color', 'total_sales_price']]\n",
        "color_price_named = neededcolumns.set_axis(['Цвет','Стоимость'], axis='columns')\n",
        "graph = color_price_named.plot.scatter(x='Цвет', y='Стоимость', alpha=0.4)"
      ],
      "metadata": {
        "id": "Fo6I0j5o-vQh",
        "colab": {
          "base_uri": "https://localhost:8080/",
          "height": 465
        },
        "outputId": "0b115b09-de95-41e6-f0ca-87a7beecbe03"
      },
      "execution_count": null,
      "outputs": [
        {
          "output_type": "display_data",
          "data": {
            "text/plain": [
              "<Figure size 640x480 with 1 Axes>"
            ],
            "image/png": "[encoded data removed]"
          },
          "metadata": {}
        }
      ]
    },
    {
      "cell_type": "markdown",
      "source": [
        "(2 балла) Постройте график `лабараторная оценка - кол-во бриллиантов`:"
      ],
      "metadata": {
        "id": "W_UgFji5-vWx"
      }
    },
    {
      "cell_type": "code",
      "source": [
        "labs = diamonds['lab']\n",
        "graphic = table.hist()"
      ],
      "metadata": {
        "id": "nyT8-TRb_c24",
        "colab": {
          "base_uri": "https://localhost:8080/",
          "height": 430
        },
        "outputId": "d75a3ae7-fcf8-424b-bec8-7ff133726767"
      },
      "execution_count": null,
      "outputs": [
        {
          "output_type": "display_data",
          "data": {
            "text/plain": [
              "<Figure size 640x480 with 1 Axes>"
            ],
            "image/png": "[encoded data removed]"
          },
          "metadata": {}
        }
      ]
    },
    {
      "cell_type": "markdown",
      "source": [
        "(2 балла) Постройте график `вес бриллианта - стоимость`:"
      ],
      "metadata": {
        "id": "AgsMclnJ_c9H"
      }
    },
    {
      "cell_type": "code",
      "source": [
        "weight_price = diamonds[['carat_weight', 'total_sales_price']]\n",
        "weight_price_named = weight_price.set_axis(['Вес','Стоимость'], axis='columns')\n",
        "graphic2 = weight_price_named.plot.scatter(x='Вес', y='Стоимость', alpha=0.3)"
      ],
      "metadata": {
        "id": "tn-x3pwmANQe",
        "colab": {
          "base_uri": "https://localhost:8080/",
          "height": 465
        },
        "outputId": "a5da8c0f-4bf0-403c-b72a-8754eaa454cc"
      },
      "execution_count": null,
      "outputs": [
        {
          "output_type": "display_data",
          "data": {
            "text/plain": [
              "<Figure size 640x480 with 1 Axes>"
            ],
            "image/png": "[encoded data removed]"
          },
          "metadata": {}
        }
      ]
    },
    {
      "cell_type": "markdown",
      "source": [
        "(2 балла) Постройте график `система оценки GIA Cut - кол-во бриллиантов`:"
      ],
      "metadata": {
        "id": "0LVC1KfEAwuw"
      }
    },
    {
      "cell_type": "code",
      "source": [
        "table2 = diamonds['cut_quality']\n",
        "graphic3 = table2.hist()"
      ],
      "metadata": {
        "id": "IeuLooSIA232",
        "colab": {
          "base_uri": "https://localhost:8080/",
          "height": 430
        },
        "outputId": "368dca08-521e-4f93-f7da-c1731d8c1f6e"
      },
      "execution_count": null,
      "outputs": [
        {
          "output_type": "display_data",
          "data": {
            "text/plain": [
              "<Figure size 640x480 with 1 Axes>"
            ],
            "image/png": "[encoded data removed]"
          },
          "metadata": {}
        }
      ]
    },
    {
      "cell_type": "markdown",
      "source": [
        "(2 балла) **Сделайте выводы по построенным графикам:**"
      ],
      "metadata": {
        "id": "DRaaNLidFDhL"
      }
    },
    {
      "cell_type": "markdown",
      "source": [
        "Большая часть бриллиантов имееет GIA Cut Excellent, цена бриллианта частично зависит от его веса. Большинство бриллиантов из GIA оценки"
      ],
      "metadata": {
        "id": "iNdjR_X9lSt1"
      }
    },
    {
      "cell_type": "markdown",
      "source": [
        "## Задание 3. Модель - 30 баллов"
      ],
      "metadata": {
        "id": "JKYRkX_rBxxu"
      }
    },
    {
      "cell_type": "markdown",
      "source": [
        "Для построения модели нам понадобится 4 столбца, а именно: \n",
        "- `meas_length`\n",
        "- `meas_width`\n",
        "- `meas_depth`\n",
        "- `total_sales_price`\n",
        "\n",
        "От остальных столбцов можно избавиться."
      ],
      "metadata": {
        "id": "e78rVEGFJrVN"
      }
    },
    {
      "cell_type": "markdown",
      "source": [
        "(1 балл) Создайте новый датасет и выведите его первые 10 строк: "
      ],
      "metadata": {
        "id": "HhpeXcR1l-Ag"
      }
    },
    {
      "cell_type": "code",
      "source": [
        "dataset = diamonds[['meas_length', 'meas_width', 'meas_depth', 'total_sales_price']]"
      ],
      "metadata": {
        "id": "K87VXeCxKFrU"
      },
      "execution_count": null,
      "outputs": []
    },
    {
      "cell_type": "markdown",
      "source": [
        "(1 балл) Перемешайте строки в датафрейме случайным образом: "
      ],
      "metadata": {
        "id": "Uex8DVspKFxn"
      }
    },
    {
      "cell_type": "code",
      "source": [
        "dataset = dataset.sample(frac=1).reset_index(drop=True)"
      ],
      "metadata": {
        "id": "5lRYIwGOKOnT"
      },
      "execution_count": null,
      "outputs": []
    },
    {
      "cell_type": "markdown",
      "source": [
        "(1 балл) Сформируем новую колонку - для каждого бриллианта найдем сумму Минковского (p=3) по 3 измерениям бриллианта:"
      ],
      "metadata": {
        "id": "iEHBNONDLl64"
      }
    },
    {
      "cell_type": "code",
      "source": [
        "sum_mink1 = list()\n",
        "for i in range(dataset.count()[0]):\n",
        "  a = dataset['meas_length'][i]\n",
        "  b = dataset['meas_width'][i]\n",
        "  c = dataset['meas_depth'][i]\n",
        "  sumcur = (abs(a - b) ** 3 + abs(a - c) ** 3 + abs(b - c) ** 3) ** (1/3)\n",
        "  sum_mink1.append(sumcur)\n",
        "dataset['mink'] = sum_mink1"
      ],
      "metadata": {
        "id": "V3CTAQbAMQsR"
      },
      "execution_count": null,
      "outputs": []
    },
    {
      "cell_type": "markdown",
      "source": [
        "(1 балл) Сформируем новый датасет из двух колонок - сумма Минковского и `total_sales_price`: "
      ],
      "metadata": {
        "id": "z5s5_yB8n1Hp"
      }
    },
    {
      "cell_type": "code",
      "source": [
        "newdataset = dataset[['mink', 'total_sales_price']]"
      ],
      "metadata": {
        "id": "tXxZnWS7n9q0"
      },
      "execution_count": null,
      "outputs": []
    },
    {
      "cell_type": "markdown",
      "source": [
        "(1 балл) Разделите вашу выборку на две части в соотношении 8:2 - одна выборка будет для тренировка, а другая для тестов вашей модели:"
      ],
      "metadata": {
        "id": "aXCp0GmUKOvM"
      }
    },
    {
      "cell_type": "code",
      "source": [
        "test = newdataset.iloc[:newdataset.count()[0]//5]\n",
        "train = newdataset.iloc[newdataset.count()[0]//5:]"
      ],
      "metadata": {
        "id": "rxwHhdnFK3Lz"
      },
      "execution_count": null,
      "outputs": []
    },
    {
      "cell_type": "markdown",
      "source": [
        "(2 балла) Постройте график зависимости стоимости от вашего нового параметра размера для тренинг-выборки:"
      ],
      "metadata": {
        "id": "lhuRoIMRK3S3"
      }
    },
    {
      "cell_type": "code",
      "source": [
        "train_named = train.set_axis(['Сумма Минк.','Стоимость'], axis='columns')\n",
        "graph = train_named.plot.scatter(x='Сумма Минк.', y='Стоимость', alpha=0.2, color='red')"
      ],
      "metadata": {
        "id": "zdXv0wimNNZq",
        "colab": {
          "base_uri": "https://localhost:8080/",
          "height": 465
        },
        "outputId": "7cbe7eb5-9c71-41be-f51f-e597acb1070e"
      },
      "execution_count": null,
      "outputs": [
        {
          "output_type": "display_data",
          "data": {
            "text/plain": [
              "<Figure size 640x480 with 1 Axes>"
            ],
            "image/png": "[encoded data removed]"
          },
          "metadata": {}
        }
      ]
    },
    {
      "cell_type": "markdown",
      "source": [
        "(2 балла) Нанесите на тот же график тестовую выборку, используя другой цвет (не забудьте про параметр прозрачности):"
      ],
      "metadata": {
        "id": "0cUx_FSiNOUx"
      }
    },
    {
      "cell_type": "code",
      "source": [
        "plt.xlabel('Сумма Минковского')\n",
        "plt.ylabel('Стоимость')\n",
        "plt.scatter(x=train['mink'],y=train['total_sales_price'],c='red',alpha=0.3)\n",
        "plt.scatter(x=test['mink'],y=test['total_sales_price'],c='blue',alpha=0.3)"
      ],
      "metadata": {
        "id": "R09w4W7VNnM2",
        "colab": {
          "base_uri": "https://localhost:8080/",
          "height": 482
        },
        "outputId": "9c294846-d9da-4711-d57d-b15edef7d696"
      },
      "execution_count": null,
      "outputs": [
        {
          "output_type": "execute_result",
          "data": {
            "text/plain": [
              "<matplotlib.collections.PathCollection at 0x7fa00ec0f580>"
            ]
          },
          "metadata": {},
          "execution_count": 60
        },
        {
          "output_type": "display_data",
          "data": {
            "text/plain": [
              "<Figure size 640x480 with 1 Axes>"
            ],
            "image/png": "[encoded data removed]"
          },
          "metadata": {}
        }
      ]
    },
    {
      "cell_type": "markdown",
      "source": [
        "(3 балла) Найдите для каждой бриллианта из тестовой выборки его \"ближайшего соседа\" из тренинг-выборки. Для каждого бриллианта из тестовой выборки найдите расстояния до соответствующего ближайшего соседа:"
      ],
      "metadata": {
        "id": "VwIIccnpNnVj"
      }
    },
    {
      "cell_type": "code",
      "source": [
        "from sklearn.neighbors import NearestNeighbors\n",
        "nbrs = NearestNeighbors(n_neighbors=1, algorithm='ball_tree').fit(test)\n",
        "distances, indices = nbrs.kneighbors(train)\n",
        "distances"
      ],
      "metadata": {
        "id": "t_jpKJ54OBb0",
        "colab": {
          "base_uri": "https://localhost:8080/"
        },
        "outputId": "9d5944ed-bb93-47fc-819a-3cad7eaadfe8"
      },
      "execution_count": null,
      "outputs": [
        {
          "output_type": "execute_result",
          "data": {
            "text/plain": [
              "array([[1.30674720e+01],\n",
              "       [1.29401421e+03],\n",
              "       [0.00000000e+00],\n",
              "       ...,\n",
              "       [7.39091361e-04],\n",
              "       [4.07017100e-01],\n",
              "       [1.69356527e+00]])"
            ]
          },
          "metadata": {},
          "execution_count": 67
        }
      ]
    },
    {
      "cell_type": "markdown",
      "source": [
        "(3 балла) Найдите насколько сильно (в процентах) отличается цена бриллиантов из тестовой выборки от их соответствующих ближайших соседей:"
      ],
      "metadata": {
        "id": "7R0uaHqurV_u"
      }
    },
    {
      "cell_type": "code",
      "source": [
        "diff = []\n",
        "for i in range(test.count()[0]):\n",
        "  diff.append(distances[i][0] / test['total_sales_price'][i] * 100)\n",
        "print(sum(diff) / test.count()[0])"
      ],
      "metadata": {
        "id": "Uy2ngWJ4rn-4",
        "colab": {
          "base_uri": "https://localhost:8080/"
        },
        "outputId": "de01095f-8337-4945-cff2-8593936c8e61"
      },
      "execution_count": null,
      "outputs": [
        {
          "output_type": "stream",
          "name": "stdout",
          "text": [
            "0.8099293836417756\n"
          ]
        }
      ]
    },
    {
      "cell_type": "markdown",
      "source": [
        "**Данная модель является выдумкой автора. Не важен коэффициент ошибки, важны ваши шаги для получения коэффициента.**"
      ],
      "metadata": {
        "id": "tl0CHY6_OAxU"
      }
    },
    {
      "cell_type": "markdown",
      "source": [
        "### Введение в машинное обучение"
      ],
      "metadata": {
        "id": "AbrAdKSUrqz5"
      }
    },
    {
      "cell_type": "markdown",
      "source": [
        "(3 балла) Мы работаем с категориальными признаками, для них не понятно что есть \"больше\" и \"меньше\". Поэтому нам нужно предварительно закодировать значения наших признаков, с чем нам поможет [OneHotEncoder](https://scikit-learn.org/stable/modules/generated/sklearn.preprocessing.OneHotEncoder.html):"
      ],
      "metadata": {
        "id": "rScraaVSxQlT"
      }
    },
    {
      "cell_type": "code",
      "source": [
        "from sklearn.preprocessing import OneHotEncoder\n",
        "datalearn = diamonds[['cut', 'lab']]\n",
        "Encoder = OneHotEncoder(handle_unknown='ignore')\n",
        "Encoder.fit(datalearn)\n",
        "datalearn = Encoder.transform(datalearn).toarray()"
      ],
      "metadata": {
        "id": "G8hDstLlxjry"
      },
      "execution_count": null,
      "outputs": []
    },
    {
      "cell_type": "markdown",
      "source": [
        "(3 балла) Разбейте датасет на обучающую и тестовую выбору. Для этого вам поможет [train_test_split](https://scikit-learn.org/stable/modules/generated/sklearn.model_selection.train_test_split.html):"
      ],
      "metadata": {
        "id": "ig8t-nmRvojA"
      }
    },
    {
      "cell_type": "code",
      "source": [
        "from sklearn.model_selection import train_test_split\n",
        "X_train, X_test, y_train, y_test = train_test_split(datalearn, list(diamonds['total_sales_price']), train_size=1)"
      ],
      "metadata": {
        "id": "ChVKP43AwY8i"
      },
      "execution_count": null,
      "outputs": []
    },
    {
      "cell_type": "markdown",
      "source": [
        "(3 балла) Затем создайте и обучите вашу модель - [DecisionTreeRegressor](https://scikit-learn.org/stable/modules/generated/sklearn.tree.DecisionTreeRegressor.html):"
      ],
      "metadata": {
        "id": "gbv2zLpkwZsq"
      }
    },
    {
      "cell_type": "code",
      "source": [
        "from sklearn import tree\n",
        "clf = tree.DecisionTreeClassifier()\n",
        "clf = clf.fit(X_train, y_train)"
      ],
      "metadata": {
        "id": "Qfvv2j6Sws8p"
      },
      "execution_count": null,
      "outputs": []
    },
    {
      "cell_type": "markdown",
      "source": [
        "(3 балла) Оцените ошибку вашей модели при помощи [mean_squared_error](https://scikit-learn.org/stable/modules/generated/sklearn.metrics.mean_squared_error.html):"
      ],
      "metadata": {
        "id": "nUvBoY1pwtIv"
      }
    },
    {
      "cell_type": "code",
      "source": [
        "from sklearn.metrics import mean_squared_error\n",
        "y_pred = clf.predict(X_test)\n",
        "mean_squared_error(y_pred, y_test)"
      ],
      "metadata": {
        "id": "q946oHPaxGA4",
        "colab": {
          "base_uri": "https://localhost:8080/"
        },
        "outputId": "824f55dd-b58a-4d89-a4f2-af50d0adf845"
      },
      "execution_count": null,
      "outputs": [
        {
          "output_type": "execute_result",
          "data": {
            "text/plain": [
              "707119907.7635934"
            ]
          },
          "metadata": {},
          "execution_count": 78
        }
      ]
    },
    {
      "cell_type": "markdown",
      "source": [
        "(3 балла) **Сделайте выводы какие категориальные признаки лучше:**"
      ],
      "metadata": {
        "id": "scWwHLEKxGPl"
      }
    },
    {
      "cell_type": "markdown",
      "source": [
        "Категориальные признаки не очень хорошо описывают цену бриллианта. Готовые инструменты для работы гораздо удобнее написанных мной и работают значительно быстрее"
      ],
      "metadata": {
        "id": "djE6Ke2bL5WS"
      }
    }
  ]
}